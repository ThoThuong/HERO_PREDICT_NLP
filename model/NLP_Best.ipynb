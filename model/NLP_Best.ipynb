{
  "nbformat": 4,
  "nbformat_minor": 0,
  "metadata": {
    "colab": {
      "name": "NLP_Best.ipynb",
      "provenance": [],
      "collapsed_sections": [],
      "toc_visible": true
    },
    "kernelspec": {
      "name": "python3",
      "display_name": "Python 3"
    },
    "accelerator": "GPU"
  },
  "cells": [
    {
      "cell_type": "markdown",
      "metadata": {
        "id": "k9R9ibrBFsFi"
      },
      "source": [
        "# New Section"
      ]
    },
    {
      "cell_type": "code",
      "metadata": {
        "colab": {
          "base_uri": "https://localhost:8080/"
        },
        "id": "q_R7eVyfxYOU",
        "outputId": "6e949c06-9be1-4dfd-a94d-998c1032c061"
      },
      "source": [
        "from google.colab import drive\n",
        "drive.mount('/content/drive/')"
      ],
      "execution_count": null,
      "outputs": [
        {
          "output_type": "stream",
          "text": [
            "Mounted at /content/drive/\n"
          ],
          "name": "stdout"
        }
      ]
    },
    {
      "cell_type": "code",
      "metadata": {
        "colab": {
          "base_uri": "https://localhost:8080/"
        },
        "id": "A5Lnqh2cLcps",
        "outputId": "d6622977-bd76-44fc-fa27-2575d6b58fe7"
      },
      "source": [
        "!pip install underthesea\r\n",
        "!pip install gensim\r\n",
        "!pip install fasttext"
      ],
      "execution_count": null,
      "outputs": [
        {
          "output_type": "stream",
          "text": [
            "Collecting underthesea\n",
            "\u001b[?25l  Downloading https://files.pythonhosted.org/packages/15/53/50ab756869f23d2bd1b3978d6b1c17c650d90abd5928701e7bd65adb6986/underthesea-1.3.0-py3-none-any.whl (7.5MB)\n",
            "\u001b[K     |████████████████████████████████| 7.5MB 10.2MB/s \n",
            "\u001b[?25hCollecting seqeval\n",
            "\u001b[?25l  Downloading https://files.pythonhosted.org/packages/9d/2d/233c79d5b4e5ab1dbf111242299153f3caddddbb691219f363ad55ce783d/seqeval-1.2.2.tar.gz (43kB)\n",
            "\u001b[K     |████████████████████████████████| 51kB 7.4MB/s \n",
            "\u001b[?25hCollecting scikit-learn<0.22,>=0.20\n",
            "\u001b[?25l  Downloading https://files.pythonhosted.org/packages/a0/c5/d2238762d780dde84a20b8c761f563fe882b88c5a5fb03c056547c442a19/scikit_learn-0.21.3-cp36-cp36m-manylinux1_x86_64.whl (6.7MB)\n",
            "\u001b[K     |████████████████████████████████| 6.7MB 43.6MB/s \n",
            "\u001b[?25hRequirement already satisfied: joblib in /usr/local/lib/python3.6/dist-packages (from underthesea) (0.17.0)\n",
            "Collecting unidecode\n",
            "\u001b[?25l  Downloading https://files.pythonhosted.org/packages/d0/42/d9edfed04228bacea2d824904cae367ee9efd05e6cce7ceaaedd0b0ad964/Unidecode-1.1.1-py2.py3-none-any.whl (238kB)\n",
            "\u001b[K     |████████████████████████████████| 245kB 48.3MB/s \n",
            "\u001b[?25hRequirement already satisfied: Click>=6.0 in /usr/local/lib/python3.6/dist-packages (from underthesea) (7.1.2)\n",
            "Requirement already satisfied: tqdm in /usr/local/lib/python3.6/dist-packages (from underthesea) (4.41.1)\n",
            "Collecting python-crfsuite>=0.9.6\n",
            "\u001b[?25l  Downloading https://files.pythonhosted.org/packages/95/99/869dde6dbf3e0d07a013c8eebfb0a3d30776334e0097f8432b631a9a3a19/python_crfsuite-0.9.7-cp36-cp36m-manylinux1_x86_64.whl (743kB)\n",
            "\u001b[K     |████████████████████████████████| 747kB 46.8MB/s \n",
            "\u001b[?25hRequirement already satisfied: nltk in /usr/local/lib/python3.6/dist-packages (from underthesea) (3.2.5)\n",
            "Requirement already satisfied: requests in /usr/local/lib/python3.6/dist-packages (from underthesea) (2.23.0)\n",
            "Collecting torch<=1.5.1,>=1.1.0\n",
            "\u001b[?25l  Downloading https://files.pythonhosted.org/packages/62/01/457b49d790b6c4b9720e6f9dbbb617692f6ce8afdaadf425c055c41a7416/torch-1.5.1-cp36-cp36m-manylinux1_x86_64.whl (753.2MB)\n",
            "\u001b[K     |████████████████████████████████| 753.2MB 23kB/s \n",
            "\u001b[?25hCollecting transformers<=3.5.1,>=3.5.0\n",
            "\u001b[?25l  Downloading https://files.pythonhosted.org/packages/3a/83/e74092e7f24a08d751aa59b37a9fc572b2e4af3918cb66f7766c3affb1b4/transformers-3.5.1-py3-none-any.whl (1.3MB)\n",
            "\u001b[K     |████████████████████████████████| 1.3MB 45.0MB/s \n",
            "\u001b[?25hRequirement already satisfied: PyYAML in /usr/local/lib/python3.6/dist-packages (from underthesea) (3.13)\n",
            "Requirement already satisfied: numpy>=1.14.0 in /usr/local/lib/python3.6/dist-packages (from seqeval->underthesea) (1.18.5)\n",
            "Requirement already satisfied: scipy>=0.17.0 in /usr/local/lib/python3.6/dist-packages (from scikit-learn<0.22,>=0.20->underthesea) (1.4.1)\n",
            "Requirement already satisfied: six in /usr/local/lib/python3.6/dist-packages (from nltk->underthesea) (1.15.0)\n",
            "Requirement already satisfied: urllib3!=1.25.0,!=1.25.1,<1.26,>=1.21.1 in /usr/local/lib/python3.6/dist-packages (from requests->underthesea) (1.24.3)\n",
            "Requirement already satisfied: idna<3,>=2.5 in /usr/local/lib/python3.6/dist-packages (from requests->underthesea) (2.10)\n",
            "Requirement already satisfied: certifi>=2017.4.17 in /usr/local/lib/python3.6/dist-packages (from requests->underthesea) (2020.12.5)\n",
            "Requirement already satisfied: chardet<4,>=3.0.2 in /usr/local/lib/python3.6/dist-packages (from requests->underthesea) (3.0.4)\n",
            "Requirement already satisfied: future in /usr/local/lib/python3.6/dist-packages (from torch<=1.5.1,>=1.1.0->underthesea) (0.16.0)\n",
            "Requirement already satisfied: protobuf in /usr/local/lib/python3.6/dist-packages (from transformers<=3.5.1,>=3.5.0->underthesea) (3.12.4)\n",
            "Requirement already satisfied: regex!=2019.12.17 in /usr/local/lib/python3.6/dist-packages (from transformers<=3.5.1,>=3.5.0->underthesea) (2019.12.20)\n",
            "Collecting sacremoses\n",
            "\u001b[?25l  Downloading https://files.pythonhosted.org/packages/7d/34/09d19aff26edcc8eb2a01bed8e98f13a1537005d31e95233fd48216eed10/sacremoses-0.0.43.tar.gz (883kB)\n",
            "\u001b[K     |████████████████████████████████| 890kB 46.6MB/s \n",
            "\u001b[?25hCollecting sentencepiece==0.1.91\n",
            "\u001b[?25l  Downloading https://files.pythonhosted.org/packages/d4/a4/d0a884c4300004a78cca907a6ff9a5e9fe4f090f5d95ab341c53d28cbc58/sentencepiece-0.1.91-cp36-cp36m-manylinux1_x86_64.whl (1.1MB)\n",
            "\u001b[K     |████████████████████████████████| 1.1MB 49.7MB/s \n",
            "\u001b[?25hRequirement already satisfied: filelock in /usr/local/lib/python3.6/dist-packages (from transformers<=3.5.1,>=3.5.0->underthesea) (3.0.12)\n",
            "Collecting tokenizers==0.9.3\n",
            "\u001b[?25l  Downloading https://files.pythonhosted.org/packages/4c/34/b39eb9994bc3c999270b69c9eea40ecc6f0e97991dba28282b9fd32d44ee/tokenizers-0.9.3-cp36-cp36m-manylinux1_x86_64.whl (2.9MB)\n",
            "\u001b[K     |████████████████████████████████| 2.9MB 37.0MB/s \n",
            "\u001b[?25hRequirement already satisfied: dataclasses; python_version < \"3.7\" in /usr/local/lib/python3.6/dist-packages (from transformers<=3.5.1,>=3.5.0->underthesea) (0.8)\n",
            "Requirement already satisfied: packaging in /usr/local/lib/python3.6/dist-packages (from transformers<=3.5.1,>=3.5.0->underthesea) (20.7)\n",
            "Requirement already satisfied: setuptools in /usr/local/lib/python3.6/dist-packages (from protobuf->transformers<=3.5.1,>=3.5.0->underthesea) (50.3.2)\n",
            "Requirement already satisfied: pyparsing>=2.0.2 in /usr/local/lib/python3.6/dist-packages (from packaging->transformers<=3.5.1,>=3.5.0->underthesea) (2.4.7)\n",
            "Building wheels for collected packages: seqeval, sacremoses\n",
            "  Building wheel for seqeval (setup.py) ... \u001b[?25l\u001b[?25hdone\n",
            "  Created wheel for seqeval: filename=seqeval-1.2.2-cp36-none-any.whl size=16171 sha256=95d076be957d99174944d8c88105921191a3cec069a6cad8cd8977ca477ac066\n",
            "  Stored in directory: /root/.cache/pip/wheels/52/df/1b/45d75646c37428f7e626214704a0e35bd3cfc32eda37e59e5f\n",
            "  Building wheel for sacremoses (setup.py) ... \u001b[?25l\u001b[?25hdone\n",
            "  Created wheel for sacremoses: filename=sacremoses-0.0.43-cp36-none-any.whl size=893261 sha256=54aea08373db7f6b104099a880156a68648aebe1ed3422cf22dc1f2b34883c80\n",
            "  Stored in directory: /root/.cache/pip/wheels/29/3c/fd/7ce5c3f0666dab31a50123635e6fb5e19ceb42ce38d4e58f45\n",
            "Successfully built seqeval sacremoses\n",
            "\u001b[31mERROR: torchvision 0.8.1+cu101 has requirement torch==1.7.0, but you'll have torch 1.5.1 which is incompatible.\u001b[0m\n",
            "Installing collected packages: scikit-learn, seqeval, unidecode, python-crfsuite, torch, sacremoses, sentencepiece, tokenizers, transformers, underthesea\n",
            "  Found existing installation: scikit-learn 0.22.2.post1\n",
            "    Uninstalling scikit-learn-0.22.2.post1:\n",
            "      Successfully uninstalled scikit-learn-0.22.2.post1\n",
            "  Found existing installation: torch 1.7.0+cu101\n",
            "    Uninstalling torch-1.7.0+cu101:\n",
            "      Successfully uninstalled torch-1.7.0+cu101\n",
            "Successfully installed python-crfsuite-0.9.7 sacremoses-0.0.43 scikit-learn-0.21.3 sentencepiece-0.1.91 seqeval-1.2.2 tokenizers-0.9.3 torch-1.5.1 transformers-3.5.1 underthesea-1.3.0 unidecode-1.1.1\n",
            "Requirement already satisfied: gensim in /usr/local/lib/python3.6/dist-packages (3.6.0)\n",
            "Requirement already satisfied: six>=1.5.0 in /usr/local/lib/python3.6/dist-packages (from gensim) (1.15.0)\n",
            "Requirement already satisfied: numpy>=1.11.3 in /usr/local/lib/python3.6/dist-packages (from gensim) (1.18.5)\n",
            "Requirement already satisfied: scipy>=0.18.1 in /usr/local/lib/python3.6/dist-packages (from gensim) (1.4.1)\n",
            "Requirement already satisfied: smart-open>=1.2.1 in /usr/local/lib/python3.6/dist-packages (from gensim) (4.0.1)\n",
            "Collecting fasttext\n",
            "\u001b[?25l  Downloading https://files.pythonhosted.org/packages/f8/85/e2b368ab6d3528827b147fdb814f8189acc981a4bc2f99ab894650e05c40/fasttext-0.9.2.tar.gz (68kB)\n",
            "\u001b[K     |████████████████████████████████| 71kB 6.1MB/s \n",
            "\u001b[?25hRequirement already satisfied: pybind11>=2.2 in /usr/local/lib/python3.6/dist-packages (from fasttext) (2.6.1)\n",
            "Requirement already satisfied: setuptools>=0.7.0 in /usr/local/lib/python3.6/dist-packages (from fasttext) (50.3.2)\n",
            "Requirement already satisfied: numpy in /usr/local/lib/python3.6/dist-packages (from fasttext) (1.18.5)\n",
            "Building wheels for collected packages: fasttext\n",
            "  Building wheel for fasttext (setup.py) ... \u001b[?25l\u001b[?25hdone\n",
            "  Created wheel for fasttext: filename=fasttext-0.9.2-cp36-cp36m-linux_x86_64.whl size=3038090 sha256=c79d6470d9e169095403995631c75454097bd9330d24ff6cc69afbf9ec1db879\n",
            "  Stored in directory: /root/.cache/pip/wheels/98/ba/7f/b154944a1cf5a8cee91c154b75231136cc3a3321ab0e30f592\n",
            "Successfully built fasttext\n",
            "Installing collected packages: fasttext\n",
            "Successfully installed fasttext-0.9.2\n"
          ],
          "name": "stdout"
        }
      ]
    },
    {
      "cell_type": "code",
      "metadata": {
        "id": "ZDuTjKHvs0Cy"
      },
      "source": [
        "import os\r\n",
        "import re\r\n",
        "import gzip\r\n",
        "import keras\r\n",
        "import fasttext\r\n",
        "import numpy as np\r\n",
        "import pandas as pd\r\n",
        "from matplotlib import pyplot as plt\r\n",
        "import string\r\n",
        "from underthesea import word_tokenize\r\n",
        "from gensim.utils import simple_preprocess\r\n",
        "from gensim.models.wrappers import FastText\r\n",
        "from keras.preprocessing.sequence import pad_sequences\r\n",
        "from sklearn.model_selection import train_test_split\r\n",
        "from keras.preprocessing import sequence\r\n",
        "from sklearn.preprocessing import LabelEncoder\r\n",
        "\r\n",
        "from keras.models import Sequential \r\n",
        "from keras.layers import Dense, Embedding \r\n",
        "from keras.layers import LSTM \r\n",
        "from keras.layers.wrappers import Bidirectional\r\n",
        "from keras.layers import Dense, Lambda, dot, Activation, concatenate, Embedding, LSTM, Dropout, Conv1D, MaxPooling1D, Flatten, BatchNormalization, AveragePooling1D\r\n",
        "import gensim as gs\r\n",
        "import tensorflow as tf\r\n",
        "\r\n",
        "from gensim.models import FastText"
      ],
      "execution_count": null,
      "outputs": []
    },
    {
      "cell_type": "code",
      "metadata": {
        "id": "pYX7hB1aypfl",
        "colab": {
          "base_uri": "https://localhost:8080/"
        },
        "outputId": "7e10247d-6c8a-419a-933b-ae641df7e4e1"
      },
      "source": [
        "def getAllpath(pathContent):\n",
        "  for dirname, _, filenames in os.walk(pathContent):\n",
        "    for filename in filenames:\n",
        "        print(os.path.join(dirname, filename))\n",
        "pathContent='/content/drive/MyDrive/Colab Notebooks/Report2NLP/input/'\n",
        "getAllpath(pathContent)"
      ],
      "execution_count": null,
      "outputs": [
        {
          "output_type": "stream",
          "text": [
            "/content/drive/MyDrive/Colab Notebooks/Report2NLP/input/Vietnamese_stopwords/vietnamese-stopwords-dash.txt\n",
            "/content/drive/MyDrive/Colab Notebooks/Report2NLP/input/datacsv/1sao.csv\n",
            "/content/drive/MyDrive/Colab Notebooks/Report2NLP/input/datacsv/2sao.csv\n",
            "/content/drive/MyDrive/Colab Notebooks/Report2NLP/input/datacsv/3sao.csv\n",
            "/content/drive/MyDrive/Colab Notebooks/Report2NLP/input/datacsv/4sao.csv\n",
            "/content/drive/MyDrive/Colab Notebooks/Report2NLP/input/embeddings/cc.vi.300.bin\n",
            "/content/drive/MyDrive/Colab Notebooks/Report2NLP/input/embeddings/w2vsg_embdeding.model\n",
            "/content/drive/MyDrive/Colab Notebooks/Report2NLP/input/model_predict/model128.h5\n"
          ],
          "name": "stdout"
        }
      ]
    },
    {
      "cell_type": "markdown",
      "metadata": {
        "id": "0NqAUaXwzG28"
      },
      "source": [
        "Create stopword list\n"
      ]
    },
    {
      "cell_type": "code",
      "metadata": {
        "id": "wLOP5WJozFej"
      },
      "source": [
        "def create_stopwords(path,original_stopwords):\n",
        "  with open(path, encoding=\"utf-8\") as words:\n",
        "    return [w[:len(w) - 1] for w in words] + original_stopwords\n",
        "\n",
        "original_stopwords = [\"tiki\",\"lazada\", \"shopee\"]\n",
        "stopwords = create_stopwords('/content/drive/MyDrive/Colab Notebooks/Report2NLP/input/Vietnamese_stopwords/vietnamese-stopwords-dash.txt',original_stopwords)\n"
      ],
      "execution_count": null,
      "outputs": []
    },
    {
      "cell_type": "code",
      "metadata": {
        "id": "Bswwv8JZz5nL",
        "colab": {
          "base_uri": "https://localhost:8080/"
        },
        "outputId": "f15307b0-2094-4103-f8a1-36b868bf101d"
      },
      "source": [
        "len(stopwords)"
      ],
      "execution_count": null,
      "outputs": [
        {
          "output_type": "execute_result",
          "data": {
            "text/plain": [
              "1867"
            ]
          },
          "metadata": {
            "tags": []
          },
          "execution_count": 6
        }
      ]
    },
    {
      "cell_type": "markdown",
      "metadata": {
        "id": "rw8Zk8R6TYBM"
      },
      "source": [
        "Get data\n"
      ]
    },
    {
      "cell_type": "code",
      "metadata": {
        "id": "CYB4tvntTb5C"
      },
      "source": [
        "names = [\"classes\", \"content\"]\n",
        "data1sao=pd.read_csv('/content/drive/MyDrive/Colab Notebooks/Report2NLP/input/datacsv/1sao.csv', names=names)\n",
        "data2sao=pd.read_csv('/content/drive/MyDrive/Colab Notebooks/Report2NLP/input/datacsv/2sao.csv', names=names)\n",
        "data3sao=pd.read_csv('/content/drive/MyDrive/Colab Notebooks/Report2NLP/input/datacsv/3sao.csv', names=names)\n",
        "data4sao=pd.read_csv('/content/drive/MyDrive/Colab Notebooks/Report2NLP/input/datacsv/4sao.csv', names=names)\n",
        "dataset=pd.concat([data1sao,data2sao,data3sao,data4sao])"
      ],
      "execution_count": null,
      "outputs": []
    },
    {
      "cell_type": "code",
      "metadata": {
        "id": "3Lspi06XU69O",
        "colab": {
          "base_uri": "https://localhost:8080/"
        },
        "outputId": "a9ade466-5e90-47f3-bf59-40eecc46dbc4"
      },
      "source": [
        "dataset.shape"
      ],
      "execution_count": null,
      "outputs": [
        {
          "output_type": "execute_result",
          "data": {
            "text/plain": [
              "(36844, 2)"
            ]
          },
          "metadata": {
            "tags": []
          },
          "execution_count": 8
        }
      ]
    },
    {
      "cell_type": "code",
      "metadata": {
        "id": "mz40BKWj0EV7"
      },
      "source": [
        "def clean_text(text):  \n",
        "    # preprocessing ....\n",
        "    text = text.translate(str.maketrans('', '', string.punctuation))\n",
        "    text = text.translate(str.maketrans('', '', string.digits))\n",
        "    ## Remove puncuation\n",
        "    text = text.translate(string.punctuation)\n",
        "    ## Convert words to lower case and split them\n",
        "    text = text.lower().split()\n",
        "    text = \" \".join(text)\n",
        "    return text\n",
        "dataset['content'] = dataset['content'].map(lambda x: clean_text(x))"
      ],
      "execution_count": null,
      "outputs": []
    },
    {
      "cell_type": "code",
      "metadata": {
        "id": "Qec3dBzZZj8g"
      },
      "source": [
        "def word_processing_teacher(sentence,stopwords):\n",
        "  sentence = \" \".join(simple_preprocess(sentence))\n",
        "  sentence = [word for word in word_tokenize(sentence.lower(), format=\"text\").split() if word not in stopwords]\n",
        "  return [word for word in sentence if word != \"\"]\n",
        "input_sentences = [word_processing_teacher(str(sentence),stopwords) for sentence in dataset[\"content\"].values.tolist()]"
      ],
      "execution_count": null,
      "outputs": []
    },
    {
      "cell_type": "code",
      "metadata": {
        "id": "isQuH8ODaloX",
        "colab": {
          "base_uri": "https://localhost:8080/"
        },
        "outputId": "b6482804-ad49-4ec3-fc5e-7ece298873bc"
      },
      "source": [
        "data_label_1 = dataset[dataset['classes']==1]['content'].values\r\n",
        "data_label_2 = dataset[dataset['classes']==2]['content'].values\r\n",
        "data_label_3 = dataset[dataset['classes']==3]['content'].values\r\n",
        "data_label_4 = dataset[dataset['classes']==4]['content'].values\r\n",
        "print(data_label_1[:5])"
      ],
      "execution_count": null,
      "outputs": [
        {
          "output_type": "stream",
          "text": [
            "['vỏ ốp tai nghe không có đèn báo hiệu chất lượng âm thanh kém tín hiệu chập chờn'\n",
            " 'bị treo khi khởi động lại bằng app tether phải khởi động thủ công bằng tay tắt và mở lại nguồn khởi động hơn phút khá là lâu so với các thiết bị router tầm trung khác kiểm tra cùng các hãng technicolor tplink wrn mặc dù quảng cáo là chuẩn n max mb nhưng chất lượng chậm còn thua các router chuẩn n max mb kiểm tra cùng đường truyền mb chắc không đạt chuẩn rồi băng tần g thì phát quá yếu cách m và qua lớp cửa gỗ thôi đã mất cột sóng đo bằng điện thoại samsung nên trong cùng tầm giá k nên chọn router ac băng tần kép có khi tận dụng được băng tần g lại ổn hơn hoặc chọn router chuẩn n max m là hợp lý'\n",
            " 'chuột dùng rất ổn trong gần tháng đầu nhưng sau đó đột ngột không sử dụng được nữa đêm hôm trước dùng bt sáng hôm sau bật lên đèn nhưng chuột không di chuyển mình mua con ở tiki và ở shopee cách nhau tuần và con hỏng cách nhau đúng tuần có thể có vấn đề ở dòng sản phẩm này mình đã phải yêu cầu bảo hành từ tiki để chờ sau bảo hành như thế nào mình sẽ update tiếp nếu ổn sẽ chấm lại sao để đảm bảo công bằng cho shop'\n",
            " 'đặt hàng ngày lịch giao hàng ngày cùng ngày mình khi kiểm tra chưa tiếp nhận và đóng hàng gửi đi mình phải gửi yêu cầu xứ lý đơn hàng mới bắt đầu xử lý đơn hàng và gửi đi đến ngày mình mới nhận được hàngkhi sử dụng đầu tín hiệu không nhận trên pc mình có đầu cũ nhận bình thường'\n",
            " 'đặt hàng từ mùng đến mới nhận được đóng gói cẩn thận lớp hộp sản phẩm không giống mô tả vừa cắm vào thì âm thanh nhỏ lúc sau không nghe thế dù đã chỉnhtừ lúc nhận sản phẩm đến khi không nghe được nữa vỏn vẹn phút']\n"
          ],
          "name": "stdout"
        }
      ]
    },
    {
      "cell_type": "code",
      "metadata": {
        "id": "s2A6_grzViPr",
        "colab": {
          "base_uri": "https://localhost:8080/"
        },
        "outputId": "27ccce69-be82-416b-cfd9-2bb8b60ea0e6"
      },
      "source": [
        "data_train = dataset['content'].values\r\n",
        "data_train.shape"
      ],
      "execution_count": null,
      "outputs": [
        {
          "output_type": "execute_result",
          "data": {
            "text/plain": [
              "(36844,)"
            ]
          },
          "metadata": {
            "tags": []
          },
          "execution_count": 12
        }
      ]
    },
    {
      "cell_type": "code",
      "metadata": {
        "id": "gnx8Y8KqVwcQ"
      },
      "source": [
        "def tao_tu_dien(data):\r\n",
        "  my_dict = {}\r\n",
        "  for sentences in data:\r\n",
        "    for words in sentences.split(' '):\r\n",
        "      if words not in my_dict:\r\n",
        "        my_dict[words] = 1\r\n",
        "  return my_dict\r\n"
      ],
      "execution_count": null,
      "outputs": []
    },
    {
      "cell_type": "code",
      "metadata": {
        "id": "26PKReYWV1OC",
        "colab": {
          "base_uri": "https://localhost:8080/"
        },
        "outputId": "5a07636f-29e7-4a0d-b069-db9192830b3a"
      },
      "source": [
        "my_dict = tao_tu_dien(data_train)\r\n",
        "print(my_dict)"
      ],
      "execution_count": null,
      "outputs": [
        {
          "output_type": "stream",
          "text": [
            "{'vỏ': 1, 'ốp': 1, 'tai': 1, 'nghe': 1, 'không': 1, 'có': 1, 'đèn': 1, 'báo': 1, 'hiệu': 1, 'chất': 1, 'lượng': 1, 'âm': 1, 'thanh': 1, 'kém': 1, 'tín': 1, 'chập': 1, 'chờn': 1, 'bị': 1, 'treo': 1, 'khi': 1, 'khởi': 1, 'động': 1, 'lại': 1, 'bằng': 1, 'app': 1, 'tether': 1, 'phải': 1, 'thủ': 1, 'công': 1, 'tay': 1, 'tắt': 1, 'và': 1, 'mở': 1, 'nguồn': 1, 'hơn': 1, 'phút': 1, 'khá': 1, 'là': 1, 'lâu': 1, 'so': 1, 'với': 1, 'các': 1, 'thiết': 1, 'router': 1, 'tầm': 1, 'trung': 1, 'khác': 1, 'kiểm': 1, 'tra': 1, 'cùng': 1, 'hãng': 1, 'technicolor': 1, 'tplink': 1, 'wrn': 1, 'mặc': 1, 'dù': 1, 'quảng': 1, 'cáo': 1, 'chuẩn': 1, 'n': 1, 'max': 1, 'mb': 1, 'nhưng': 1, 'chậm': 1, 'còn': 1, 'thua': 1, 'đường': 1, 'truyền': 1, 'chắc': 1, 'đạt': 1, 'rồi': 1, 'băng': 1, 'tần': 1, 'g': 1, 'thì': 1, 'phát': 1, 'quá': 1, 'yếu': 1, 'cách': 1, 'm': 1, 'qua': 1, 'lớp': 1, 'cửa': 1, 'gỗ': 1, 'thôi': 1, 'đã': 1, 'mất': 1, 'cột': 1, 'sóng': 1, 'đo': 1, 'điện': 1, 'thoại': 1, 'samsung': 1, 'nên': 1, 'trong': 1, 'giá': 1, 'k': 1, 'chọn': 1, 'ac': 1, 'kép': 1, 'tận': 1, 'dụng': 1, 'được': 1, 'ổn': 1, 'hoặc': 1, 'hợp': 1, 'lý': 1, 'chuột': 1, 'dùng': 1, 'rất': 1, 'gần': 1, 'tháng': 1, 'đầu': 1, 'sau': 1, 'đó': 1, 'đột': 1, 'ngột': 1, 'sử': 1, 'nữa': 1, 'đêm': 1, 'hôm': 1, 'trước': 1, 'bt': 1, 'sáng': 1, 'bật': 1, 'lên': 1, 'di': 1, 'chuyển': 1, 'mình': 1, 'mua': 1, 'con': 1, 'ở': 1, 'tiki': 1, 'shopee': 1, 'nhau': 1, 'tuần': 1, 'hỏng': 1, 'đúng': 1, 'thể': 1, 'vấn': 1, 'đề': 1, 'dòng': 1, 'sản': 1, 'phẩm': 1, 'này': 1, 'yêu': 1, 'cầu': 1, 'bảo': 1, 'hành': 1, 'từ': 1, 'để': 1, 'chờ': 1, 'như': 1, 'thế': 1, 'nào': 1, 'sẽ': 1, 'update': 1, 'tiếp': 1, 'nếu': 1, 'chấm': 1, 'sao': 1, 'đảm': 1, 'cho': 1, 'shop': 1, 'đặt': 1, 'hàng': 1, 'ngày': 1, 'lịch': 1, 'giao': 1, 'chưa': 1, 'nhận': 1, 'đóng': 1, 'gửi': 1, 'đi': 1, 'xứ': 1, 'đơn': 1, 'mới': 1, 'bắt': 1, 'xử': 1, 'đến': 1, 'hàngkhi': 1, 'trên': 1, 'pc': 1, 'cũ': 1, 'bình': 1, 'thường': 1, 'mùng': 1, 'gói': 1, 'cẩn': 1, 'thận': 1, 'hộp': 1, 'giống': 1, 'mô': 1, 'tả': 1, 'vừa': 1, 'cắm': 1, 'vào': 1, 'nhỏ': 1, 'lúc': 1, 'chỉnhtừ': 1, 'vỏn': 1, 'vẹn': 1, 'màu': 1, 'đen': 1, 'trắng': 1, 'sai': 1, 'lựa': 1, 'hư': 1, 'dùg': 1, 'mà': 1, 'nắp': 1, 'mặt': 1, 'dưới': 1, 'đồng': 1, 'hồ': 1, 'bung': 1, 'pin': 1, 'hỏg': 1, 'phòng': 1, 'xộp': 1, 'móp': 1, 'méo': 1, 'nguyên': 1, 'uy': 1, 'cũng': 1, 'may': 1, 'phản': 1, 'hồi': 1, 'ghi': 1, 'thu': 1, 'hoàn': 1, 'tiền': 1, 'ngay': 1, 'dây': 1, 'ngắn': 1, 'chỉ': 1, 'cổ': 1, 'trực': 1, 'máy': 1, 'dài': 1, 'riêng': 1, 'ổ': 1, 'làm': 1, 'hao': 1, 'tổn': 1, 'của': 1, 'những': 1, 'tản': 1, 'nhiệt': 1, 'nóng': 1, 'dễ': 1, 'chai': 1, 'quạt': 1, 'khó': 1, 'cảm': 1, 'gió': 1, 'thổi': 1, 'cánh': 1, 'cate': 1, 'đúc': 1, 'lỗ': 1, 'ốc': 1, 'thay': 1, 'vì': 1, 'đậy': 1, 'cổng': 1, 'sata': 1, 'serial': 1, 'number': 1, 'trang': 1, 'chủ': 1, 'apacer': 1, 'báp': 1, 'lỗi': 1, 'invalid': 1, 'xem': 1, 'giải': 1, 'quyêt': 1, 'dùm': 1, 'giả': 1, 'một': 1, 'sạc': 1, 'đổi': 1, 'bọc': 1, 'nilon': 1, 'rách': 1, 'hầu': 1, 'hết': 1, 'góc': 1, 'mép': 1, 'tem': 1, 'dán': 1, 'bên': 1, 'ngoài': 1, 'bao': 1, 'hình': 1, 'thức': 1, 'xấu': 1, 'gây': 1, 'tờ': 1, 'hướng': 1, 'dẫn': 1, 'gấp': 1, 'nhăn': 1, 'khuyến': 1, 'mãi': 1, 'galaxy': 1, 'fit': 1, 'liên': 1, 'hệ': 1, 'hỗ': 1, 'trợ': 1, 'thích': 1, 'thỏa': 1, 'đáng': 1, 'seal': 1, 'kiểu': 1, 'dáng': 1, 'thô': 1, 'đăng': 1, 'đeo': 1, 'to': 1, 'phù': 1, 'tốt': 1, 'người': 1, 'nội': 1, 'dung': 1, 'trò': 1, 'chuyện': 1, 'chết': 1, 'trái': 1, 'gọi': 1, 'tới': 1, 'lấy': 1, 'xong': 1, 'hề': 1, 'email': 1, 'tổng': 1, 'đài': 1, 'lần': 1, 'xác': 1, 'hỏi': 1, 'vài': 1, 'trả': 1, 'vẫn': 1, 'thấy': 1, 'đâu': 1, 'nhân': 1, 'viên': 1, 'biết': 1, 'chẳng': 1, 'tí': 1, 'thông': 1, 'tin': 1, 'gì': 1, 'câu': 1, 'lời': 1, 'tương': 1, 'tự': 1, 'nhớ': 1, 'hay': 1, 'vui': 1, 'lòng': 1, 'giờ': 1, 'rõ': 1, 'chán': 1, 'ngâm': 1, 'đồ': 1, 'apple': 1, 'nhanh': 1, 'gọn': 1, 'nay': 1, 'xin': 1, 'cạch': 1, 'nghệ': 1, 'xưa': 1, 'ủng': 1, 'hộ': 1, 'nhiều': 1, 'cái': 1, 'lớn': 1, 'ipad': 1, 'chơi': 1, 'em': 1, 'bé': 1, 'tã': 1, 'tiên': 1, 'viết': 1, 'luận': 1, 'vậy': 1, 'qúa': 1, 'thất': 1, 'vọng': 1, 'sim': 1, 'tết': 1, 'xài': 1, 'mấy': 1, 'bữa': 1, 'nợ': 1, 'sắp': 1, 'hạn': 1, 'bây': 1, 'im': 1, 'ru': 1, 'my': 1, 'mobile': 1, 'thật': 1, 'sự': 1, 'hiểu': 1, 'đây': 1, 'phần': 1, 'đế': 1, 'về': 1, 'kết': 1, 'nối': 1, 'reset': 1, 'unifying': 1, 'receiver': 1, 'số': 1, 'sn': 1, 'khớp': 1, 'tưởng': 1, 'hẳn': 1, 'lazada': 1, 'dịch': 1, 'vụ': 1, 'suy': 1, 'nghĩ': 1, 'khui': 1, 'đựng': 1, 'quan': 1, 'sát': 1, 'kỹ': 1, 'vết': 1, 'xước': 1, 'chỗ': 1, 'xúc': 1, 'bề': 1, 'gắn': 1, 'ngán': 1, 'chạy': 1, 'nămb': 1, 'hảng': 1, 'hi': 1, 'thời': 1, 'gian': 1, 'mong': 1, 'muốn': 1, 'usb': 1, 'trông': 1, 'bạn': 1, 'tình': 1, 'ok': 1, 'chính': 1, 'tuy': 1, 'nhiên': 1, 'hotline': 1, 'trễ': 1, 'nhờ': 1, 'cố': 1, 'gắng': 1, 'sớm': 1, 'do': 1, 'tặng': 1, 'sinh': 1, 'nhật': 1, 'hủy': 1, 'toán': 1, 'thẻ': 1, 'ngại': 1, 'đợi': 1, 'chứ': 1, 'nhà': 1, 'nhập': 1, 'khẩu': 1, 'hoang': 1, 'mang': 1, 'dạo': 1, 'ăn': 1, 'í': 1, 'thứ': 1, 'sáu': 1, '“siêu': 1, 'bền”': 1, 'đáp': 1, 'rè': 1, 'tịt': 1, 'đền': 1, 'ai': 1, 'đuợc': 1, 'cục': 1, 'cứ': 1, 'đỏ': 1, 'xanh': 1, 'trading': 1, 'hài': 1, 'tốc': 1, 'độ': 1, 'nghị': 1, 'chạp': 1, 'khách': 1, 'nhắc': 1, 'từng': 1, 'chút': 1, 'món': 1, 'ship': 1, 'ứng': 1, 'mau': 1, 'cả': 1, 'noka': 1, 'nói': 1, 'ấy': 1, 'tại': 1, 'dê': 1, 'bán': 1, 'thịt': 1, 'chó': 1, 'tính': 1, 'nút': 1, 'bấm': 1, 'lờn': 1, 'hai': 1, 'bản': 1, 'nhạc': 1, 'bluetooth': 1, 'nó': 1, 'xoá': 1, 'thêm': 1, 'màn': 1, 'hiện': 1, 'tượng': 1, 'hiển': 1, 'thị': 1, 'dương': 1, 'vàng': 1, 'cam': 1, 'rỗ': 1, 'sọc': 1, 'phim': 1, 'kế': 1, 'hoạ': 1, 'chịu': 1, 'confirm': 1, 'phục': 1, 'it': 1, 'nhầm': 1, 'thành': 1, 'shipper': 1, 'lạc': 1, 'trọ': 1, 'tìm': 1, 'hơi': 1, 'cực': 1, 'lả': 1, 'luôn': 1, 'vendor': 1, 'buôn': 1, 'online': 1, 'ít': 1, 'ra': 1, 'điểm': 1, 'khỏi': 1, 'việc': 1, 'lẽ': 1, 'nghỉ': 1, 'nơi': 1, 'vuivui': 1, 'phí': 1, 'định': 1, 'kia': 1, 'xét': 1, 'chế': 1, 'kể': 1, 'sách': 1, 'nọ': 1, 'địa': 1, 'bạc': 1, 'active': 1, 'nhắn': 1, 'imei': 1, 'hẹn': 1, 'sống': 1, 'ram': 1, 'gb': 1, 'usage': 1, 'thuật': 1, 'rằng': 1, 'bàn': 1, 'phím': 1, 'lốc': 1, 'nâng': 1, 'niu': 1, 'laptop': 1, 'nhẹ': 1, 'nhàng': 1, 'êm': 1, 'loa': 1, 'chung': 1, 'bỏ': 1, 'tr': 1, 'gặp': 1, 'trạng': 1, 'dồn': 1, 'triệu': 1, 'lap': 1, 'thiếu': 1, 'phía': 1, 'khe': 1, 'dính': 1, 'rạch': 1, 'nhét': 1, 'tôi': 1, 'minh': 1, 'châu': 1, 'drive': 1, 'trường': 1, 'orico': 1, 'bổ': 1, 'sung': 1, 'giảdo': 1, 'mượn': 1, 'tệ': 1, 'xuất': 1, 'hóa': 1, 'toàn': 1, 'trốn': 1, 'thuế': 1, 'nghĩa': 1, 'nước': 1, 'à': 1, 'cáp': 1, 'hdmi': 1, 'vga': 1, 'tài': 1, 'thái': 1, 'đố': 1, 'tử': 1, 'mail': 1, 'in': 1, 'wifi': 1, 'mật': 1, 'đều': 1, 'cap': 1, 'cài': 1, 'phức': 1, 'tạp': 1, 'mã': 1, 'mềm': 1, 'bì': 1, 'keo': 1, 'xé': 1, 'phân': 1, 'nửaphím': 1, 'lệch': 1, 'xảy': 1, 'cần': 1, 'ty': 1, 'hoá': 1, 'giữ': 1, 'chữ': 1, 'bực': 1, 'lắp': 1, 'thử': 1, 'giùm': 1, 'bass': 1, 'ồn': 1, 'ho': 1, 'độc': 1, 'lập': 1, 'mỗi': 1, 'thằng': 1, 'copy': 1, 'dữ': 1, 'liệu': 1, 'tầng': 1, 'vạch': 1, 'coi': 1, 'ad': 1, 'ơi': 1, 'ạ': 1, 'giúp': 1, 'wacom': 1, 'giữa': 1, 'đời': 1, 'adapter': 1, 'advanced': 1, 'v': 1, 'ý': 1, 'chợ': 1, 'cản': 1, 'ảnh': 1, 'model': 1, 'ta': 1, 'nha': 1, 'silicon': 1, 'tiệm': 1, 'e': 1, 'kí': 1, 'kích': 1, 'hoạt': 1, 'bịp': 1, 'ám': 1, 'bộ': 1, 'lề': 1, 'cỡ': 1, 'tiếng': 1, 'mọi': 1, 'nghi': 1, 'ù': 1, 'dở': 1, 'búa': 1, 'đập': 1, 'chục': 1, 'đắt': 1, 'quãng': 1, 'khuyên': 1, 'jack': 1, 'điều': 1, 'chiếc': 1, 'quốc': 1, 'buồn': 1, 'trì': 1, 'hoãn': 1, 'game': 1, 'kín': 1, 'xíu': 1, 'đau': 1, 'trọng': 1, 'rớt': 1, 'vặn': 1, 'mơi': 1, 'nổi': 1, 'ấn': 1, 'nháy': 1, 'đúp': 1, 'đẹp': 1, 'anh': 1, 'mắc': 1, 'ký': 1, 'thẳng': 1, 'tỏ': 1, 'lo': 1, 'trị': 1, 'lạ': 1, 'lung': 1, 'tung': 1, 'nhỡ': 1, 'logitech': 1, 'diện': 1, 'tuổi': 1, 'thọ': 1, 'năm': 1, 'click': 1, 'nhạy': 1, 'quang': 1, 'thực': 1, 'nghiêm': 1, 'túc': 1, 'đấy': 1, 'ban': 1, 'chống': 1, 'setup': 1, 'giảm': 1, 'tạm': 1, 'kèm': 1, 'giác': 1, 'lừa': 1, 'đảo': 1, 'khac': 1, 'trời': 1, 'khổ': 1, 'thân': 1, 'đươc': 1, 'hả': 1, 'đả': 1, 'bi': 1, 'bể': 1, 'làn': 1, 'dám': 1, 'tễ': 1, 'kiều': 1, 'bóc': 1, 'tốn': 1, 'ưng': 1, 'hoài': 1, 'cân': 1, 'single': 1, 'dual': 1, 'nfc': 1, 'voucher': 1, 'p': 1, 'sang': 1, 'on': 1, 'enter': 1, 'văng': 1, 'tường': 1, 'dell': 1, 'liệt': 1, 'and': 1, 'cứng': 1, 'giới': 1, 'thiệu': 1, 'rơi': 1, 'kêu': 1, 'đặc': 1, 'biệt': 1, 'ace': 1, 'đánh': 1, 'gõ': 1, 'rít': 1, 'kẹt': 1, 'mục': 1, 'plus': 1, 'danh': 1, 'tải': 1, 'shift': 1, 'tổ': 1, 'h': 1, 'phồng': 1, 'loại': 1, 'nặng': 1, 'đích': 1, 'đem': 1, 'nhất': 1, 'tạo': 1, 'tập': 1, 'phiền': 1, 'toái': 1, 'quán': 1, 'cafe': 1, 'sở': 1, 'trải': 1, 'mệt': 1, 'sâu': 1, 'hụt': 1, 'lực': 1, 'trở': 1, 'vị': 1, 'đối': 1, 'bét': 1, 'nhấn': 1, 'hưởng': 1, 'khủng': 1, 'khiếp': 1, 'học': 1, 'trí': 1, 'fo': 1, 'hạng': 1, 'u': 1, 'cây': 1, 'band': 1, 'cập': 1, 'thao': 1, 'tác': 1, 'tục': 1, 'mai': 1, 'bẩn': 1, 'ghét': 1, 'tích': 1, 'tụ': 1, 'lau': 1, 'sạch': 1, 'đệm': 1, 'case': 1, 'đâuxuống': 1, 'ngỏm': 1, 'quản': 1, 'báo': 1, 'hàng': 1, 'thành': 1, 'rồi': 1, 'mà': 1, 'chả': 1, 'thấy': 1, 'gọi': 1, 'nhận': 1, 'kiểu': 1, 'á': 1, 'nhé': 1, 'đầy': 1, 'đủ': 1, 'zin': 1, 'đốm': 1, 'bảo': 1, 'hành': 1, 'nào': 1, 'ạ': 1, 'viết': 1, 'xét': 1, 'này': 1, 'là': 1, 'vì': 1, 'vừa': 1, 'lúc': 1, 'nãy': 1, 'đang': 1, 'nhạc': 1, 'rất': 1, 'nó': 1, 'dựt': 1, 'lại': 1, 'tiếng': 1, 'và': 1, 'chói': 1, 'tắt': 1, 'được': 1, 'hủy': 1, 'rồ': 1, 'phút': 1, 'tục': 1, 'tưởng': 1, 'còn': 1, 'nổ': 1, 'cơ': 1, 'cũng': 1, 'thường': 1, 'có': 1, 'vài': 1, 'lỗi': 1, 'vặt': 1, 'nhỉ': 1, 'tào': 1, 'lao': 1, 'vợ': 1, 'cover': 1, 'tránh': 1, 'trầy': 1, 'chùi': 1, 'mèm': 1, 'dơ': 1, 'lấm': 1, 'lem': 1, 'rái': 1, 'web': 1, 'đại': 1, 'cung': 1, 'cấp': 1, 'an': 1, 'tâm': 1, 'bởi': 1, 'đợt': 1, 'á': 1, 'nhìn': 1, 'xát': 1, 'niêm': 1, 'phong': 1, 'dàng': 1, 'rấc': 1, 'tiếc': 1, 'chúng': 1, 'khoản': 1, 'đượclúc': 1, 'internet': 1, 'led': 1, 'lá': 1, 'biển': 1, 'rung': 1, 'nhiễu': 1, 'muỗi': 1, 'mic': 1, 'xuyên': 1, '“điếc”': 1, 'cuộc': 1, 'mạng': 1, 'hạch': 1, 'rút': 1, 'đứt': 1, 'đàng': 1, 'hoàng': 1, 'nhựa': 1, 'cắt': 1, 'ràng': 1, 'bền': 1, 'cao': 1, 'lai': 1, 'vỡ': 1, 'phận': 1, 'thèm': 1, 'lót': 1, 'sốc': 1, 'tên': 1, 'đưa': 1, 'phóng': 1, 'xe': 1, 'càng': 1, 'mắn': 1, 'i': 1, 'li': 1, 'ti': 1, 'chớp': 1, 'giật': 1, 'hở': 1, 'vệt': 1, 'chia': 1, 'sắc': 1, 'nét': 1, 'clip': 1, 'full': 1, 'hd': 1, 'nền': 1, 'gợn': 1, 'dải': 1, 'uh': 1, 'song': 1, 'mẫu': 1, 'hàngđã': 1, 'khiếu': 1, 'nại': 1, 'ki': 1, 'quyết': 1, 'huỷ': 1, 'tikinow': 1, 'nửa': 1, 'f': 1, 'bô': 1, 'biến': 1, 'cận': 1, 'data': 1, 'phố': 1, 'rẻ': 1, 'suất': 1, 'w': 1, 'năng': 1, 'hại': 1, 'lắm': 1, 'đ': 1, 'battery': 1, 'low': 1, 'please': 1, 'charge': 1, 'chay': 1, 'đểuchán': 1, 'nản': 1, 'mức': 1, 'chả': 1, 'sendo': 1, 'bin': 1, 'ắc': 1, 'quy': 1, 'mbps': 1, 'háo': 1, 'hức': 1, 'dừng': 1, 'miss': 1, 'tá': 1, 'hoả': 1, 'hứa': 1, 'hút': 1, 'vòng': 1, 'cuối': 1, 'đạc': 1, 'tiện': 1, 'kì': 1, 'quả': 1, 'trôi': 1, 'mút': 1, 'viền': 1, 'cầm': 1, 'biểu': 1, 'tăng': 1, 'cường': 1, 'bộ': 1, 'phận': 1, 'hỗ': 1, 'trợ': 1, 'khách': 1, 'của': 1, 'kém': 1, 'đặt': 1, 'hỏi': 1, 'ô': 1, 'lắp': 1, 'camera': 1, 'thì': 1, 'trả': 1, 'lời': 1, 'kiểm': 1, 'mới': 1, 'biết': 1, 'vào': 1, 'dau': 1, 'totolink': 1, 'ex': 1, 'băt': 1, 'hếtsim': 1, 'hạt': 1, 'kìm': 1, 'lui': 1, 'y': 1, 'chang': 1, 'bọn': 1, 'khít': 1, 'mùi': 1, 'mỏng': 1, 'box': 1, 'rột': 1, 'kinh': 1, 'miễn': 1, 'sót': 1, 'chuyên': 1, 'nghiệp': 1, 'thống': 1, 'cóng': 1, 'rảnh': 1, 'mề': 1, 'bội': 1, 'ghê': 1, 'buổi': 1, 'ngúm': 1, 'bút': 1, 'bất': 1, 'túi': 1, 'áo': 1, 'lắc': 1, 'xung': 1, 'quanh': 1, 'chừng': 1, 'củ': 1, 'bác': 1, 'xừ': 1, 'macbook': 1, 'đừng': 1, 'mac': 1, 'pro': 1, 'chổ': 1, 'điệm': 1, 'lăn': 1, 'lún': 1, 'ngờ': 1, 'traning': 1, 'ánh': 1, 'lỏng': 1, 'lẻo': 1, 'trình': 1, 'rành': 1, 'đượcngay': 1, 'unlock': 1, 'philip': 1, 'dể': 1, 'bà': 1, 'cám': 1, 'ơn': 1, 't': 1, 'thừơng': 1, 'vùng': 1, 'phủ': 1, 'quay': 1, 'hy': 1, 'nhiêu': 1, 'bấy': 1, 'chép': 1, 'chứa': 1, 'viện': 1, 'khả': 1, 'bài': 1, 'lưu': 1, 'quen': 1, 'caddy': 1, 'bay': 1, 'mi': 1, 'home': 1, 'thợ': 1, 'bó': 1, 'ip': 1, 'đôi': 1, 'ping': 1, 'care': 1, 'lậy': 1, 'driver': 1, 'tế': 1, 'cụ': 1, 'okchỉ': 1, 'amin': 1, 'smat': 1, 'tv': 1, 'vứt': 1, 'theo': 1, 'tiết': 1, 'kiệm': 1, 's': 1, 'xịn': 1, 'circle': 1, 'panasonic': 1, 'dị': 1, 'no': 1, 'window': 1, 'gỡ': 1, 'tý': 1, 'xóa': 1, 'kỳ': 1, 'csrbtportenumerateddevice': 1, 'failed': 1, 'sony': 1, 'iphone': 1, 'che': 1, 'giấu': 1, 'tốt+router': 1, 'iptv': 1, 'next': 1, 'hãy': 1, 'restart': 1, 'cà': 1, 'ae': 1, 'lướt': 1, 'download': 1, 'fshare': 1, 'mbs': 1, 'thi': 1, 'thoảng': 1, 'tụt': 1, 'xuống': 1, 'byte': 1, 'down': 1, 'disconnect': 1, 'cạnh': 1, 'phà': 1, 'tóm': 1, 'lởm': 1, 'kẻo': 1, 'ngu': 1, 'nổ': 1, 'gạt': 1, 'tắc': 1, 'nham': 1, 'nhở': 1, 'camare': 1, 'bệt': 1, 'mờ': 1, 'video': 1, 'firmware': 1, 'cấu': 1, 'dhcp': 1, 'buộc': 1, 'nre': 1, 'bận': 1, 'đa': 1, 'xóm': 1, 'cộng': 1, 'ng': 1, 'luân': 1, 'phiên': 1, 'ầm': 1, 'ốm': 1, 'ngủ': 1, 'quên': 1, 'họ': 1, 'áp': 1, 'canh': 1, 'thếthật': 1, 'bus': 1, 'chấp': 1, 'cành': 1, 'cảnh': 1, 'ham': 1, 'trộm': 1, 'miếng': 1, 'kim': 1, 'tuyến': 1, 'vênh': 1, 'chiều': 1, 'miệng': 1, 'tẹt': 1, 'sợi': 1, 'trăm': 1, 'nghìn': 1, 'chạm': 1, 'hát': 1, 'connect': 1, 'sirinhư': 1, 'rì': 1, 'facebook': 1, 'kbs': 1, 'thiệt': 1, 'ép': 1, 'a': 1, 'trai': 1, 'vãi': 1, 'ngang': 1, 'móc': 1, 'khóa': 1, 'vớ': 1, 'vẩn': 1, 'bại': 1, 'moi': 1, 'nữalua': 1, 'đao': 1, 'chào': 1, 'dành': 1, 'ideapad': 1, 'flex': 1, 'help': 1, 'thanks': 1, 'đội': 1, 'hậu': 1, 'airpod': 1, 'tất': 1, 'dự': 1, 'kiến': 1, 'ncovid': 1, 'team': 1, 'lí': 1, 'trân': 1, 'sảm': 1, 'tenda': 1, 'khoảng': 1, 'thoáng': 1, 'xa': 1, 'tuột': 1, 'microlab': 1, 'đấm': 1, 'giắc': 1, 'vềngày': 1, 'hỏng+gọi': 1, 'saungày': 1, 'trưa': 1, 'trái+lần': 1, 'hảy': 1, 'mực': 1, 'file': 1, 'mượt': 1, 'vận': 1, 'da': 1, 'bục': 1, 'lòngcó': 1, 'cải': 1, 'thiện': 1, 'thước': 1, 'chân': 1, 'lightning': 1, 'xộc': 1, 'xệch': 1, 'nấy': 1, 'đọc': 1, 'chất': 1, 'lượng': 1, 'tậm': 1, 'ngắt': 1, 'sập': 1, 'mainboard': 1, 'thùng': 1, 'windows': 1, 'tôt': 1, 'lôi': 1, 'xó': 1, 'gãy': 1, 'nhừng': 1, 'kêt': 1, 'am': 1, 'fm': 1, 'ma': 1, 'tệlưu': 1, 'trữ': 1, 'lãnggiật': 1, 'khủngđề': 1, 'chat': 1, 'tồi': 1, 'wic': 1, 'lag': 1, 'tivi': 1, 'sôi': 1, 'chật': 1, 'lương': 1, 'lighning': 1, 'đờ': 1, 'ráp': 1, 'thấp': 1, 'chât': 1, 'voi': 1, 'bức': 1, 'ghz': 1, 'fpt': 1, 'chậmxài': 1, 'ah': 1, 'siêu': 1, 'tan': 1, 'miết': 1, 'nghê': 1, 'rà': 1, 'tháo': 1, 'sổ': 1, 'sứt': 1, 'chị': 1, 'xiaomi': 1, 'amazfit': 1, 'bip': 1, 'đính': 1, 'gốc': 1, 'mạnh': 1, 'gia': 1, 'đình': 1, 'chóp': 1, 'đứng': 1, 'lỡ': 1, 'duy': 1, 'hải': 1, 'sơ': 1, 'kĩ': 1, 'chối': 1, 'ngoại': 1, 'mò': 1, 'mập': 1, 'rước': 1, 'tối': 1, 'blutooth': 1, 'nghiệm': 1, 'chỉnh': 1, 'đượcad': 1, 'cua': 1, 'kiti': 1, 'phối': 1, 'hóng': 1, 'book': 1, 'niềm': 1, 'ròi': 1, 'đượcbên': 1, 'lộn': 1, 'tùm': 1, 'lum': 1, 'mẹ': 1, 'sac': 1, 'gio': 1, 'hold': 1, 'sẵn': 1, 'sàng': 1, 'tức': 1, 'khắc': 1, 'ghim': 1, 'nhích': 1, 'rời': 1, 'ohair': 1, 'ssd': 1, 'hdd': 1, 'choi': 1, 'mở': 1, 'nói': 1, 'chuyện': 1, 'cực': 1, 'nhỏ': 1, 'gắn': 1, 'phone': 1, 'khác': 1, 'bình': 1, 'quà': 1, 'điệp': 1, 'giáng': 1, 'thiệp': 1, 'now': 1, 'điếc': 1, 'chóng': 1, 'ghn': 1, 'sánh': 1, 'kingston': 1, 'thoạig': 1, 'vực': 1, 'trồi': 1, 'sụp': 1, 'sửa': 1, 'dỡ': 1, 'giấy': 1, 'đểu': 1, 'đòi': 1, 'lộc': 1, 'cộc': 1, 'khâu': 1, 'hống': 1, 'chắn': 1, 'lượt': 1, 'bụi': 1, 'phương': 1, 'pháp': 1, 'soát': 1, 'kịp': 1, 'đỡ': 1, 'kính': 1, 'nát': 1, 'góp': 1, 'ngân': 1, 'phùđặt': 1, 'chức': 1, 'chuôi': 1, 'chuông': 1, 'máy': 1, 'tính': 1, 'đơ': 1, 'án': 1, 'aa': 1, 'feed': 1, 'dấu': 1, 'cứu': 1, 'tấm': 1, 'su': 1, 'nhảy': 1, 'trỏ': 1, 'reciever': 1, 'thỉnh': 1, 'yên': 1, 'sức': 1, 'touchpad': 1, 'văn': 1, 'vô': 1, 'thỉu': 1, 'mòn': 1, 'ức': 1, 'kéo': 1, 'vấp': 1, 'bong': 1, 'ngón': 1, 'tki': 1, 'trứng': 1, 'bốn': 1, 'chứng': 1, 'chuộc': 1, 'double': 1, 'ngắm': 1, 'nhậy': 1, 'quét': 1, 'troll': 1, 'bảng': 1, 'tiêu': 1, 'ngàn': 1, 'xứng': 1, 'lỏn': 1, 'tỏn': 1, 'sước': 1, 'cuộn': 1, 'trơn': 1, 'khấc': 1, 'silient': 1, 'thà': 1, 'mỏi': 1, 'cham': 1, 'zậy': 1, 'chip': 1, 'khiển': 1, 'căm': 1, 'phẩmtôi': 1, 'loạn': 1, 'phiếu': 1, 'ngon': 1, 'vèo': 1, 'kè': 1, 'thề': 1, 'rớ': 1, 'đuôi': 1, 'ngưng': 1, 'dởm': 1, 'douclick': 1, 'rồibị': 1, 'sợ': 1, 'hếtxong': 1, 'tiếpmà': 1, 'sida': 1, 'chuột': 1, 'quá': 1, 'tệ': 1, 'mọi': 1, 'người': 1, 'đừng': 1, 'nữa': 1, 'tốn': 1, 'tiền': 1, 'phải': 1, 'vứt': 1, 'sọt': 1, 'rác': 1, 'tàn': 1, 'sảy': 1, 'manh': 1, 'tớ': 1, 'plan': 1, 'kiếm': 1, 'cơm': 1, 'tư': 1, 'lỳ': 1, 'nhấp': 1, 'xạ': 1, 'đổ': 1, 'nhẽ': 1, 'than': 1, 'nua': 1, 'google': 1, 'good': 1, 'job': 1, 'khoá': 1, 'thối': 1, 'tật': 1, 'cốc': 1, 'ruồi': 1, 'dọc': 1, 'chợt': 1, 'rọc': 1, 'trách': 1, 'nằm': 1, 'run': 1, 'mm': 1, 'xưởng': 1, 'tỉ': 1, 'lệ': 1, 'đằng': 1, 'găn': 1, 'power': 1, 'key': 1, 'ôi': 1, 'len': 1, 'mó': 1, 'sohaco': 1, 'nam': 1, 'setting': 1, 'level': 1, 'lục': 1, 'cạn': 1, 'sét': 1, 'cùi': 1, 'bắp': 1, 'port': 1, 'ông': 1, 'giây': 1, 'thoa': 1, 'rụng': 1, 'tp': 1, 'link': 1, 'ì': 1, 'ạch': 1, 'tưng': 1, 'bừng': 1, 'loay': 1, 'hoay': 1, 'dạng': 1, 'ntfs': 1, 'coppy': 1, 'exfats': 1, 'chí': 1, 'hà': 1, 'sọt': 1, 'rác': 1, 'rốt': 1, 'khẳng': 1, 'phẩn': 1, 'messenger': 1, 'youtube': 1, 'giản': 1, 'chi': 1, 'lầm': 1, 'biếng': 1, 'defaut': 1, 'gateway': 1, 'static': 1, 'extend': 1, 'silent': 1, 'lách': 1, 'dày': 1, 'ớn': 1, 'thoai': 1, 'tikihãng': 1, 'tuyệt': 1, 'digiworld': 1, 'chữa': 1, 'office': 1, 'icloud': 1, 'hên': 1, 'xui': 1, 'mecury': 1, 'cất': 1, 'tủ': 1, 'phầm': 1, 'gi': 1, 'phạm': 1, 'rộng': 1, 'tiến': 1, 'tàu': 1, 'jbl': 1, 'treble': 1, 'đô': 1, 'thảo': 1, 'thương': 1, 'điên': 1, 'ba': 1, 'with': 1, 'meridian': 1, 'chụp': 1, 'technology': 1, 'đâm': 1, 'tróc': 1, 'kho': 1, 'auto': 1, 'dạ': 1, 'hontline': 1, 'trao': 1, 'vất': 1, 'chỏng': 1, 'chơ': 1, 'trùng': 1, 'seri': 1, 'ào': 1, 'luôngiờ': 1, 'chốt': 1, 'đàm': 1, 'đắn': 1, 'quấn': 1, 'ni': 1, 'lon': 1, 'thủng': 1, 'va': 1, 'x': 1, 'mồ': 1, 'hôi': 1, 'cat': 1, 'hý': 1, 'hửng': 1, 'thò': 1, 'thụt': 1, 'rêu': 1, 'ẩu': 1, 'thả': 1, 'lọc': 1, 'sụt': 1, 'vna': 1, 'macos': 1, 'bóp': 1, 'dao': 1, 'gmail': 1, 'mưa': 1, 'khu': 1, 'quân': 1, 'tao': 1, 'psk': 1, 'dragon': 1, 'bố': 1, 'láo': 1, 'repeater': 1, 'rounter': 1, 'micro': 1, 'xì': 1, 'vĩnh': 1, 'xuân': 1, 'vuông': 1, 'tròng': 1, 'kẹp': 1, 'đứa': 1, 'đói': 1, 'bẻ': 1, 'ngãy': 1, 'xu': 1, 'dại': 1, 'ngàu': 1, 'kiển': 1, 'thánh': 1, 'tài': 1, 'khoản': 1, 'đồng': 1, 'bó': 1, 'già': 1, 'trẻ': 1, 'tớitiki': 1, 'sa': 1, 'sút': 1, 'unbox': 1, '“': 1, 'thực”': 1, 'vật': 1, 'tikicare': 1, 'status': 1, 'complain': 1, 'refurbished': 1, 'trừ': 1, 'rụp': 1, 'lễ': 1, 'kiên': 1, 'nỡ': 1, 'xôi': 1, 'đéo': 1, 'sg': 1, 'bão': 1, 'abc': 1, 'lùi': 1, 'giàu': 1, 'bảy': 1, 'rồimà': 1, 'lưng': 1, 'hẫng': 1, 'can': 1, 'hồng': 1, 'nỗi': 1, 'intenet': 1, 'đậm': 1, 'nhạt': 1, '×': 1, 'cái': 1, 'bận': 1, 'làm': 1, 'nhà': 1, 'giùm': 1, 'hóa': 1, 'chỉ': 1, 'chiều': 1, 'về': 1, 'hãi': 1, 'hùng': 1, 'cuối': 1, 'cùng': 1, 'giải': 1, 'quyết': 1, 'xuôi': 1, 'sư': 1, 'đục': 1, 'sêri': 1, 'phép': 1, 'tội': 1, 'sốt': 1, 'ruột': 1, 'đành': 1, 'gác': 1, 'aanh': 1, 'linh': 1, 'tòa': 1, 'bắc': 1, 'tò': 1, 'bê': 1, 'vác': 1, 'đống': 1, 'phụ': 1, 'kiện': 1, 'chồng': 1, 'nd': 1, 'hand': 1, 'hứng': 1, 'ngồi': 1, 'silver': 1, 'nhãn': 1, 'mác': 1, 'gray': 1, 'xám': 1, 'giáo': 1, 'dưỡng': 1, 'mobi': 1, 'mobifone': 1, 'cước': 1, 'năn': 1, 'nỉ': 1, 'phá': 1, 'dối': 1, 'riết': 1, 'shoppe': 1, 'lây': 1, 'rate': 1, 'lanwan': 1, 'lan': 1, 'thoải': 1, 'mái': 1, 'hổng': 1, 'nghiêng': 1, 'phềnh': 1, 'hều': 1, 'đầm': 1, 'mét': 1, 'lô': 1, 'vostro': 1, 'build': 1, 'made': 1, 'philippin': 1, 'china': 1, 'id': 1, 'ảo': 1, 'mại': 1, 'ớt': 1, 'hoạn': 1, 'watch': 1, 'rỏ': 1, 'ràng': 1, 'trò': 1, 'bịp': 1, 'bợm': 1, 'muốn': 1, 'thỉ': 1, 'vẻ': 1, 'dậy': 1, 'cong': 1, 'đoạn': 1, 'xs': 1, 'lõng': 1, 'tn': 1, 'gg': 1, 'nạ': 1, 'thẩm': 1, 'mĩ': 1, 'đề': 1, 'nghị': 1, 'đổi': 1, 'dùng': 1, 'tuần': 1, 'đầu': 1, 'ý': 1, 'từ': 1, 'thứ': 1, 'bắt': 1, 'sạc': 1, 'nhấp': 1, 'nháy': 1, 'đèn': 1, 'hết': 1, 'mình': 1, 'cắm': 1, 'chuyển': 1, 'đỏ': 1, 'tầm': 1, 'rút': 1, 'vẫn': 1, 'vậy': 1, 'dù': 1, 'mấy': 1, 'chục': 1, 'lần': 1, 'xịn': 1, 'tình': 1, 'trạng': 1, 'nghĩ': 1, 'bị': 1, 'chập': 1, 'cất': 1, 'một': 1, 'thời': 1, 'đó': 1, 'lấy': 1, 'thử': 1, 'cũ': 1, 'cần': 1, 'thậm': 1, 'thải': 1, 'ngũ': 1, 'xốp': 1, 'nilong': 1, 'dường': 1, 'sàn': 1, 'việt': 1, 'ẩn': 1, 'nhám': 1, 'soi': 1, 'gương': 1, 'túm': 1, 'bơi': 1, 'chìm': 1, 'đĩa': 1, 'hì': 1, 'hục': 1, 'holine': 1, 'taobao': 1, 'ủy': 1, 'quyền': 1, 'dịp': 1, 'khích': 1, 'rắc': 1, 'rối': 1, 'môi': 1, 'tranh': 1, 'trụ': 1, 'vững': 1, 'giấc': 1, 'mạo': 1, 'toto': 1, 'angten': 1, 'khuyết': 1, 'rùa': 1, 'load': 1, 'đien': 1, 'ch': 1, 'play': 1, 'xíumong': 1, 'giám': 1, 'zom': 1, 'diệt': 1, 'virus': 1, 'ẹc': 1, 'dè': 1, 'rathấy': 1, 'mối': 1, 'bối': 1, 'vây': 1, 'đực': 1, 'zip': 1, 'chăm': 1, 'sóc': 1, 'vi': 1, 'giòn': 1, 'bánh': 1, 'xt': 1, 'vội': 1, 'bù': 1, 'chênh': 1, 'biên': 1, 'lõi': 1, 'lẫn': 1, 'evat': 1, 'chú': 1, 'istore': 1, 'né': 1, 'dò': 1, 'set': 1, 'up': 1, 'account': 1, 'phàn': 1, 'nàn': 1, 'kệ': 1, 'thin': 1, 'thít': 1, 'toanh': 1, 'vệ': 1, 'thắc': 1, 'nốt': 1, 'chói': 1, 'hí': 1, 'bịt': 1, 'chặt': 1, 'bịch': 1, 'lông': 1, 'ăng': 1, 'ten': 1, 'trần': 1, 'hối': 1, 'hận': 1, 'mah': 1, 'star': 1, 'dời': 1, 'tái': 1, 'note': 1, '“giao': 1, 'công”': 1, 'hoạch': 1, 'đên': 1, 'nx': 1, 'code': 1, 'đè': 1, 'rỗi': 1, 'wd': 1, 'cẩu': 1, 'biện': 1, 'bự': 1, 'chể': 1, 'thọai': 1, 'km': 1, 'q': 1, 'thấm': 1, 'smartwatch': 1, 'paperwhite': 1, 'gen': 1, 'mùa': 1, 'sẻ': 1, 'blue': 1, 'eye': 1, 'sáng': 1, 'sản': 1, 'phẩm': 1, 'tháng': 1, 'đã': 1, 'thế': 1, 'để': 1, 'pass': 1, 'khj': 1, 'ngày': 1, 'chờn': 1, 'hêt': 1, 'lợi': 1, 'xoay': 1, 'channel': 1, 'security': 1, 'bj': 1, 'sạch': 1, 'cháy': 1, 'nguy': 1, 'hiểm': 1, 'xịt': 1, 'dí': 1, 'chừa': 1, 'bluetoooth': 1, 'bluetouth': 1, 'đụng': 1, 'si': 1, 'pdb': 1, 'ghông': 1, 'bớt': 1, 'tinh': 1, 'viettel': 1, 'ẩm': 1, 'khí': 1, 'ích': 1, 'ngât': 1, 'đốc': 1, 'dock': 1, 'ghép': 1, 'xấp': 1, 'xỉ': 1, 'quyển': 1, 'vở': 1, 'trục': 1, 'trặc': 1, 'thuận': 1, 'nai': 1, 'rắt': 1, 'canon': 1, 'tanh': 1, 'bành': 1, 'lưỡng': 1, 'nhiệm': 1, 'miêu': 1, 'đinh': 1, 'ninh': 1, 'hp': 1, 'loang': 1, 'lổ': 1, 'ari': 1, 'rgb': 1, 'switch': 1, 'hơnnhư': 1, 'bám': 1, 'siết': 1, 'xr': 1, 'mầu': 1, 'găng': 1, 'disk': 1, 'management': 1, 'caddybay': 1, 'đếm': 1, 'chấu': 1, 'quátôi': 1, 'liền': 1, 'xếp': 1, 'phuc': 1, 'giào': 1, 'chủng': 1, 'la': 1, 'quận': 1, 'dgw': 1, 'dược': 1, 'cô': 1, 'sơn': 1, 'tikitrading': 1, 'ọp': 1, 'ẹp': 1, 'logi': 1, 'đúng': 1, 'nhầm': 1, 'lẫn': 1, 'lừa': 1, 'size': 1, 'mmmm': 1, 'đít': 1, 'lổi': 1, 'thun': 1, 'hang': 1, 'android': 1, 'cá': 1, 'bóng': 1, 'bad': 1, 'sector': 1, 'bò': 1, 'country': 1, 'warranty': 1, 'restriction': 1, 'cache': 1, 'moderm': 1, 'dasan': 1, 'bơm': 1, 'hòng': 1, 'quát': 1, 'cõ': 1, 'bìa': 1, 'format': 1, 'mũi': 1, 'đentrắng': 1, 'cn': 1, 'air': 1, 'vẽ': 1, 'hinh': 1, 'claim': 1, 'khai': 1, 'dich': 1, 'byz': 1, 'super': 1, 'type': 1, 'c': 1, 'lbp': 1, 'khét': 1, 'ngọc': 1, 'lân': 1, 'tb': 1, 'niên': 1, 'chông': 1, 'tĩnh': 1, 'nhu': 1, 'reallocated': 1, 'sectors': 1, 'count': 1, 'tiểu': 1, 'luợng': 1, 'hố': 1, 'vong': 1, 'tràn': 1, 'trề': 1, 'hàn': 1, 'anker': 1, 'chớn': 1, 'tẩy': 1, 'wan': 1, 'sừ': 1, 'rơ': 1, 'oan': 1, 'chóc': 1, 'mắt': 1, 'chảy': 1, 'axit': 1, 'rãnh': 1, 'trầy': 1, 'xước': 1, 'nhiều': 1, 'giống': 1, 'sử': 1, 'dụng': 1, 'nữagiờ': 1, 'cpu': 1, 'dân': 1, 'nhàu': 1, 'luật': 1, 'thoả': 1, 'thập': 1, 'lồi': 1, 'lõm': 1, 'xunh': 1, 'hoảng': 1, 'vat': 1, 'sữa': 1, 'ios': 1, 'mảnh': 1, 'mẻ': 1, 'mông': 1, 'yết': 1, 'muộn': 1, 'rườm': 1, 'tham': 1, 'khảo': 1, 'vote': 1, 'trúc': 1, 'chắnốc': 1, 'vít': 1, 'ren': 1, 'lò': 1, 'xo': 1, 'duoc': 1, 'nhung': 1, 'đung': 1, 'lở': 1, 'xai': 1, 'luon': 1, 'tụi': 1, 'trống': 1, 'bưu': 1, 'đệ': 1, 'malaysia': 1, 'covid': 1, 'quăn': 1, 'queo': 1, 'vuốt': 1, 'rao': 1, 'thoát': 1, 'ultrasharp': 1, 'dellnói': 1, 'chặn': 1, 'lú': 1, 'shock': 1, 'lắng': 1, 'vân': 1, 'ngậm': 1, 'ngùi': 1, 'nhái': 1, 'tưởngnhưng': 1, 'thuê': 1, 'cạy': 1, 'chội': 1, 'ráng': 1, 'thig': 1, 'ky': 1, 'ngyaf': 1, 'thăm': 1, 'khay': 1, 'vietnam': 1, 'hz': 1, 'chuyền': 1, 'gập': 1, 'rack': 1, 'lộ': 1, 'trầm': 1, 'nghẹt': 1, 'nge': 1, 'ôn': 1, 'phứt': 1, 'cấn': 1, 'co': 1, 'giãn': 1, 'cày': 1, 'win': 1, 'tôn': 1, 'vựa': 1, 'xách': 1, '…': 1, 'bluetooh': 1, 'vằn': 1, 'vện': 1, 'lẹ': 1, 'modem': 1, 'ngỡ': 1, 'cọng': 1, 'nàomình': 1, 'khung': 1, 'fw': 1, 'trắngđến': 1, 'đenvì': 1, 'tỏi': 1, 'spacebar': 1, 'nhồi': 1, 'nhược': 1, 'cớ': 1, 'chọc': 1, 'chăng': 1, 'nhọ': 1, 'bỗng': 1, 'dưng': 1, 'toi': 1, 'ph': 1, 'cụp': 1, 'vàn': 1, 'nứt': 1, 'đông': 1, 'hời': 1, 'hợt': 1, 'carton': 1, 'thầm': 1, 'esim': 1, 'nhi': 1, 'truy': 1, 'khô': 1, 'quánh': 1, 'bột': 1, 'mì': 1, 'tỏa': 1, 'vón': 1, 'rx': 1, 'arctic': 1, 'mx': 1, 'giường': 1, 'gián': 1, 'anten': 1, 'kết': 1, 'nối': 1, 'huawei': 1, 'gõ': 1, 'dấu': 1, 'việt': 1, 'tùy': 1, 'điện': 1, 'thoại': 1, 'các': 1, 'bạn': 1, 'nhé': 1, 'nhấn': 1, 'phím': 1, 'tứ': 1, 'gì': 1, 'nản': 1, 'hình': 1, 'chụp': 1, 'cọc': 1, 'cậy': 1, 'trưng': 1, 'tô': 1, 'rắm': 1, 'cd': 1, 'khăn': 1, 'ngược': 1, 'vo': 1, 'dặt': 1, 'phê': 1, 'npp': 1, 'zing': 1, 'mp': 1, 'scroll': 1, 'bén': 1, 'logo': 1, 'thư': 1, 'xẻo': 1, 'top': 1, 'mơ': 1, 'phảm': 1, 'mẫm': 1, 'cồng': 1, 'kềnh': 1, 'vướng': 1, 'víu': 1, 'bit': 1, 'khuôn': 1, 'nhè': 1, 'ngôn': 1, 'ngữ': 1, 'lằng': 1, 'nhằng': 1, 'điếng': 1, 'casset': 1, 'phụ': 1, 'kiện': 1, 'kèm': 1, 'cách': 1, 'nguồn': 1, 'phòng': 1, 'chỗ': 1, 'gạch': 1, 'photoshop': 1, 'lãng': 1, 'bát': 1, 'nháo': 1, 'khập': 1, 'khễnh': 1, 'otg': 1, 'd': 1, 'nand': 1, 'đâybó': 1, 'tùy': 1, 'cỡcùng': 1, 'dvd': 1, 'master': 1, 'chương': 1, 'browser': 1, 'edge': 1, 'back': 1, 'forward': 1, 'uỷ': 1, 'vn': 1, 'rưỡi': 1, 'cứt': 1, 'ngắc': 1, 'mày': 1, 'găm': 1, 'quảng': 1, 'cáo': 1, 'buồn': 1, 'lãnh': 1, 'thổ': 1, 'amp': 1, 'dùm': 1, 'bào': 1, 'đấu': 1, 'lạch': 1, 'website': 1, 'logitec': 1, 'sành': 1, 'nhe': 1, 'wf': 1, 'bk': 1, 'dẹp': 1, 'xuất': 1, 'phần': 1, 'netac': 1, 'vinsmart': 1, 'nhôm': 1, 'trượt': 1, 'đượccục': 1, 'trệt': 1, 'singapore': 1, 'indonesia': 1, 'mù': 1, 'du': 1, 'lưỡi': 1, 'gỉ': 1, 'kindle': 1, 'nè': 1, 'ấm': 1, 'trá': 1, 'tròn': 1, 'dẩn': 1, 'nhạy': 1, 'giới': 1, 'thiệu': 1, 'gps': 1, 'sài': 1, 'tốt': 1, 'vina': 1, 'smart': 1, 'duyệt': 1, 'karaok': 1, 'quăng': 1, 'quật': 1, 'khỏe': 1, 'loạt': 1, 'nấymong': 1, 'cgv': 1, 'bước': 1, 'wtf': 1, 'đảo': 1, 'à': 1, 'zalo': 1, 'kẹo': 1, 'mèo': 1, 'mửa': 1, 'tăm': 1, 'ran': 1, 'dép': 1, 'súc': 1, 'vời': 1, 'thụ': 1, 'lg': 1, 'pk': 1, 'nãy': 1, 'volume': 1, 'corsair': 1, 'taskbar': 1, 'ddr': 1, 'ddrl': 1, 'core': 1, 'homephone': 1, 'tolsen': 1, 'store': 1, 'chóng': 1, 'cào': 1, 'telnet': 1, 'suýt': 1, 'kén': 1, 'dpi': 1, 'tấc': 1, 're': 1, 'nhất': 1, 'khá': 1, 'xài': 1, 'chen': 1, 'è': 1, 'rộp': 1, 'chim': 1, 'marshall': 1, 'klipsch': 1, 'xẹt': 1, 'shiper': 1, 'volumn': 1, 'uổng': 1, 'huyền': 1, 'asus': 1, 'núm': 1, 'nhưg': 1, 'vặt': 1, 'mạch': 1, 'googlecom': 1, 'tnhh': 1, 'tmdv': 1, 'new': 1, 'non': 1, 'ít': 1, 'tạm': 1, 'mạng': 1, 'tối': 1, 'rớt': 1, 'bải': 1, 'ngayquá': 1, 'tráo': 1, 'smartphone': 1, 'khoẻ': 1, 'thữ': 1, 'fullhd': 1, 'vói': 1, 'antennas': 1, 'khắp': 1, 'nháynhưng': 1, 'rathời': 1, 'ảnhmàn': 1, 'bịnhờ': 1, 'lượngmình': 1, 'dàn': 1, 'rủi': 1, 'ro': 1, 'đẩy': 1, 'bợt': 1, 'lát': 1, 'họa': 1, 'diễn': 1, 'crt': 1, 'hẹp': 1, 'gài': 1, 'bẫy': 1, 'bợm': 1, 'vía': 1, 'chây': 1, 'ỳ': 1, 'lặng': 1, 'mốt': 1, 'tri': 1, 'thấu': 1, 'thángmua': 1, 'lầu': 1, 'phè': 1, 'màng': 1, 'chiếu': 1, 'nhớt': 1, 'vãn': 1, 'quai': 1, 'nhịp': 1, 'tim': 1, 'ngành': 1, 'viễn': 1, 'lười': 1, 'ôm': 1, 'tím': 1, 'đùn': 1, 'lẻ': 1, 'múi': 1, 'họng': 1, 'tranding': 1, 'momo': 1, 'lệnh': 1, 'vsmart': 1, 'sập': 1, 'ấn': 1, 'nút': 1, 'phản': 1, 'hồi': 1, 'xìu': 1, 'tiệt': 1, 'lê': 1, 'cụm': 1, 'nhoe': 1, 'nhoét': 1, 'ngạch': 1, 'khôi': 1, 'nhòa': 1, 'zpa': 1, 'đơgiật': 1, 'hìnhđổi': 1, 'xet': 1, 'gphone': 1, 'ppw': 1, 'với': 1, 'cứng': 1, 'tồn': 1, 'suốt': 1, 'loè': 1, 'dead': 1, 'pixel': 1, 'nấc': 1, 'đùng': 1, 'cơn': 1, 'láđây': 1, 'coverage': 1, 'châm': 1, 'ủa': 1, 'khác”': 1, 'iron': 1, 'chui': 1, 'genius': 1, 'hướng': 1, 'dẫn': 1, 'định': 1, 'vị': 1, 'hồ': 1, 'khoảng': 1, 'buộc': 1, 'giữa': 1, 'đổ': 1, 'hiện': 1, 'chữ': 1, 'error': 1, 'shutdown': 1, 'tức': 1, 'lòng': 1, 'delete': 1, 'khùng': 1, 'khoác': 1, 'airpods': 1, 'khóc': 1, 'má': 1, 'eleccom': 1, 'thách': 1, 'xê': 1, 'bios': 1, 'tứ': 1, 'ví': 1, 'dụ': 1, 'nhảy': 1, 'thiệutrước': 1, 'gái': 1, 'route': 1, 'cặc': 1, 'nhác': 1, 'timed': 1, 'out': 1, 'again': 1, 'dục': 1, 'keyboard': 1, 'ddram': 1, 'vengerance': 1, 'gbx': 1, 'memory': 1, 'manage': 1, 'repeat': 1, '“thiết': 1, 'vượt': 1, 'gian”': 1, 'oppo': 1, 'youth': 1, 'ware': 1, 'cặp': 1, 'baseus': 1, 'kê': 1, 'validation': 1, 'date': 1, 'social': 1, 'microcom': 1, 'amazon': 1, 'rằn': 1, 'ri': 1, 'gbgb': 1, 'quý': 1, 'zalopay': 1, 'nhấc': 1, 'cptm': 1, 'tech': 1, 'hường': 1, 'gấu': 1, 'ncc': 1, 'bíp': 1, 'hoạt': 1, 'động': 1, 'kích': 1, 'trước': 1, 'thiển': 1, 'chấn': 1, 'ưu': 1, 'option': 1, 'tẹo': 1, 'dợ': 1, 'nạp': 1, 'gắt': 1, 'goi': 1, 'insert': 1, 'hông': 1, 'nova': 1, 'hài': 1, 'thức': 1, 'bán': 1, 'cắt': 1, 'dịch': 1, 'vụ': 1, 'authentication': 1, 'sandisk': 1, 'kb': 1, 'rep': 1, 'kề': 1, 'bè': 1, 'xấc': 1, 'miband': 1, 'ngửi': 1, 'combo': 1, 'mì́nh': 1, 'xuống': 1, 'giúp': 1, 'amply': 1, 'bụp': 1, 'thoạt': 1, 'sắt': 1, 'mifit': 1, 'gìn': 1, 'hn': 1, 'răng': 1, 'cưa': 1, 'tilki': 1, 'cay': 1, 'baby’s': 1, 'desktop': 1, 'zoom': 1, 'kiêm': 1, 'hừng': 1, 'hực': 1, 'bookmark': 1, 'highlight': 1, 'amazone': 1, 'ngòi': 1, 'typec': 1, 'gaomon': 1, 'lia': 1, 'menu': 1, 'icon': 1, 'lăng': 1, 'lóc': 1, 'kh': 1, 'đượctại': 1, 'lặn': 1, 'lội': 1, 'titono': 1, 'slient': 1, 'computer': 1, 'lzr': 1, 'lzah': 1, 'mn': 1, 'mr': 1, 'dụngppi': 1, 'as': 1, 'onlline': 1, 'gaming': 1, 'software': 1, 'tạch': 1, 'đượcmình': 1, 'thườngg': 1, 'quê': 1, 'hiên': 1, 'đất': 1, 'đương': 1, 'second': 1, 'doanh': 1, 'huống': 1, 'rê': 1, 'redmi': 1, 'bít': 1, 'miêng': 1, 'vải': 1, 'ghé': 1, 'giận': 1, 'lũ': 1, 'ngừng': 1, 'sọc': 1, 'màn': 1, 'vỏ': 1, 'vệ': 1, 'hề': 1, 'đập': 1, 'tổng': 1, 'đài': 1, 'chờ': 1, 'vẻ': 1, 'phàn': 1, 'nàn': 1, 'vấn': 1, 'lạnh': 1, 'cháu': 1, 'tikilàm': 1, 'ổng': 1, 'phun': 1, 'pixma': 1, 'rực': 1, 'rỡ': 1, 'microsoft': 1, 'phổ': 1, 'dựa': 1, 'nguyễn': 1, 'cắn': 1, 'phẫm': 1, 'rề': 1, 'bidv': 1, 'dư': 1, 'phạt': 1, 'brief': 1, 'gift': 1, 'ỉm': 1, 'vù': 1, 'bậc': 1, 'trọn': 1, 'dâu': 1, 'mart': 1, 'cộ': 1, 'đượcgọi': 1, 'ngàytổng': 1, 'thángmình': 1, 'tikithời': 1, 'máycó': 1, 'rập': 1, 'gjao': 1, 'lận': 1, 'tlwrn': 1, 'lọt': 1, 'chọt': 1, 'eltech': 1, 'lành': 1, 'card': 1, 'opt': 1, 'att': 1, 'lock': 1, 'âmmong': 1, 'náy': 1, 'cáomình': 1, 'ez': 1, 'student': 1, 'đấymình': 1, 'mây': 1, 'taiwan': 1, 'bày': 1, 'rapoo': 1, 'cũlỗi': 1, 'tuệ': 1, 'lâm': 1, 'tik': 1, 'inhanh': 1, 'chínhh': 1, 'hãn': 1, 'bac': 1, 'round': 1, 'đáy': 1, 'hấu': 1, 'tab': 1, 'sạcmình': 1, 'folder': 1, 'nguồnsau': 1, 'lật': 1, 'xộn': 1, 'font': 1, 'hè': 1, 'lẫy': 1, 'ggnhưng': 1, 'triển': 1, 'vọngđợt': 1, 'hồitiki': 1, 'kỉ': 1, 'life': 1, 'liberty': 1, 'bụng': 1, 'fan': 1, 'triệt': 1, 'lùm': 1, 'nghẽn': 1, 'tỷ': 1, 'tikimình': 1, 'bánrồi': 1, 'lâucuối': 1, 'vinaphone': 1, 'sốcần': 1, 'voice': 1, 'quađồng': 1, 'vàomình': 1, 'qcyt': 1, 'mini': 1, 'khò': 1, 'bàng': 1, 'rât': 1, 'dựng': 1, 'dập': 1, 'phậm': 1, 'khuất': 1, 'kha': 1, 'flash': 1, 'sale': 1, 'vnd': 1, 'ỏi': 1, 'kkship': 1, 'mk': 1, 'qa': 1, 'dạy': 1, 'ngục': 1, 'chày': 1, 'audio': 1, 'gằn': 1, 'giọng': 1, 'qvo': 1, 'nhói': 1, 'đỗ': 1, 'giơ': 1, 'ố': 1, 'nhoài': 1, 'lát': 1, 'chắc': 1, 'chắn': 1, 'dễ': 1, 'dài': 1, 'dòng': 1, 'đợi': 1, 'xác': 1, 'nhờ': 1, 'trực': 1, 'tiếp': 1, 'hãng': 1, 'liền': 1, 'hãn': 1, 'cúng': 1, 'hưmua': 1, 'sạcbây': 1, 'chởm': 1, 'radio': 1, 'cúp': 1, 'tuầnbây': 1, 'trúng': 1, 'man': 1, 'nhòe': 1, 'tro': 1, 'ung': 1, 'mãis': 1, 'dã': 1, 'khen': 1, 'chu': 1, 'quái': 1, 'quỷ': 1, 'chột': 1, 'két': 1, 'kênh': 1, 'bập': 1, 'bênh': 1, 'sựshop': 1, 'nhá': 1, 'tán': 1, 'nít': 1, 'rổi': 1, 'tơ': 1, 'câm': 1, 'b': 1, 'dõi': 1, 'manager': 1, 'crystaldiskmark': 1, 'mười': 1, 'hú': 1, 'mạc': 1, 'mải': 1, 'mồng': 1, 'tê': 1, 'rò': 1, 'rỉ': 1, 'phường': 1, 'dvu': 1, 'dãy': 1, 'nuốt': 1, 'teamview': 1, 'facetime': 1, 'nốiping': 1, 'tèo': 1, 'cú': 1, 'toshiba': 1, 'mốc': 1, 'okcòn': 1, 'paste': 1, 'hồn': 1, 'hoi': 1, 'rệt': 1, 'boot': 1, 'địa': 1, 'ngất': 1, 'xỉu': 1, 'từa': 1, 'lưa': 1, 'kẻ': 1, 'phốt': 1, 'nhẫn': 1, 'thí': 1, 'cellphones': 1, 'nữalúc': 1, 'service': 1, 'mỹ': 1, 'tách': 1, 'nhức': 1, 'block': 1, 'huy': 1, 'khiến': 1, 'nẻo': 1, 'tắm': 1, 'nhẵn': 1, 'sãn': 1, 'lờ': 1, 'sẳn': 1, 'volum': 1, 'thánh': 1, 'úp': 1, 'de': 1, 'bệnh': 1, 'bồi': 1, 'mode': 1, 'modern': 1, 'fat': 1, 'exfat': 1, 'đâumở': 1, 'input': 1, 'vốn': 1, 'pinsạc': 1, 'loarồi': 1, 'j': 1, 'ps': 1, 'hômloa': 1, 'nguồnyêu': 1, 'tây': 1, 'trệ': 1, 'chech': 1, 'bẹp': 1, 'eletech': 1, 'redeem': 1, 'ticket': 1, 'vùa': 1, 'lẹt': 1, 'bằng': 1, 'chứ': 1, 'ắc': 1, 'giếng': 1, 'đỗi': 1, 'dởthất': 1, 'mix': 1, 'mảng': 1, 'teo': 1, 'minhstonedaquy': 1, 'denshitaro': 1, 'hới': 1, 'mầm': 1, 'thục': 1, 'trại': 1, 'giam': 1, 'main': 1, 'gigabyte': 1, 'hm': 1, 'ds': 1, 'chiêu': 1, 'alo': 1, 'ồ': 1, 'ngạc': 1, 'chiềugiờ': 1, 'sờ': 1, 'đượcthất': 1, 'cũbg': 1, 'hổi': 1, 'nhaumong': 1, 'backup': 1, 'que': 1, 'trờn': 1, 'pclaptop': 1, 'nhựamàn': 1, 'sậm': 1, 'sịt': 1, 'cử': 1, 'rải': 1, 'kémvote': 1, 'facebookcom': 1, 'cellphonescomvn': 1, 'hcomvn': 1, 'anhchị': 1, 'chau': 1, 'chuốt': 1, 'quần': 1, 'què': 1, 'wireless': 1, 'tq': 1, 'sẽ': 1, 'tự': 1, 'trì': 1, 'nếu': 1, 'kí': 1, 'gói': 1, 'cả': 1, 'ngàn': 1, 'lửa': 1, 'đốt': 1, 'nguội': 1, 'thailand': 1, 'hóc': 1, 'thuộc': 1, 'khựng': 1, 'vu': 1, 'evoucher': 1, 'nhạyquá': 1, 'nề': 1, 'sân': 1, 'mớ': 1, 'kcal': 1, 'leo': 1, 'lóe': 1, 'kịch': 1, 'always': 1, 'screen': 1, 'gém': 1, 'xoài': 1, 'ca': 1, 'lác': 1, 'hít': 1, 'uốn': 1, 'ngầm': 1, 'chửi': 1, 'phẳng': 1, 'cuốn': 1, 'ríu': 1, 'ranói': 1, 'captain': 1, 'america': 1, 'marvel': 1, 'chuỗi': 1, 'ngần': 1, 'hớ': 1, 'thất': 1, 'vọng': 1, 'chạy': 1, 'vọngđóng': 1, 'thếch': 1, 'khóng': 1, 'phau': 1, 'face': 1, 'vả': 1, 'táo': 1, 'pincó': 1, 'chéo': 1, 'writeprotected': 1, 'khoan': 1, 'nẹp': 1, 'thép': 1, 'hộc': 1, 'scan': 1, 'lòm': 1, 'evới': 1, 'ben': 1, 'ugreen': 1, 'lêngiờgiải': 1, 'pinnghe': 1, 'pinbỏ': 1, 'hấp': 1, 'rùaphí': 1, 'bỏng': 1, 'tayphí': 1, 'thườngcần': 1, 'lênmình': 1, 'gom': 1, 'hão': 1, 'script': 1, 'chuốc': 1, 'hỉnh': 1, 'ryzen': 1, 'đuoc': 1, 'khì': 1, 'táchthất': 1, 'pause': 1, 'gang': 1, 'dòn': 1, 'qc': 1, 'fast': 1, 'charging': 1, 'write': 1, 'protected': 1, 'trảbảo': 1, 'ngẫu': 1, 'ninjavan': 1, 'bỏ': 1, 'biêt': 1, 'long': 1, 'chèn': 1, 'măn': 1, 'tố': 1, 'tảng': 1, 'sắm': 1, 'đuọc': 1, 'ly': 1, 'mạnh': 1, 'lệnh': 1, 'gửi': 1, 'cầu': 1, 'rỗng': 1, 'pop': 1, 'đượctưởng': 1, 'hệt': 1, 'nhem': 1, 'đức': 1, 'thang': 1, 'taiwain': 1, 'add': 1, 'giỏ': 1, 'chống': 1, 'nước': 1, 'hoặc': 1, 'rửa': 1, 'mất': 1, 'wds': 1, 'gân': 1, 'virut': 1, 'vnpt': 1, 'xém': 1, 'tuỳ': 1, 'lựơng': 1, 'nano': 1, 'mắng': 1, 'bạ': 1, 'gạc': 1, 'chều': 1, 'factory': 1, 'earbuds': 1, 'ngủm': 1, 'lắmmình': 1, 'admin': 1, 'dẻo': 1, 'náp': 1, 'hoco': 1, 'bèo': 1, 'tảo': 1, 'shoppee': 1, 'truớc': 1, 'tuởng': 1, 'windown': 1, 'chưởng': 1, 'thìbị': 1, 'tráirồi': 1, 'đưmg': 1, 'nhạnh': 1, 'út': 1, 'tịch': 1, 'tân': 1, 'pubg': 1, 'nảy': 1, 'thể': 1, 'buồi': 1, 'go': 1, 'sài': 1, 'ngốn': 1, 'share': 1, 'chà': 1, 'nữ': 1, 'rôi': 1, 'chúc': 1, 'cư': 1, 'tpkink': 1, '“chờ': 1, 'chuyển”': 1, 'ọt': 1, 'ẹt': 1, 'hạ': 1, 'wiffi': 1, 'nhảm': 1, 'nhí': 1, 'shopnhét': 1, 'dv': 1, 'basesus': 1, 'intercom': 1, 'kms': 1, 'đám': 1, 'giờchỉ': 1, 'shoppin': 1, 'del': 1, 'thẻ': 1, 'đọc': 1, 'chậm': 1, 'trữ': 1, 'cảm': 1, 'lắm': 1, 'máy+đã': 1, 'châp': 1, 'dlink': 1, 'dirl': 1, 'archer': 1, 'enhancedbass': 1, 'crystal': 1, 'mark': 1, 'trận': 1, 'phẩmhộp': 1, 'gpu': 1, 'amd': 1, 'iphoneipad': 1, 'tráitôi': 1, 'xóc': 1, 'ướt': 1, 'trộn': 1, 'lêntôi': 1, 'nhấy': 1, 'quài': 1, 'giớ': 1, 'xả': 1, 'ấy': 1, 'gbtháng': 1, 'nhg': 1, 'toànbấm': 1, 'quí': 1, 'cướcshop': 1, 'hsử': 1, 'caomà': 1, 'đượcược': 1, 'simg': 1, 'phátkết': 1, 'ừ': 1, 'đai': 1, 'lênsạc': 1, 'vàođổi': 1, 'tàng': 1, 'lạy': 1, 'command': 1, 'left': 1, 'z': 1, 'tấn': 1, 'sướng': 1, 'sủ': 1, 'nnắp': 1, 'địch': 1, 'shopchờ': 1, 'open': 1, 'hànhsữa': 1, 'chịumong': 1, 'tochất': 1, 'nàonói': 1, 'nhauyêu': 1, 'thíchđể': 1, 'gớm': 1, 'toang': 1, 'vang': 1, 'sột': 1, 'soạt': 1, 'bênmong': 1, 'xối': 1, 'tuyển': 1, 'rẹt': 1, 'vọngtôi': 1, 'hạn': 1, 'bênhi': 1, 'đượccần': 1, 'dứt': 1, 'cm': 1, 'tất': 1, 'từng': 1, 'trường': 1, 'hợp': 1, 'hộp': 1, 'tép': 1, 'nhựa': 1, 'rạch': 1, 'sẵn': 1, 'toàn': 1, 'diện': 1, 'tệnhận': 1, 'thửai': 1, 'luônbị': 1, 'cười': 1, 'chonói': 1, 'thảm': 1, 'hăm': 1, 'wdpurz': 1, 'recertified': 1, 'lôm': 1, 'côm': 1, 'cha': 1, 'nuôi': 1, 'nghịch': 1, 'phiếm': 1, 'ngốc': 1, 'quỵt': 1, 'turn': 1, 'off': 1, 'iso': 1, 'râu': 1, 'nhả': 1, 'đòi': 1, 'giữ': 1, 'joy': 1, 'latitude': 1, 'shoptido': 1, 'rén': 1, 'đọ': 1, 'dầu': 1, 'mỡ': 1, 'mesh': 1, 'tệp': 1, 'nhục': 1, 'ms': 1, 'totolinkex': 1, 'bo': 1, 'đượcthứ': 1, 'lâumình': 1, 'xongtrong': 1, 'chomua': 1, 'ngườigọi': 1, 'cáu': 1, 'trợ”': 1, 'khinh': 1, 'tradding': 1, 'thơm': 1, 'kbps': 1, 'đá': 1, 'cãi': 1, 'ankercomverify': 1, 'brother': 1, 'hlldw': 1, 'hll': 1, 'phết': 1, 'sợi': 1, 'ngờ': 1, 'loại': 1, 'cá': 1, 'đóng': 1, 'kỹ': 1, 'thuật': 1, 'việc': 1, 'cấp': 1, 'đủ': 1, 'chuẩn': 1, 'tới': 1, 'đầy': 1, 'cọng': 1, 'đầygiá': 1, 'mẻ': 1, 'ngắt': 1, 'quãng': 1, 'phông': 1, 'trái': 1, 'khó': 1, 'chịu': 1, 'méo+đã': 1, 'thiếuthất': 1, 'bkav': 1, 'hhd': 1, 'nuông': 1, 'lấp': 1, 'liếm': 1, 'rồicòn': 1, 'thiêt': 1, 'đấng': 1, 'trể': 1, 'os': 1, 'theo…': 1, 'đọcghi': 1, 'vâng': 1, 'tốc': 1, 'ổn': 1, 'ném': 1, 'secureaccess': 1, 'lọ': 1, 'rửa': 1, 'cậu': 1, 'đón': 1, 'tít': 1, 'lầnchắc': 1, 'móng': 1, 'wh': 1, 'nhằm': 1, 'thiểu': 1, 'ngoàimong': 1, 'đángtikivn': 1, 'đượclàm': 1, 'buetoorh': 1, 'thậndung': 1, 'nốibắt': 1, 'lam': 1, 'hoàn': 1, 'đánh': 1, 'giá': 1, 'lặng': 1, 'lặp': 1, 'đặ̣t': 1, 'sàng': 1, 'nhớ': 1, 'cafule': 1, 'tikixu': 1, 'giaohangnhanh': 1, 'nạt': 1, 'thần': 1, 'nộ': 1, 'hảo': 1, 'khiếplần': 1, 'wps': 1, 'đượcvui': 1, 'chiệc': 1, 'mổ': 1, 'bốc': 1, 'nêu': 1, 'capcuulaptopcom': 1, 'cable': 1, 'luậnchất': 1, 'gồm': 1, 'temmà': 1, 'đước': 1, 'kingmax': 1, 'sủi': 1, 'bb': 1, 'le': 1, 'ngoái': 1, 'generation': 1, '“tiki': 1, 'ngày”': 1, 'boox': 1, 'thúc': 1, 'dô': 1, 'vó': 1, 'nộp': 1, 'cắp': 1, 'băn': 1, 'khoăn': 1, 'quầy': 1, 'trích': 1, 'tóc': 1, 'secondhand': 1, 'collection': 1, 'thánggiờ': 1, 'nữatôi': 1, 'cướp': 1, 'tháy': 1, 'flow': 1, 'is': 1, 'nưa': 1, 'call': 1, 'fuhlen': 1, 'l': 1, 'thưa': 1, 'ư': 1, 'traveler': 1, 'thừa': 1, 'spiderman': 1, 'nhóc': 1, 'tặc': 1, 'nhủ': 1, 'cò': 1, 'vũ': 1, 'hànghoàn': 1, 'bá': 1, 'đạo': 1, 'khuya': 1, 'cannon': 1, 'chắnảnh': 1, 'hãi': 1, 'chếkhuyên': 1, 'pny': 1, 'pistion': 1, 'acer': 1, 'nitro': 1, 'request': 1, 'time': 1, 'nữaquá': 1, 'nàotưởng': 1, 'lite': 1, 'ngóm': 1, 'ngòm': 1, 'spen': 1, 'xương': 1, 'ráo': 1, 'appstore': 1, 'đếch': 1, 'sketch': 1, 'đà': 1, 'vivi': 1, 'yc': 1, 'đẹt': 1, 'linux': 1, 'ngặt': 1, 'dòm': 1, 'ngó': 1, 'thỳ': 1, 'ảnh…giờ': 1, 'qué': 1, 'mừng': 1, 'phấn': 1, 'mfi': 1, 'via': 1, 'loẹt': 1, 'xào': 1, 'airdots': 1, 'andyson': 1, 'luônbật': 1, 'lênkhông': 1, 'nữacắm': 1, 'đượcbức': 1, 'tua': 1, 'thuờng': 1, 'kvà': 1, 'gcông': 1, 'formats': 1, 'nhão': 1, 'nhẹt': 1, 'vần': 1, 'đềtôi': 1, 'nhạo': 1, 'helio': 1, 'exynos': 1, 'cấpbáo': 1, 'trắngtai': 1, 'rèdùng': 1, 'hàngcái': 1, 'rdm': 1, 'phán': 1, 'rầu': 1, 'nồi': 1, 'hữu': 1, 'yêntiki': 1, 'tước': 1, 'thờ': 1, 'tợ': 1, 'nắng': 1, 'lênthật': 1, 'thù': 1, 'psr': 1, 'đứt': 1, 'tờ': 1, 'giấy': 1, 'tử': 1, 'thuốc': 1, 'đứtthật': 1, 'mốp': 1, 'fullbox': 1, 'nàynhưng': 1, 'gãyvà': 1, 'ống': 1, 'tuyếnkém': 1, 'đềnhận': 1, 'quick': 1, 'thắt': 1, 'sq': 1, 'say': 1, 'goodbye': 1, 'xãy': 1, 'phụclại': 1, 'tikilần': 1, 'fujifilm': 1, 'lens': 1, 'phillipines': 1, 'tikimua': 1, 'đượctiki': 1, 'đáp': 1, 'thực': 1, 'tế': 1, 'gx': 1, 'iitôi': 1, 'kèo': 1, 'nrh': 1, 'yoosee': 1, 'ships': 1, 'ankercon': 1, 'căn': 1, 'bễ': 1, 'andbon': 1, 'lạimua': 1, 'connection': 1, 'đượcmay': 1, 'ắp': 1, 'quyét': 1, 'qr': 1, 'quốcđề': 1, 'mọ': 1, 'vỉ': 1, 'đán': 1, 'đượcxin': 1, 'livestream': 1, 'tôivề': 1, 'range': 1, 'extender': 1, 'khẩutôi': 1, 'vậycó': 1, 'quốctôi': 1, 'gbtiki': 1, 'gws': 1, 'lte': 1, 'ngạc': 1, 'đến': 1, 'dự': 1, 'kiến': 1, 'điều': 1, 'ở': 1, 'tỉnhthành': 1, 'tác': 1, 'bì': 1, 'thật': 1, 'sự': 1, 'nữakhuyên': 1, 'hiêu': 1, 'giảcon': 1, 'bàn': 1, 'cháy': 1, 'tín': 1, 'tìn': 1, 'cuốirất': 1, 'càng': 1, 'sách': 1, 'giờ': 1, 'đảm': 1, 'xpro': 1, '°': 1, 'tảtưởng': 1, 'sensor': 1, 'nhớbữa': 1, 'cammera': 1, 'raw': 1, 'hờ': 1, 'khúc': 1, 'ổ': 1, 'phiền': 1, 'thángchất': 1, 'vinid': 1, 'root': 1, 'checker': 1, 'nhợt': 1, 'nhan': 1, 'fix': 1, 'dả': 1, 'tickcheckv': 1, 'lưuok': 1, 'nghĩbắt': 1, 'đơkết': 1, 'đơmáy': 1, 'luônmọi': 1, 'rèmình': 1, 'nhứ': 1, 'mồm': 1, 'chêm': 1, 'cộp': 1, 'oke': 1, 'temp': 1, 'tui': 1, 'chồi': 1, 'trươc': 1, 'trảwifi': 1, 'chảo': 1, 'oi': 1, 'khoi': 1, 'dong': 1, 'ycau': 1, 'chs': 1, 'sướt': 1, 'kượng': 1, 'đơi': 1, 'siu': 1, 'wa': 1, 'tỳ': 1, 'vếch': 1, 'ninja': 1, 'van': 1, 'nắm': 1, 'nokia': 1, 'nãn': 1, 'okmàn': 1, 'thíc': 1, 'kt': 1, 'dachọn': 1, 'nổimở': 1, 'hứngthất': 1, 'chậmsac': 1, 'hanh': 1, 'lad': 1, 'r': 1, 'giựt': 1, 'mệtcamera': 1, 'selfie': 1, 'xấucam': 1, 'nétmáy': 1, 'nặngcòn': 1, 'thui': 1, 'vưà': 1, 'sky': 1, 'diss': 1, 'check': 1, 'ché': 1, 'games': 1, 'ja': 1, 'xạm': 1, 'xỉn': 1, 'apps': 1, 'viber': 1, 'skype': 1, 'ipplus': 1, 'fail': 1, 'ịhone': 1, 'citibank': 1, 'xsmax': 1, 'prime': 1, 'giảm': 1, 'kvà': 1, 'kcảm': 1, 'mặc': 1, 'đáng': 1, 'vs': 1, 'gàng': 1, 'đẹpnhìn': 1, 'sạt': 1, 'chak': 1, 'chậmtrải': 1, 'kháok': 1, 'lột': 1, 'sms': 1, 'lla': 1, 'purchase': 1, 'not': 1, 'validated': 1, 'll': 1, 'trâu': 1, 'sales': 1, 'kông': 1, 'mgg': 1, 'gáp': 1, 'ny': 1, 'httpssupportapplecommysupport': 1, 'settinggeneralabout': 1, 'limited': 1, 'chạc': 1, 'xạc': 1, 'ớ': 1, 'hong': 1, 'khôngng': 1, 'xày': 1, 'gop': 1, 'rui': 1, 'chấm': 1, 'trk': 1, 'paperwhiteth': 1, 'noi': 1, 'nghemong': 1, 'mựơt': 1, 'hihi': 1, 'nông': 1, 'lac': 1, 'blc': 1, 'blcb': 1, 'kem': 1, 'ađổi': 1, 'khôngmàn': 1, 'giáp': 1, 'mu': 1, 'ppi': 1, 'basic': 1, 'manga': 1, 'pdf': 1, 'thuyết': 1, 'feedback': 1, 'packaging': 1, 'muối': 1, 'xẹo': 1, 'page': 1, 'refresh': 1, 'hdsử': 1, 'dịu': 1, 'lóa': 1, 'tablet': 1, 'điển': 1, 'phẩmecial': 1, 'offers': 1, 'screensaver': 1, 'ads': 1, 'homescreen': 1, 'đg': 1, 'search': 1, 'find': 1, 'bang': 1, 'th': 1, 'thình': 1, 'truyện': 1, 'inói': 1, 'chuyệnh': 1, 'quápin': 1, 'nữatuy': 1, 'nhiềuchỉ': 1, 'thườnghy': 1, 'tệmàn': 1, '“cài': 1, 'đặt”': 1, 'giang': 1, 'rom': 1, 'đặn': 1, 'xã': 1, 'biét': 1, 'phâm': 1, 'mik': 1, 'nhìu': 1, 'pải': 1, 'teen': 1, 'ái': 1, 'theard': 1, 'view': 1, 'hội': 1, 'tuần+khuyết': 1, 'được+tóm': 1, 'điểm+chức': 1, 'opera': 1, '+': 1, 'sẵncó': 1, 'củng': 1, 'ntn': 1, 'hot': 1, 'mĩnh': 1, 'rùi': 1, 'buds': 1, 'ại': 1, 'rau': 1, 'bềnh': 1, 'mền': 1, 'họp': 1, 'shio': 1, 'pít': 1, 'đáo': 1, 'san': 1, 'pham': 1, 'thuc': 1, 'nhin': 1, 'chup': 1, 'dep': 1, 'cau': 1, 'toc': 1, 'vao': 1, 'dang': 1, 'chua': 1, 'the': 1, 'muc': 1, 'tien': 1, 'binh': 1, 'dan': 1, 'tam': 1, 'ui': 1, 'mờxấu': 1, 'nguồnjờ': 1, 'ổnkhông': 1, 'tzước': 1, 'nữavà': 1, 'cài': 1, 'hệ': 1, 'tzung': 1, 'quốc': 1, 'tơi': 1, 'vơi': 1, 'giân': 1, 'trake': 1, 'hom': 1, 'lun': 1, 'tikihicmình': 1, 'usử': 1, 'annoying': 1, 'browse': 1, 'unlimited': 1, 'ổncu': 1, 'kémsac': 1, 'sad': 1, 'câú': 1, 'het': 1, 'sop': 1, 'tot': 1, 'front': 1, 'test': 1, 'tuan': 1, 'chử': 1, 'fire': 1, 'rvài': 1, 'thôinhưg': 1, 'dưg': 1, 'bh': 1, 'tiếngdùg': 1, 'mog': 1, 'tôimong': 1, 'room': 1, 'you': 1, 'tube': 1, 'tieng': 1, 'deal': 1, 'sock': 1, 'alexa': 1, 'biếtđợi': 1, 'đk': 1, 'ctv': 1, 'hok': 1, 'lăm': 1, 'phat': 1, 'trien': 1, 'hoan': 1, 'thien': 1, 'hon': 1, 've': 1, 'cac': 1, 'bug': 1, 'nghieng': 1, 'ngham': 1, 'thap': 1, '\\U0001f9d0\\U0001f9d0\\U0001f97a\\U0001f97a\\U0001f97a': 1, 'lãm': 1, 'india': 1, 'review': 1, 'hàngtôi': 1, 'smartcom': 1, 'bbsmartcomcomvn': 1, 'bbb': 1, 'unlocked': 1, 'usa': 1, 'produt': 1, 'gởi': 1, 'blackberry': 1, 'smọi': 1, 'ngườil': 1, 'qte': 1, 'o': 1, 'sới': 1, 'chính': 1, 'hòa': 1, 'rand': 1, 'goul': 1, 'hơnkhông': 1, 'sữ': 1, 'dụngdễ': 1, 'taycon': 1, 'vivo': 1, 'dùngvân': 1, 'camara': 1, 'thiet': 1, 'nho': 1, 'cug': 1, 'giong': 1, 'thỏ': 1, 'ổnpin': 1, 'dầy': 1, 'gold': 1, 'ẹpnổi': 1, 'đâumuon': 1, 'tgdd': 1, 'mê': 1, 'package': 1, 'telex': 1, 'nt': 1, 'phỏng': 1, 'hưchưa': 1, 'nghỉhưu': 1, 'lsao': 1, 'nã': 1, 'khử': 1, 'freeship': 1, 'edm': 1, 'dừngphát': 1, 'chuyểnlùi': 1, 'tănggiảm': 1, 'cắtkhui': 1, 'dăm': 1, 'thầy': 1, 'xầy': 1, 'vầy': 1, 'gới': 1, 'azzor': 1, 'eagle': 1, 'okay': 1, 'mộ': 1, 'cộm': 1, 'mính': 1, 'xi': 1, 'măng': 1, 'macpro': 1, 'cty': 1, 'bài': 1, 'hiểu': 1, 'chổ': 1, 'chức': 1, 'hnay': 1, 'delay': 1, 'tẹo++đổi': 1, 'gờ': 1, 'nhô': 1, 'đàu': 1, 'nhọn': 1, 'đừn': 1, 'mousepad': 1, 'hiệu': 1, 'liệt': 1, 'clicky': 1, 'bảohành': 1, 'ktra': 1, 'shoope': 1, 'phú': 1, 'vũng': 1, 'tru': 1, 'kọt': 1, 'thơi': 1, 'tiềng': 1, 'màu': 1, 'sắc': 1, 'ảnh': 1, 'tả': 1, 'autocad': 1, 'srsxb': 1, 'lắmvừa': 1, 'chịuban': 1, 'vậythử': 1, 'vậydùng': 1, 'iphol': 1, 'tren': 1, 'dat': 1, 'tram': 1, 'pgi': 1, 'tớigơi': 1, 'ýsản': 1, 'quátai': 1, 'bùn': 1, 'hịc': 1, 'hoen': 1, 'taimình': 1, 'wed': 1, 'ổnđóng': 1, 'gọnlúc': 1, 'lắmcòn': 1, 'cai': 1, 'nen': 1, 'bai': 1, 'dão': 1, 'thik': 1, 'khônh': 1, 'debug': 1, 'info': 1, 'day': 1, 'chun': 1, 'notefe': 1, 'niệm': 1, 'hàngnhưng': 1, 'dai': 1, 'lighting': 1, 'qrcode': 1, 'nhẩy': 1, 'haybị': 1, 'rèkhông': 1, 'cõng': 1, 'popup': 1, 'khía': 1, 'onl': 1, 'pr': 1, 'gc': 1, 'tu': 1, 'roi': 1, 'khong': 1, 'biet': 1, 'mut': 1, 'đẹm': 1, 'bas': 1, 'bứt': 1, 'lấn': 1, 'dãi': 1, 'vành': 1, 'khoét': 1, 'xb': 1, 'ngõ': 1, 'nv': 1, 'khuyếch': 1, 'dụngđộ': 1, 'viet': 1, 'login': 1, 'config': 1, 'password': 1, 'ssid': 1, 'alcatel': 1, 'tông': 1, 'díconnected': 1, 'định+tốt': 1, 'điện+không': 1, '₫giao': 1, 'cọt': 1, 'ạcảm': 1, 'streaming': 1, 'bèn': 1, 'tưởng+tiki': 1, 'nhóp': 1, 'nhéo': 1, 'năm+vì': 1, 'm+dùng': 1, 'phẩmeed': 1, 'boost': 1, 'cót': 1, 'nhueng': 1, 'visa': 1, 'rích': 1, 'wpscòn': 1, 'phế': 1, 'resẹt': 1, 'adminadmin': 1, 'cờ': 1, 'lang': 1, 'plant': 1, 'zombie': 1, 'thườngh': 1, 'hiếm': 1, 'goài': 1, 'nẩy': 1, 'đẽ': 1, 'doubleclick': 1, 'ngọt': 1, 'dbi': 1, 'dần': 1, 'nao': 1, 'vay': 1, 'câp': 1, 'thy': 1, 'ạk': 1, 'ethernet': 1, 'firrmware': 1, 'cab': 1, 'eo': 1, 'khoang': 1, 'cach': 1, 'goc': 1, 'kich': 1, 'free': 1, 'chuộtd': 1, 'sờn': 1, 'khồn': 1, 'mảrvel': 1, 'haizz': 1, 'phẩmam': 1, 'black': 1, 'panther': 1, 'mướt': 1, 'phẩmiderman': 1, 'bặm': 1, 'phẩmider': 1, 'chát': 1, 'lèo': 1, 'củn': 1, 'pas': 1, 'lenh': 1, 'sx': 1, 'xót': 1, 'ngửa': 1, 'chê+thấy': 1, 'nhào': 1, 'nhất+thất': 1, 'khuy': 1, 'tiki+xong': 1, 'tiền+mong': 1, 'support': 1, 'gồ': 1, 'ghề': 1, 'fantasy': 1, 'dì': 1, 'mat': 1, 'nguon': 1, 'gui': 1, 'upload': 1, 'chảnh': 1, 'lào': 1, 'xí': 1, 'earpods': 1, 'vk': 1, 'ngàyít': 1, 'tili': 1, 'lq': 1, 'trhợp': 1, '，': 1, 'steal': 1, 'cp': 1, 'pt': 1, 'chẹp': 1, 'đoi': 1, 'xăng': 1, 'càu': 1, 'khoãng': 1, 'cắtrạch': 1, 'bổng': 1, 'coupon': 1, 'thuông': 1, 'airpop': 1, 'fake': 1, 'cppy': 1, 'forrmat': 1, 'phaie': 1, 'tks': 1, 'chuyệnl': 1, 'phai': 1, 'giặt': 1, 'lieu': 1, 'luong': 1, 'thoi': 1, 'kiem': 1, 'phien': 1, 'ha': 1, 'doi': 1, 'nhặt': 1, 'bg': 1, 'gióng': 1, 'giávậy': 1, 'độ': 1, 'bền': 1, 'sấp': 1, 'sỉ': 1, 'tgdđ': 1, 'oki': 1, 'acc': 1, 'kk': 1, 'ss': 1, 'kg': 1, 'àh': 1, 'kì': 1, 'cục': 1, 'pair': 1, 'cod': 1, 'khôngtai': 1, 'tráicó': 1, 'nhỉnh': 1, 'onoff': 1, 'lì': 1, 'híc': 1, 'dà': 1, 'hu': 1, 'tráiphải': 1, 'vp': 1, 'tọt': 1, 'pn': 1, 'kiến+sản': 1, 'thôilệch': 1, 'thfi': 1, 'đax': 1, 'gon': 1, 'trm': 1, 'energize': 1, 'onnhưng': 1, 'lạc': 1, 'sượng': 1, 'lunz': 1, 'fk': 1, 'giánhỏ': 1, 'improve': 1, 'lắmnhưng': 1, 'tốtgọn': 1, 'tayvà': 1, 'nữaso': 1, 'dụngtuy': 1, 'luônkhông': 1, 'nữamình': 1, 'dè': 1, 'w÷w': 1, 'tảgiao': 1, 'đieejn': 1, 'nhìn': 1, 'sam': 1, 'thoải': 1, 'fe': 1, 'đạt': 1, 'mẫu': 1, 'mã': 1, 'nóng': 1, 'phẩmđen': 1, 'đúa': 1, 'ipx': 1, 'vqanx': 1, 'dp': 1, 'hàngchưa': 1, 'huhu': 1, 'mói': 1, 'cấm': 1, 'lẽo': 1, 'tikimong': 1, 'capslock': 1, 'ctrl': 1, 'caps': 1, 'num': 1, 'nhah': 1, 'muatổng': 1, 'layout': 1, 'fn': 1, 'mitsumi': 1, 'khg': 1, 'thich': 1, 'chiến': 1, 'đàn': 1, 'típ': 1, 'hiu': 1, 'dx': 1, 'banh': 1, 'bìn': 1, 'flycam': 1, 'chuối': 1, 'ush': 1, 'class': 1, 'khống': 1, 'toả': 1, 'gắt\\U0001f928': 1, 'bọ': 1, 'rạchbóc': 1, 'mbsmbs': 1, 'ssử': 1, 'monitor': 1, 'vọt': 1, 'lònh': 1, 'xướt': 1, 'phập': 1, 'cheap': 1, 'sanag': 1, 'hoà': 1, 'train': 1, 'chut': 1, 'bjo': 1, 'fai': 1, 'ực': 1, 'tùe': 1, 'laptopn': 1, 'néu': 1, 'buốt': 1, 'nứa': 1, 'haylou': 1, 'gt': 1, '😔': 1, 'lợimọi': 1, 'nhac': 1, 'ngiên': 1, 'qcy': 1, 'đx': 1, 'lắmđôi': 1, 'xêm': 1, 'đượctoàn': 1, 'ranhét': 1, 'nghĩđeo': 1, 'quánhỏ': 1, 'boc': 1, 'op': 1, 'ep': 1, 'hop': 1, 'tong': 1, 'malay': 1, 'míc': 1, 'shark': 1, 'dũng': 1, 'gym': 1, 'ear': 1, 'giỏi': 1, 'hieu': 1, 'giup': 1, 'láâm': 1, 'thườngbass': 1, 'experia': 1, 'brand': 1, 'chátbass': 1, 'haydây': 1, 'mõng': 1, 'gầm': 1, 'cưỡng': 1, 'tt': 1, 'dĩ': 1, 'mh': 1, 'ktr': 1, 'work': 1, 'đạp': 1, 'phídịch': 1, 'site': 1, 'xây': 1, 'winhotechvn': 1, 'fb': 1, 'mess': 1, 'wechat': 1, 'coachs': 1, 'ujt': 1, 'huyết': 1, 'bỏa': 1, 'tosiba': 1, 'đò': 1, 'haivl': 1, 'quátốc': 1, 'nhử': 1, 'mầy': 1, 'usản': 1, 'dem': 1, 'dongtạm': 1, 'cữ': 1, 'vinh': 1, 'oder': 1, 'gòn': 1, 'chôi': 1, 'khọ': 1, 'haiz': 1, 'hoie': 1, 'bootable': 1, 'device': 1, 'oknhưng': 1, 'hàngtiki': 1, 'thic': 1, 'hàgnh': 1, 'bôi': 1, 'douple': 1, 'change': 1, 'mộng': 1, 'kl': 1, 'nheo': 1, 'vẹo': 1, 'philipin': 1, 'quốclắp': 1, 'đánb': 1, 'đựoc': 1, 'taytiếng': 1, 'dán': 1, 'phiếu': 1, 'ứng': 1, 'lớn': 1, 'tóm': 1, 'tikingoài': 1, 'ol': 1, 'tl': 1, 'nghiên': 1, 'hiểuthì': 1, 'rởm': 1, 'đượcj': 1, 'lay': 1, 'hẹnsản': 1, 'tảtốc': 1, 'ổnthẻ': 1, 'cáonhg': 1, 'đẻ': 1, 'qtrong': 1, 'sámung': 1, 'dộ': 1, 'rpm': 1, 'nén': 1, 'hitachi': 1, 'js': 1, 'shopđược': 1, 'hwa': 1, 'đượv': 1, 'hic': 1, 'súng': 1, 'training': 1, 'tồis': 1, 'macbookpro': 1, 'khôngsản': 1, 'trấn': 1, 'order': 1, 'kttk': 1, 'mỉa': 1, 'haizzzz': 1, 'thồi': 1, '₫': 1, 'gbngày': 1, 'andauboianói': 1, 'chuyệnut': 1, 'rules': 1, 'mết': 1, 'linksys': 1, 'hầm': 1, 'ngầu': 1, 'liêb': 1, 'hoạy': 1, 'cu': 1, 'huong': 1, 'doc': 1, 'nhaccuatui': 1, 'bluetoolk': 1, 'tét': 1, 'mot': 1, 'dua': 1, 'gay': 1, 'trau': 1, 'rang': 1, 'duoi': 1, 'kđag': 1, 'brick': 1, 'bank': 1, 'lọi': 1, 'loi': 1, 'bien': 1, 'nhap': 1, 'siri': 1, 'wpa': 1, 'pci': 1, 'hackintosh': 1, 'nàophải': 1, 'khôngchs': 1, 'bạng': 1, 'bss': 1, 'thú': 1, 'nhémất': 1, 'mí': 1, 'latop': 1, 'dẹt': 1, 'mường': 1, 'giẻ': 1, 'bông': 1, 'ngoáy': 1, 'khắt': 1, 'ác': 1, 'rót': 1, 'bêngói': 1, 'chắnbass': 1, 'áimai': 1, 'liệc': 1, 'đượchẹn': 1, 'ré': 1, 'đềugiá': 1, 'lót': 1, 'sốc': 1, 'ngoài': 1, 'but': 1, 'bonus': 1, 'adata': 1, 'rả': 1, 'trê': 1, 'sảp': 1, 'rata': 1, 'ló': 1, 'chữa': 1, 'rach': 1, 'thườngtạm': 1, 'ổnnghe': 1, 'chunq': 1, 'dạnq': 1, 'đẹpnhư': 1, 'tsi': 1, 'não': 1, 'tì': 1, 'hlld': 1, 'nhamau': 1, 'yếu': 1, 'thích': 1, 'hl': 1, 'dmong': 1, 'hạnshop': 1, 'tgời': 1, 'duc': 1, 'ttiki': 1, 'đọng': 1, 'dh': 1, 'ak': 1, 'neo': 1, 'rễ': 1, 'activ': 1, 'platinum': 1, 'tiẻn': 1, 'nơ': 1, 'random': 1, 'sến': 1, 'rện': 1, 'series': 1, 'calories': 1, 'hằng': 1, 'buetooth': 1, 'me': 1, 'crown': 1, '”': 1, 'mõi': 1, 'mát': 1, 'lưới': 1, 'quạt': 1, 'ồn': 1, 'nổi': 1, 'ớt': 1, 'thổi': 1, 'nhiệt': 1, 'lật': 1, 'mát': 1, 'dốc': 1, 'yếucảm': 1, 'nhìugây': 1, 'đễ': 1, 'nàomong': 1, 'hoạc': 1, 'xongchỉ': 1, 'ạmong': 1, 'hổ': 1, 'ket': 1, 'duọc': 1, 'thôiđổi': 1, 'ht': 1, 'qin': 1, 'chx': 1, 'kit': 1, 'converter': 1, 'normal': 1, 'nạn': 1, 'version': 1, 'hương': 1, 'tick': 1, 'lòi': 1, 'vậythiết': 1, 'connectingmình': 1, 'aktrả': 1, 'pịn': 1, 'dội': 1, 'phía': 1, 'bản': 1, 'sóng': 1, 'gió': 1, 'hụt': 1, 'túi': 1, 'vải': 1, 'bám': 1, 'bẩn': 1, 'số': 1, 'nmol': 1, 'hốt': 1, 'swich': 1, 'congphuong': 1, 'phiêu': 1, '℅': 1, 'quoài': 1, 'gim': 1, 'duo': 1, 'ngà': 1, 'tỉnh': 1, 'grip': 1, 'nat': 1, 'sunflower': 1, 'khachackeo': 1, 'extra': 1, 'tldr': 1, 'hcm': 1, 'contact': 1, 'thiên': 1, 'réo': 1, 'mẽ': 1, 'rùng': 1, 'mãnh': 1, 'awakening': 1, 'ivan': 1, 'torrent': 1, 'twisted': 1, 'transistor': 1, 'khôngrn': 1, 'guitar': 1, 'automatica': 1, 'cymatics': 1, 'nigel': 1, 'stanford': 1, 'xướng': 1, 'rầm': 1, 'original': 1, 'flame': 1, 'audioslave': 1, 'war': 1, 'poets': 1, 'of': 1, 'fall': 1, 'bạch': 1, 'đuối': 1, 'boosted': 1, 'industrial': 1, 'metal': 1, 'alternative': 1, 'rock': 1, 'neck': 1, 'balo': 1, 'dươi': 1, 'khôg': 1, 'cạ': 1, 'mồn': 1, 'ởin': 1, 'khôngbiết': 1, 'chê': 1, 'đượcomg': 1, 'nhậnmaf': 1, 'nhậm': 1, 'toki': 1, 'bợ': 1, 'buýt': 1, 'se': 1, 'kỷ': 1, 'watầm': 1, 'pinhaizz': 1, 'vietnamobile': 1, 'vứa': 1, 'maximum': 1, 'rw': 1, 'extreme': 1, 'dowm': 1, 'chiếm': 1, 'sứ': 1, 'tag': 1, 'ultra': 1, 'builtin': 1, 'seft': 1, 'tgian': 1, 'petro': 1, 'thuỷ': 1, 'mưng': 1, 'gấp': 1, 'chế': 1, 'chọn': 1, 'trễ': 1, 'lựa': 1, 'tại': 1, 'mediamart': 1, 'khỏi': 1, 'lỡ': 1, 'thôn': 1, '😄': 1, 'loem': 1, 'đenkhông': 1, 'tịi': 1, 'temdán': 1, 'disản': 1, 'phẩmlayportnhờ': 1, 'ips': 1, 'ctac': 1, 'dản': 1, 'ngẩng': 1, 'ngoai': 1, 'mượt': 1, 'gặp': 1, 'tháo': 1, 'trùng': 1, 'rõ': 1, 'lầm': 1, 'digiworl': 1, 'lạo': 1, 'xạo': 1, 'rọt': 1, 'nàytuy': 1, 'lắm+tiki': 1, 'tươi': 1, 'dương+': 1, 'lém': 1, 'tttt++tóm': 1, 'chắp': 1, 'vá': 1, 'chíp': 1, 'lạng': 1, 'sorry': 1, 'bunny': 1, 'form': 1, '🤷\\u200d♀️': 1, 'cao+thiết': 1, 'cao+trọng': 1, 'khó+nút': 1, 'rõ+pin': 1, 'phi': 1, 'tốtnhưng': 1, 'yếunhiều': 1, 'chời': 1, 'chớ': 1, 'access': 1, 'point': 1, 'ok++vào': 1, 'playtivi': 1, 'hỏngtiki': 1, 'tinnhỡ': 1, 'db': 1, 'ổntuỳ': 1, 'thườnghg': 1, 'youtobe': 1, 'fiwi': 1, 'hả': 1, 'ồn+nhược': 1, 'appleserialnumberinfocom': 1, '“unsupported': 1, 'or': 1, 'chuyệnorrect”': 1, 'dạvângcảm': 1, 'labình': 1, 'thườngop': 1, 'nằmg': 1, 'phảivì': 1, 'headphone': 1, 'lenovo': 1, 'ạvẫn': 1, 'dẽ': 1, 'gtgt': 1, 'ghe': 1, 'nhưn': 1, 'mìn': 1, 'rã': 1, 'kiệnđã': 1, 'logitect': 1, 'anywhere': 1, 'thit': 1, 'nhước': 1, 'rỏ': 1, 'đén': 1, 'middle': 1, 'options': 1, 'trốc': 1, 'button': 1, 'excel': 1, 'pad': 1, 'kiu': 1, 'usuk': 1, 'taylor': 1, 'swift': 1, 'vâu': 1, 'hịu': 1, 'hazi': 1, 'khônghiện': 1, 'trackpoint': 1, 'group': 1, 'ưa': 1, 'át': 1, 'níu': 1, 'airpot': 1, 'mijoas': 1, 'sẹo': 1, 'chanh': 1, 'khè': 1, 'quẹt': 1, 'huwei': 1, 'gía': 1, 'hãngnhư': 1, 'tpu': 1, 'tap': 1, 'detect': 1, 'issues': 1, 'nghiệmc': 1, 'nầy': 1, 'bỡ': 1, 'hỏa': 1, 'tỉnh': 1, 'hở': 1, 'điểm': 1, 'chết': 1, 'chút': 1, 'lày': 1, 'kquá': 1, 'sếp': 1, 'digiword': 1, 'nhượng': 1, 'dới': 1, 'thắng': 1, 'nẳng': 1, 'gán': 1, 'task': 1, 'bluethoot': 1, 'dỏm': 1, 'tring': 1, 'mịn': 1, 'mxxx': 1, 'die': 1, 'hub': 1, 'pan': 1, 'bặng': 1, 'võ': 1, 'thưởng': 1, 'oxi': 1, 'buletooth': 1, 'suface': 1, 'giât': 1, 'nhươc': 1, 'gạo': 1, 'delayed': 1, 'fine': 1, 'most': 1, 'maybe': 1, 'just': 1, 'mine': 1, 'has': 1, 'issue': 1, 'thịnh': 1, 'khắn': 1, 'tàm': 1, 'xquanh': 1, 'lexar': 1, 'dẫu': 1, 'kèn': 1, 'hét': 1, 'danói': 1, 'chuyệne': 1, 'equalizer': 1, 'akg': 1, 'kĩ': 1, 'những': 1, 'nhẹ': 1, 'nốt': 1, 'rètiền': 1, 'rào': 1, 'playpause': 1, 'nhanhsản': 1, 'thậthidây': 1, 'đứtnút': 1, 'đượcchất': 1, 'thườngnói': 1, 'nextpre': 1, 'nếp': 1, 'oo': 1, 'asrock': 1, 'bm': 1, 'detected': 1, 'sỏi': 1, 'chọ': 1, 'thạnh': 1, 'usbc': 1, 'nàomà': 1, 'lết': 1, 'thác': 1, 'luyện': 1, 'hoa': 1, 'nhựg': 1, 'bảngnhưng': 1, 'min': 1, 'lệch': 1, 'chấp': 1, 'rìa': 1, 'hảnh': 1, 'mid': 1, 'treb': 1, 'earbud': 1, 'st': 1, 'monk': 1, 'thanhh': 1, 'nhé+': 1, 'tiki+tai': 1, 'head': 1, 'trép': 1, 'cruzer': 1, 'tm': 1, 'xinh': 1, 'đó+do': 1, 'nhiễm': 1, 'inox': 1, 'choangbóng': 1, 'nữa+về': 1, 'thể+': 1, 'năm+': 1, 'chìa': 1, 'khoá+chất': 1, 'chậm+với': 1, 'liệu+': 1, 'cẩn': 1, 'thận': 1, 'thiết': 1, 'kế': 1, 'gọn': 1, 'đẹp': 1, 'mức': 1, 'hám': 1, 'rẻ': 1, 'lủng': 1, 'lẳng': 1, 'xọc': 1, 'trườngmà': 1, 'cảhi': 1, 'dowload': 1, 'gọ': 1, 'xắn': 1, 'kthiết': 1, 'điệnthấy': 1, 'dạng': 1, 'tải': 1, 'nêǹ': 1, 'chứa': 1, 'thậnnhưng': 1, 'gchưa': 1, 'rùivỏ': 1, 'bóngtiện': 1, 'khoásẽ': 1, 'dài+': 1, 'nghía': 1, 'clear': 1, 'seagate': 1, 'trz': 1, 'tikihiện': 1, 'đượckiểm': 1, 'đótôi': 1, 'ngăn': 1, 'vđề': 1, 'tess': 1, 'vát': 1, 'magician': 1, 'rần': 1, 'đắng': 1, 'chuôt': 1, 'khieu': 1, 'don': 1, 'khach': 1, 'chẽ': 1, 'hoành': 1, 'tráng': 1, 'tăn': 1, 'ballad': 1, 'bolero': 1, 'acoustic': 1, 'nhì': 1, 'ộp': 1, 'khời': 1, 'zo': 1, 'đe': 1, 'giáđóng': 1, 'àlắp': 1, 'phẩmec': 1, 'dèâm': 1, 'thoạidd': 1, 'vơis': 1, 'nhựng': 1, 'chinh': 1, 'không+sản': 1, 'nan': 1, 'giải+nhìn': 1, 'tlware': 1, 'gan': 1, 'tâng': 1, 'ngoắc': 1, 'vv': 1, 'tws': 1, 'vd': 1, 'mìnhcắm': 1, 'phẩmphù': 1, 'tốtchỉ': 1, 'thjk': 1, 'inear': 1, 'khau': 1, 'dum': 1, 'thuong': 1, 'lbm': 1, 'hãngco': 1, 'cartridge': 1, 'phan': 1, 'phoi': 1, 'dưới': 1, 'mo': 1, 'dạc': 1, 'ching': 1, 'xac': 1, 'dọ': 1, 'déo': 1, 'youtu': 1, 'haizzz': 1, 'hỉu': 1, 'phu': 1, 'philipine': 1, 'comment': 1, 'nầy': 1, 'vận': 1, 'chối': 1, 'rẽ': 1, 'trỏng': 1, 'trơ': 1, 'thuần': 1, 'giaohàng': 1, 'được+nhưng': 1, '+nói': 1, 'vời+sản': 1, 'western': 1, 'hành+nhìn': 1, 'sao+cảm': 1, 'fomart': 1, 'xx': 1, '😫': 1, 'thận’': 1, 'giông': 1, 'đẹpbao': 1, 'rj': 1, 'ngận': 1, 'hdan': 1, 'za': 1, 'tinchi': 1, 'deo': 1, 'rat': 1, 'tuotde': 1, 'powerline': 1, 'ii': 1, 'amz': 1, 'jp': 1, 'tmt': 1, 'cop': 1, 'iq': 1, 'đỉnh': 1, 'phing': 1, 'giai': 1, 'mak': 1, 'shy': 1, 'hàngthất': 1, 'rolling': 1, 'smg': 1, 'awp': 1, 'bắn': 1, 'tỉa': 1, 'swat': 1, 'ww': 1, 'khối': 1, 'duyên': 1, 'hắc': 1, 'okie': 1, 'hjx': 1, '😡': 1, 'mhz': 1, 'xmp': 1, 'đv': 1, 'huhuhuuuu': 1, 'lâusản': 1, 'tốtcho': 1, 'phảu': 1, 'kiềm': 1, 'item': 1, 'thángso': 1, 'huhuhuhu': 1, 'thê': 1, 'ngộtlúc': 1, 'hey': 1, 'hightech': 1, 'vnanh': 1, 'are': 1, 'tlwnn': 1, 'httpstikivncuahangvitinhlehuy': 1, 'funbox': 1, '😂😂😂': 1, 'nguyen': 1, 'giỡn': 1, 'bữ': 1, 'mention': 1, 'shopđặt': 1, 'tốtgiao': 1, 'softwear': 1, 'lớnmà': 1, 'nào+hình': 1, 'gọn+tốc': 1, 'nhanh+tốc': 1, 'mbs+nếu': 1, 'cóp': 1, 'nhanhvỏ': 1, 'chắnchất': 1, 'dụngmọi': 1, 'rão': 1, 'mẹo': 1, 'laban': 1, 'cứnggõ': 1, 'mapping': 1, 'tốtxong': 1, 'lh': 1, 'bye': 1, 'muon': 1, 'ước': 1, 'sứongthỉnh': 1, 'ảutocad': 1, 'lumion': 1, 'dirver': 1, 'install': 1, 'đâytổng': 1, 'rồibiết': 1, 'đac': 1, 'thiệtkhông': 1, 'đâyhaizzz': 1, 'nàydùng': 1, 'pintưởng': 1, 'đâudo': 1, 'sạcpin': 1, 'phòngnhưng': 1, 'cáohàng': 1, 'connected': 1, 'vhz': 1, 'volt': 1, 'vachz': 1, 'vách': 1, 'vai': 1, 'huyvậy': 1, 'bridge': 1, 'vt': 1, 'vẵn': 1, 'kệkhông': 1, 'thiế': 1, 'hưỡng': 1, 'hqua': 1, 'dareu': 1, 'sẩn': 1, 'hổm': 1, 'ngộ': 1, 'nghĩnh': 1, 'thág': 1, 'bề': 1, 'đứng': 1, 'nhợ': 1, 'user': 1, 'nhanh+nhiệt': 1, 'cad': 1, 'yếu+qua': 1, 'tg': 1, 'đượcxài': 1, 'kute': 1, 'mia': 1, 'dều': 1, 'viewsonic': 1, 'tấm': 1, 'nền': 1, 'tft': 1, 'đều': 1, 'vc': 1, 'msms': 1, 'fight': 1, 'fraud': 1, 'luac': 1, 'hộng': 1, 'nanya': 1, 'loan': 1, 'micron': 1, 'hàngtem': 1, 'gìkhông': 1, 'ncứ': 1, 'mẩu': 1, 'mả': 1, 'đong': 1, 'control': 1, 'chệch': 1, 'barồi': 1, 'lươngj': 1, 'gíao': 1, 'sặc': 1, 'blt': 1, 'avantgarde': 1, 'geek': 1, 'nerd': 1, 'thunderbolt': 1, 'crush': 1, 'rát': 1, 'loáng': 1, 'chảng': 1, 'xiu': 1, 'hẵng': 1, 'hữa': 1, 'tận': 1, 'khắc': 1, 'phục': 1, 'đồ': 1, 'đỡ': 1, 'hóng': 1, 'rằng': 1, 'cám': 1, 'góp': 1, 'serie': 1, 'text': 1, 'pay': 1, 'background': 1, 'hũy': 1, 'sipper': 1, 'nỗ': 1, 'suất': 1, 'chỉnhđược': 1, 'cactong': 1, 'typing': 1, 'httpssupportlogitechcomvivnregister': 1, 'product': 1, 'found': 1, 'given': 1, 'unpair': 1, 'ubuntu': 1, 'github': 1, 'map': 1, 'ff': 1, 'wpm': 1, 'magic': 1, 'aaa': 1, 'nốiđặt': 1, 'alttab': 1, 'backlit': 1, 'caplock': 1, 'bongk': 1, 'film': 1, 'recommend': 1, 'brandnew': 1, 'xà': 1, 'chuyen': 1, 'nhanhnhưng': 1, 'mihome': 1, 'hhhhhhhhhhhhhhhhhhhhhhhhh': 1, 'dồ': 1, 'miền': 1, 'setupcần': 1, 'xù': 1, 'honor': 1, 'tha': 1, 'douyin': 1, 'chóngđóng': 1, 'thậnchất': 1, 'chứngnói': 1, 'vồng': 1, 'nhớmong': 1, 'đượcmoi': 1, 'ongiao': 1, 'mota': 1, 'readwrite': 1, 'đượctốc': 1, 'vương': 1, 'vằng': 1, 'nonnfc': 1, '–': 1, 'đồn': 1, 'đãi': 1, 'xmshhm': 1, 'orion': 1, 'đam': 1, 'xbox': 1, 'one': 1, 'dualshock': 1, 'anywheres': 1, 'karaoke': 1, 'chư': 1, 'cán': 1, 'gắm': 1, 'vé': 1, 'luc': 1, 'nhieu': 1, 'giácó': 1, 'stereo': 1, 'microstar': 1, 'barracuda': 1, 'tbmb': 1, 'skyhawkda': 1, 'dia': 1, 'skyhawk': 1, 'dauthat': 1, 'loamong': 1, 'wen': 1, 'activate': 1, 'remove': 1, 'this': 1, 'khôngn': 1, 'steammessengerlmht': 1, 'shopmình': 1, 'đợigiao': 1, 'lướtđộ': 1, 'xàinên': 1, 'nàonhưng': 1, 'hảng': 1, 'mềm': 1, 'ruột': 1, 'report': 1, 'giả': 1, 'elements': 1, 'trắng': 1, 'bác': 1, 'nsx': 1, 'chận': 1, 'épdán': 1, 'decan': 1, 'xè': 1, 'ápvặn': 1, 'nhiểu': 1, 'nhiềuloa': 1, 'xóm': 1, 'hát': 1, 'hú': 1, 'khôngyêu': 1, 'đối': 1, 'thái': 1, 'tốtđi': 1, 'vậyđứng': 1, 'đường': 1, 'ó': 1, 'tiếpmất': 1, 'lịch': 1, 'sựsố': 1, 'tgif': 1, 'óc': 1, 'lồng': 1, 'shield': 1, 'mobiphone': 1, 'khôngcó': 1, 'lifetime': 1, 'coolermaster': 1, 'hangf': 1, 'gục': 1, 'xún': 1, 'bluethooth': 1, 'treblab': 1, 'xò': 1, 'veo': 1, 'tởm': 1, 'dựt': 1, 'pe': 1, 'biế': 1, 'thườnga': 1, 'phẩmchưa': 1, 'sica': 1, 'kai': 1, 'oto': 1, 'trithucctecvn': 1, 'pit': 1, 'xp': 1, 'hõ': 1, 'portable': 1, 'formatted': 1, 'sercurity': 1, 'tomato': 1, 'renew': 1, 'xh': 1, 'nap': 1, 'ngan': 1, 'tk': 1, 'khrng': 1, 'gihiện': 1, 'surface': 1, 'vươn': 1, 'cứn': 1, 'nị': 1, 'webcam': 1, 'giữasản': 1, 'hãm': 1, 'đắc': 1, 'kien': 1, 'gậy': 1, 'widget': 1, 'mbmb': 1, 'tưa': 1, 'gbps': 1, 'ox': 1, 'xử': 1, 'lý': 1, 'khả': 1, 'chỉnh': 1, 'mặt': 1, 'wear': 1, 'biến': 1, 'gts': 1, 'really': 1, 'nigga': 1, 'sốp': 1, 'cónhưng': 1, 'rạc': 1, 'rẩt': 1, 'music': 1, 'dược': 1, 'nhíp': 1, 'verify': 1, 'mait': 1, 'tron': 1, 'bu': 1, 'viec': 1, 'đon': 1, 'devs': 1, 'chước': 1, 'line': 1, 'soạn': 1, 'bậtminh': 1, 'hen': 1, 'cũkhông': 1, 'xanếu': 1, 'pắp': 1, 'lòe': 1, 'log': 1, 'chug': 1, 'nhug': 1, 'mop': 1, 'ổnchắc': 1, 'loài': 1, 'ổnvừa': 1, 'phảiextrabass': 1, 'vọngcách': 1, 'khan': 1, 'chét': 1, 'hỡ': 1, 'xẹp': 1, 'lép': 1, 'dẹoo': 1, 'pack': 1, 'đh': 1, 'trốbg': 1, 'mạ': 1, 'thơ': 1, 'hìnhkhông': 1, 'magican': 1, 'nhanhthông': 1, 'này😞😞': 1, 'bếp': 1, 'ap': 1, 'miccro': 1, 'bavía': 1, 'onhận': 1, 'tovit': 1, 'vit': 1, 'chạycảm': 1, 'đềcài': 1, 'chạyyêu': 1, 'thuậtxác': 1, 'mềmnếu': 1, 'nàythật': 1, 'nhien': 1, 'săn': 1, 'toner': 1, 'thẫy': 1, 'renghe': 1, 'trội': 1, 'burnin': 1, 'androi': 1, 'sảo': 1, 'nói”em': 1, 'mà”': 1, 'vinet': 1, 'lơn': 1, 'xam': 1, 'lien': 1, 'tuc': 1, 'nuoc': 1, 'son': 1, 'te': 1, 'devices': 1, 'nôi': 1, 'chuộtbàn': 1, 'chã': 1, 'drvier': 1, 'chầm': 1, 'thườngnhờ': 1, 'nhuận': 1, 'phèo': 1, 'kèmyêu': 1, 'zô': 1, 'nhiền': 1, 'dụngkeer': 1, 'thoạia': 1, 'đượcgio': 1, 'đaz': 1, 'vayyj': 1, 'hhhhnmmọi': 1, 'ngườinbbb': 1, 'giáct': 1, 'nghẻ': 1, 'nhã': 1, 'nhặn': 1, 'backforward': 1, 'hàg': 1, 'vỡi': 1, 'khoắn': 1, 'ghost+ngoài': 1, 'thẩn': 1, '+về': 1, 'hơn++tiki': 1, 'body': 1, 'xét+máy': 1, 'seq': 1, 'tera': 1, 'tranói': 1, 'chuyệnends': 1, 'sau+tốc': 1, 'nhanh+độ': 1, 'ổn+màu': 1, 'lắm+giá': 1, 'đấy+nói': 1, 'safe': 1, 'ấu': 1, 'transcend': 1, 'liền+có': 1, 'hj': 1, 'xoán': 1, 'đẹp+tốc': 1, 'kém+dù': 1, 'fomat': 1, 'đượcgiờ': 1, 'đòng': 1, 'ổncảm': 1, 'tikivnmong': 1, 'ua': 1, 'cỡ': 1, 'ns': 1, 'ổnnhưng': 1, 'rachỉ': 1, 'dín': 1, 'vr': 1, 'đẹptốc': 1, 'đặc': 1, 'biệt': 1, 'nắp': 1, 'đẩy': 1, 'lỏng': 1, 'nhớ+nếu': 1, 'application': 1, 'rar': 1, 'akulaku': 1, 'ahihi': 1, 'ngok': 1, 'oxy': 1, 'diệp': 1, 'khánh': 1, 'lý+usb': 1, 'chút+về': 1, 'scandisk+thử': 1, '+giờ': 1, 'hàngmở': 1, 'vỏdấu': 1, 'xấunhưng': 1, 'quausb': 1, 'đẹpthiết': 1, 'chảnhdùng': 1, 'khóacắm': 1, 'gbnhưng': 1, 'nhiềuvà': 1, 'tíbù': 1, 'đượckhông': 1, 'phútnói': 1, 'isomình': 1, 'sucureaccess': 1, 'hòa+lưu': 1, 'word': 1, 'gb+tuy': 1, 'df': 1, 'tráicòn': 1, 'đượcai': 1, 'ngườig': 1, 'võng': 1, 'đu': 1, 'health': 1, 'media': 1, 'strava': 1, 'real': 1, 'namthật': 1, 'ngư': 1, 'phímchuột': 1, 'phẩmace': 1, 'nhwung': 1, 'phín': 1, 'thuột': 1, 'nhoè': 1, 'iii': 1, 'viềng': 1, 'iv': 1, 'kkk': 1, 'roisản': 1, 'ổnchất': 1, 'phẩmee': 1, 'thoạiest': 1, 'dúng': 1, 'wiff': 1, 'lanh': 1, 'mìnn': 1, 'đua': 1, 'nhó': 1, 'phì': 1, 'synnex': 1, 'ngã': 1, 'candy': 1, 'vnm': 1, 'genuine': 1, 'benói': 1, 'chuyệnhmark': 1, 'hòm': 1, 'teamgroup': 1, 'keycap': 1, 'rời': 1, 'rạc': 1, 'càm': 1, 'ràm': 1, 'lắm+về': 1, 'watts': 1, 'cute': 1, 'này+sản': 1, 'hộp+âm': 1, 'rè+loa': 1, 'thoạiđầu': 1, 'nhỏ+': 1, 'lắm+': 1, 'đẹp+': 1, 'chăng+kết': 1, 'sv': 1, 'hảo++tuy': 1, 'beat': 1, 'loa++thật': 1, 'ok+và': 1, 'trẻo': 1, 'thé': 1, 'coa': 1, 'mt': 1, 'best': 1, 'pp': 1, 'hem': 1, 'modum': 1, 'be': 1, 'neu': 1, 'hoac': 1, 'uuuuuu': 1, 'vê': 1, 'phòng+âm': 1, 'phimchứ': 1, 'rè+gói': 1, 'dĩa': 1, 'kasản': 1, 'phẩmersky': 1, 'garmin': 1, 'khăng': 1, 'lậu': 1, 'thắc': 1, 'mắc': 1, 'how': 1, 'okej': 1, 'nàybị': 1, 'ních': 1, 'síp': 1, 'mém': 1, 'wfi': 1, 'thòi': 1, 'thui+tóm': 1, 'biij': 1, 'quyệt': 1, 'nusm': 1, 'nhậnnói': 1, 'phíc': 1, 'eqkhông': 1, 'hưvề': 1, 'hò': 1, '😐': 1, 'rnhờ': 1, 'phukienmp': 1, 'rồ': 1, 'tệtừ': 1, 'thanhshop': 1, 'tqbên': 1, 'whch': 1, 'drop': 1, 'live': 1, 'bẩm': 1, 'eu': 1, 'zất': 1, 'iu': 1, 'đượ': 1, 'tresble': 1, 'sộp': 1, 'tet': 1, 'hơp': 1, 'usbgb': 1, 'bần': 1, 'hỳ': 1, 'drivers': 1, 'gamer': 1, 'coder': 1, 'chỏ': 1, 'kít': 1, 'dọn': 1, 'bầm': 1, 'nhuần': 1, 'nhuyễn': 1, 'post': 1, '“giá': 1, 'có”': 1, 'ảipod': 1, 'siry': 1, 'ret': 1, 'lái': 1, 'hoăc': 1, 'khựa': 1, '“call': 1, 'siri”': 1, 'đượcđề': 1, 'phảilúc': 1, 'phảitiki': 1, 'rip': 1, 'lm': 1, 'ngừoi': 1, 'đượcchi': 1, 'nấu': 1, 'đènnhưng': 1, 'fu': 1, 'đợik': 1, 'lượnghy': 1, 'thânh': 1, 'nhỏít': 1, 'bassnói': 1, 'ngta': 1, 'complant': 1, 'ngườigười': 1, 'nom': 1, 'nhớp': 1, 'nma': 1, 'gẫy': 1, 'senn': 1, 'xbap': 1, 'loai': 1, 'mình+': 1, 'nhanh+': 1, 'điểu': 1, 'chrome': 1, 'turbo': 1, 'điền': 1, 'háng': 1, 'rachkhong': 1, 'riet': 1, 'giga': 1, 'đượcghg': 1, 'thây': 1, 'đanh': 1, 'gòi': 1, 'kémmình': 1, 'lỗikết': 1, 'wsad': 1, 'atx': 1, 'aigo': 1, 'chiệu': 1, 'giuap': 1, '☹️': 1, 'hàmh': 1, 'chặc': 1, 'nừo': 1, 'qá': 1, 'loo': 1, 'cụng': 1, 'ối': 1, 'nsjdbdjdndjd': 1, 'sk': 1, 'nhwng': 1, 'quácòn': 1, 'thabh': 1, 'chổi': 1, 'bui': 1, 'lẻonói': 1, 'lòngnhân': 1, 'ngơi': 1, 'net': 1, 'pro+': 1, 'thôi+': 1, 'longitech': 1, 'hẵn': 1, 'chắntổng': 1, 'catalina': 1, 'ngôi': 1, 'xámnhìn': 1, 'nhược': 1, 'bất': 1, 'cập': 1, 'đở': 1, 'vij': 1, 'đúng✋': 1, 'phẩmlayport': 1, 'reboot': 1, 'chắngọn': 1, 'nhẹgiao': 1, 'antenna': 1, 'lăp': 1, 'chèng': 1, 'thiếu': 1, 'cáp': 1, 'bẹt': 1, 'đào': 1, 'playstop': 1, 'đươckhông': 1, 'âmthanh': 1, 'môic': 1, 'conbjo': 1, 'thinh': 1, 'thới': 1, 'kenm': 1, 'hìn': 1, 'nhit': 1, 'thieu': 1, 'gấy': 1, 'gaio': 1, 'nơm': 1, 'nớp': 1, 'huẩn': 1, 'cungz': 1, 'vìì': 1, 'rè': 1, 'tes': 1, 'choé': 1, 'bến': 1, 'nồng': 1, 'bik': 1, 'điệu': 1, 'thường+điểm': 1, 'mdrzxap': 1, 'friday': 1, 'bànnghe': 1, '++bên': 1, 'dáng': 1, 'nghiệp': 1, 'xấu': 1, 'tiếc': 1, 'nặng': 1, 'khác++về': 1, 'tiện': 1, 'dành': 1, 'comlain': 1, 'móc': 1, 'méo': 1, 'thẩm': 1, 'mỹ': 1, 'hưởng': 1, 'thiệt': 1, 'máiđệm': 1, 'nhứckhoảng': 1, 'diep': 1, 'chụ': 1, 'tháng+nhận': 1, 'lắm+nói': 1, 'trảđổi': 1, 'đat': 1, 'den': 1, 'som': 1, 'lắmkhông': 1, 'nhưung': 1, 'chặng': 1, 'ạkiểm': 1, 'kdây': 1, 'sat': 1, 'giúpmình': 1, 'nấymỏng': 1, 'sò': 1, 'seller': 1, 'viettell': 1, 'tronsmart': 1, 'element': 1, 'phối': 1, 'seria': 1, 'móp': 1, 'tích': 1, 'cash': 1, 'delivery': 1, 'lgs': 1, 'thườnghuong': 1, 'sticker': 1, 'qled': 1, 'phấm': 1, 'unseal': 1, 'hàngbảo': 1, 'nhir': 1, 'panel': 1, 'rôu': 1, 'oce': 1, 'giữachức': 1, 'douleclick': 1, 'òy': 1, 'lnfg': 1, 'cứg': 1, 'trogk': 1, 'chốg': 1, 'sốcsản': 1, 'photo': 1, 'viscom': 1, 'trử': 1, 'logigame': 1, 'morden': 1, 'thượng': 1, 'khoát': 1, 'cisco': 1, 'indonexia': 1, 'that': 1, 'đểm': 1, 'cựa': 1, 'giày': 1, 'thiềt': 1, 'sả': 1, 'cóc': 1, 'nóg': 1, 'phẩy': 1, 'authentic': 1, 'traiding': 1, 'sẻri': 1, 'họi': 1, 'ổndây': 1, 'av': 1, 'lỗ': 1, 'mờmất': 1, 'ồm': 1, '——': 1, 'vol': 1, 'react': 1, 'zắc': 1, 'sức+nói': 1, 'được+': 1, 'sub': 1, 'nhiềutressble': 1, 'lố': 1, 'truc': 1, 'tiep': 1, 'dắt': 1, 'chào+đánh': 1, 'này+cảm': 1, 'tiki+khi': 1, 'chiên': 1, 'hắn': 1, 'mềm+bên': 1, 'nóng+đề': 1, 'phẩm+trân': 1, 'whip': 1, '+hôm': 1, 'xay': 1, 'lổn': 1, 'nhổn': 1, 'tốtmà': 1, 'sần': 1, 'đun': 1, 'hiii': 1, 'chầy': 1, 'nướng': 1, 'vung': 1, 'chín': 1, 'máybật': 1, 'ồnmặc': 1, 'chịucứ': 1, 'đẹp+nhưng': 1, 'sấy': 1, 'luôn+mình': 1, 'thậncó': 1, 'tiênhút': 1, 'ồnmình': 1, 'vắng': 1, 'tiki+': 1, 'không+': 1, 'rặn': 1, 'mươi': 1, 'tripod': 1, 'cưar': 1, 'remote': 1, 'khoai': 1, 'pha': 1, 'vòi': 1, 'ngàm': 1, 'gá': 1, 'gai': 1, 'cát': 1, 'gần': 1, 'khói': 1, 'khímua': 1, 'tốt+về': 1, 'gì+chỉ': 1, 'lén': 1, 'mỏi+về': 1, '😢': 1, 'az': 1, 'trc': 1, 'tikinow+vì': 1, 'nhiều+tiki': 1, 'ủi': 1, 'use': 1, 'qs': 1, 'lợn': 1, 'cợn': 1, 'vắt': 1, 'độngsau': 1, 'tiềnchất': 1, 'rồihaizzzcó': 1, 'ạvù': 1, 'nhăng': 1, 'váy': 1, 'chải': 1, 'lường': 1, 'đét': 1, 'philips': 1, '👍': 1, 'thgian': 1, 'mirrorless': 1, 'khuẩn': 1, 'luôn+điểm': 1, 'lư': 1, 'hễ': 1, 'nhờn': 1, 'thỏm': 1, '+khi': 1, 'nhanh+chờ': 1, 'hàng+cũng': 1, 'lan+hi': 1, 'bluestone': 1, 'cối': 1, 'trừ': 1, 'miếng': 1, 'kính': 1, 'cạo': 1, 'không+ngoài': 1, 'trào': 1, 'lỗichỉ': 1, 'dùnglcó': 1, 'rose': 1, 'nẩu': 1, 'đình+đôi': 1, 'gimbal': 1, 'lại+túm': 1, 'hepa': 1, 'giọt': 1, 'trongkhông': 1, 'giò': 1, 'sau+': 1, 'giờ+': 1, 'béo': 1, 'quết': 1, 'có++': 1, 'tóe': 1, 'chuộng': 1, 'thủy': 1, 'cskh': 1, 'hàng😔': 1, 'tia': 1, 'suđề': 1, 'nâu': 1, 'đậu': 1, 'offline': 1, 'hr': 1, 'hành+xin': 1, 'giáo': 1, 'chăn': 1, 'tắtkhông': 1, 'đượccó': 1, 'cchir': 1, 'locklock': 1, 'cọ': 1, 'qui': 1, 'tikivn': 1, 'tốt+dịch': 1, 'thận+riêng': 1, 'đồng+ưu': 1, 'cần+nhược': 1, 'ron': 1, 'nỏng': 1, 'ẹt+sản': 1, 'gđình': 1, 'gđ': 1, 'ukhông': 1, 'đẹprất': 1, 'ủi': 1, 'lắc': 1, 'ốc': 1, 'vít': 1, 'sút': 1, 'hạt': 1, 'ghém': 1, 'braun': 1, 'essản': 1, 'phẩmresso': 1, 'phin': 1, 'bar': 1, 'crema': 1, 'bọt': 1, 'capuchino': 1, 'laz': 1, 'seeder': 1, 'dẻ': 1, 'tiện+chất': 1, 'chưng': 1, 'vaio': 1, 'hẹn+máy': 1, 'sinh+hai': 1, 'mún': 1, 'điện+nói': 1, 'hết++đặc': 1, 'rền': 1, 'rắn': 1, 'xang': 1, 'đáy': 1, 'gỉ': 1, 'cặn': 1, 'hỏng': 1, 'nhanh+khi': 1, 'hàng++hàng': 1, 'gà': 1, 'sunhouse': 1, 'dẫm': 1, 'tphcm': 1, 'sục': 1, 'mãi+truy': 1, 'tốt+hộp': 1, 'bung+hạt': 1, 'đủkhăn': 1, 'cũ+ẩm': 1, 'mìnhtuy': 1, 'yunteng': 1, 'benro': 1, 'yuteng': 1, 'nhấnt': 1, 'sương': 1, 'ạhay': 1, 'nhắt': 1, 'ăn+nhìn': 1, 'động+mình': 1, 'nấy+quá': 1, 'sườn': 1, 'luộc': 1, 'ỉu': 1, 'thường+nếu': 1, 'hơn+ưu': 1, 'hơn+à': 1, 'sharp': 1, 'men': 1, 'đẳng': 1, 'hơ': 1, 'dẫnnhưng': 1, 'dồi': 1, 'dào': 1, 'xw': 1, 'side': 1, 'brush': 1, 'yến': 1, 'vịnh': 1, 'đượcphần': 1, 'lụp': 1, 'mooic': 1, 'hìnhtrước': 1, 'nệm': 1, 'muỗng': 1, 'múc': 1, 'sảm': 1, 'bn': 1, 'remote+ốc': 1, 'lỏng+ngoài': 1, 'ngực': 1, 'dùng+dùng': 1, 'khom': 1, 'ống+giao': 1, 'cháo': 1, 'khấcf': 1, 'mag': 1, 'lít': 1, 'lit': 1, 'sánhnhưng': 1, 'trungviệt': 1, 'anhviệt': 1, 'ranbem': 1, 'đạn': 1, 'nhông': 1, 'thôi++cũng': 1, 'trùm': 1, 'rồi++anyway': 1, 'nhiêt': 1, 'tậu': 1, 'tách': 1, 'phô': 1, 'nhiêù': 1, 'sợ': 1, 'hỏitại': 1, 'lêncòn': 1, 'tắtloa': 1, 'ạvà': 1, 'máy+sách': 1, 'start': 1, 'ngựa': 1, 'gìnhưng': 1, 'lơ': 1, 'lửng': 1, 'ổntrong': 1, 'đượcmua': 1, 'nhoẹt': 1, 'nhựa+không': 1, 'cố': 1, 'gắng': 1, 'ổn+nhưng': 1, 'hag': 1, 'cạnh': 1, 'thôiii': 1, 'tiếng+thôi': 1, 'akhông': 1, 'red': 1, 'tráp': 1, 'uống': 1, 'httpswwwyoutubecomwatchvdpthời': 1, 'giansnwrsi': 1, 'bavia': 1, 'lắm+khi': 1, 'thiếu+cho': 1, 'reboil': 1, '👉': 1, 'sendor': 1, 'gơi': 1, 'phít': 1, 'chẩy': 1, 'soẹt': 1, 'toé': 1, 'phích': 1, 'lich': 1, 'thậngiao': 1, 'chuẩnlâu': 1, 'mủ': 1, 'rạn': 1, 'sthi': 1, 'nvay': 1, 'tmđiện': 1, 'laii': 1, 'khônggiúp': 1, 'nhưnh': 1, 'tùng': 1, 'ạ+máy': 1, 'nẻ': 1, 'é': 1, 'rổ': 1, 'reply': 1, 'ổi': 1, 'bả': 1, 'mình+nhưng': 1, 'dưa': 1, 'dứa': 1, 'nước+tiền': 1, 'hìnhchứng': 1, 'hoat': 1, 'dieu': 1, 'ao': 1, 'dộp': 1, 'camere': 1, 'vạ': 1, 'sau+ưu': 1, 'kiện+nhược': 1, 'bụi+mình': 1, 'cặn': 1, 'cg': 1, 'quákêt': 1, 'phane': 1, 'đieengì': 1, 'vat+đơn': 1, 'trênkhông': 1, 'khuyen': 1, 'sua': 1, 'tằng': 1, 'chuc': 1, 'nang': 1, 'dam': 1, 'mũ': 1, 'vĩ': 1, 'dashcam': 1, 'zoi': 1, 'mãi': 1, 'bữa': 1, 'thếcó': 1, 'bơ': 1, 'được+tiếng': 1, 'xekhông': 1, 'này+loa': 1, 'arlo': 1, '+nếu': 1, 'khiểu': 1, 'ngàytuy': 1, 'mố': 1, 'dạngdù': 1, 'bgì': 1, 'ổntuy': 1, 'nữamãi': 1, 'lâuđợi': 1, 'dien': 1, 'đượcnếu': 1, 'năm+hút': 1, 'ngưỡng': 1, 'dụng+nếu': 1, 'uv': 1, 'cmnd': 1, 'tốt+tuy': 1, 'perect': 1, 'gla': 1, 'clo': 1, 'vua': 1, 'thâm': 1, 'đag': 1, 'bầu': 1, 'bí': 1, 'xog': 1, 'hơn+bình': 1, 'dụng+gây': 1, 'gốm': 1, 'khôngsu': 1, 'hâm': 1, 'méocần': 1, 'điiegìn': 1, 'nhớhình': 1, 'korea': 1, 'nhiệt+sử': 1, 'đúng+đèn': 1, 'knhpw': 1, 'ổnhw': 1, 'quẳng': 1, 'kiến+đang': 1, 'dử': 1, 'ọc': 1, 'ủi+các': 1, 'to+giao': 1, 'xíu+giá': 1, 'khác+dùng': 1, 'khở': 1, 'hk': 1, 'nhanh+nhưng': 1, 'méomình': 1, 'thận+tuy': 1, 'thận+thực': 1, 'nhỏ+nướng': 1, 'ảmình': 1, 'bàm': 1, 'chậm+đóng': 1, 'thì+': 1, 'mùi+': 1, 'búi': 1, 'tiền+dễ': 1, 'ok+tiền': 1, 'nấy+nhưng': 1, 'chén': 1, 'chén++không': 1, 'cấu': 1, 'khởi': 1, 'tốt++nếu': 1, 'arabica': 1, 'robusta': 1, 'chế+hình': 1, 'hơn+tiki': 1, 'lv': 1, 'nồi+dung': 1, 'siếc': 1, 'lưỡng+máy': 1, 'nhuyễn+tuy': 1, 'tnao': 1, 'thg': 1, 'cốt': 1, 'vai++tổng': 1, 'smooth': 1, 'máyxuất': 1, 'được+nên': 1, 'robot': 1, 'được+nhìn': 1, 'vad': 1, 'rờ': 1, 'khốc': 1, 'kẹt': 1, 'bã': 1, 'ép': 1, 'đắt': 1, 'quat': 1, 'động+giao': 1, 'cũlần': 1, 'nh': 1, 'kcs': 1, 'dộng': 1, 'tuong': 1, 'bầy': 1, 'hìu': 1, 'dế': 1, 'chuý': 1, 'được+tiki': 1, 'còng': 1, 'hoạt+được': 1, 'tiềm': 1, 'cc': 1, '+nhưng': 1, 'senkhông': 1, 'swing': 1, 'rấtồn': 1, 'giấm': 1, 'phẩm+': 1, 'dùng+': 1, 'rỏm': 1, 'yếu+': 1, 'lampin': 1, 'giử': 1, 'dubgf': 1, 'ỗn': 1, 'ngưòi': 1, 'fill': 1, 'nescafe': 1, 'dolce': 1, 'gusto': 1, 'phành': 1, 'fulen': 1, 'phí': 1, 'lõi': 1, 'vụn': 1, 'ezviz': 1, 'lại+hiện': 1, 'hikvision': 1, 'hilook': 1, 'hikconnect': 1, 'thường+tôi': 1, 'niêu': 1, 'tuông': 1, 'chịu+cánh': 1, 'abs': 1, 'ngạnh': 1, 'sen': 1, 'them': 1, 'bat': 1, 'mng': 1, 'nhòm': 1, 'trướclúc': 1, 'liệu': 1, 'củng': 1, 'hơncòn': 1, 'tôu': 1, 'tăt': 1, 'high': 1, 'thậnmàu': 1, 'sém': 1, 'cảnhưng': 1, 'hơn++đáng': 1, 'bill': 1, 'láng': 1, 'mếu': 1, 'bán+sẽ': 1, 'lắmmà': 1, 'perfect': 1, 'thôikkk': 1, 'xửng': 1, 'mâm': 1, 'lcd': 1, 'baby': 1, 'foid': 1, 'kc': 1, 'ngonđể': 1, 'hõm': 1, 'nheng': 1, 'lẫu': 1, 'thườngthông': 1, 'mìh': 1, 'dặn': 1, 'shanhou': 1, 'rán': 1, 'rét': 1, '’': 1, 'vnấu': 1, 'mềmnhưng': 1, 'langhay': 1, 'ngắcmình': 1, 'môn': 1, 'hs': 1, 'warm': 1, 'sứkhông': 1, 'dụngđể': 1, 'oánh': 1, 'lẩu': 1, 'phẩmnhờ': 1, 'gioăng': 1, 'hòn': 1, 'tomình': 1, 'hân': 1, '+tuy': 1, 'đáy+thích': 1, 'cook': 1, 'nut': 1, 'nguoi': 1, 'nục': 1, 'nồi': 1, 'lứt': 1, 'khoải': 1, 'thinhrthoangr': 1, 'xiền': 1, 'nhừ': 1, 'chè': 1, 'ok+mình': 1, '“giờ': 1, 'nghiêm”': 1, 'thôinấu': 1, 'lớp': 1, 'mút': 1, 'chùi': 1, 'vần': 1, 'remote+ưu': 1, 'lập+mong': 1, 'pod': 1, 'hành+chưa': 1, 'mình+tks': 1, 'rescuepro': 1, 'tre': 1, 'kịch': 1, 'crom': 1, 'tốt+các': 1, 'dslr': 1, 'đẹptuy': 1, 'chắnruột': 1, 'sus': 1, 'thườngkhông': 1, 'xịnvới': 1, 'lẩn': 1, 'nhiênt': 1, 'điệnnhanh': 1, 'gióchổi': 1, 'mua+bọc': 1, 'nchung': 1, 'hangd': 1, 'xảo': 1, 'nhày': 1, 'rồi+bếp': 1, 'resize': 1, 'ổn+thấy': 1, 'cắm+lần': 1, 'adayroi': 1, 'nhanh+mây': 1, 'giâ': 1, 'catalog': 1, 'vậy+tiki': 1, 'muốn+lưỡi': 1, 'phiếu+mình': 1, '+nấu': 1, 'điệnthì': 1, 'lầnngày': 1, 'lấu': 1, 'phillip': 1, 'vừng': 1, 'thịt++có': 1, 'clor': 1, 'hày': 1, 'nsản': 1, 'tgìoefi': 1, 'xiên': 1, 'flo': 1, 'quamỗi': 1, 'giấy+làm': 1, 'chút+ra': 1, 'trọg': 1, 'giảm+giá': 1, 'khoa': 1, 'sùi+nhà': 1, 'thuoc': 1, 'mua+mọi': 1, 'nềm': 1, 'lắt': 1, 'máycảm': 1, 'ngai': 1, 'ngái': 1, 'nấp': 1, 'ứ': 1, 'chínkhoảng': 1, 'cơmw': 1, 'ạt': 1, 'trà': 1, 'chót': 1, 'nhiêu+đáy': 1, 'nhiềutôi': 1, 'bợnchỉ': 1, 'khenchỉ': 1, 'rinnai': 1, 'lữa': 1, 'cúi': 1, 'lêu': 1, 'nghêu': 1, 'ướp': 1, 'giở': 1, 'học+dù': 1, 'loằng': 1, 'ngoằng+dùng': 1, 'ếch': 1, '+được': 1, '+chiên': 1, 'chùi+': 1, 'đó+mua': 1, 'xanh+nên': 1, 'kscomvg': 1, 'kscomv': 1, 'tươm': 1, 'quan+máy': 1, 'lìm': 1, 'phieu': 1, 'hanhde': 1, 'gap': 1, 'city': 1, 'hẹo': 1, 'citi': 1, 'kđơn': 1, 't+chạy': 1, 'nylong': 1, '“ẳm': 1, 'tầng”': 1, 'rác+xem': 1, 'xanhhayyzza': 1, 'vượt': 1, 'trội': 1, 'nghr': 1, 'okgiao': 1, 'nhanhgói': 1, 'máy+chính': 1, 'không+tiki': 1, 'ngoại': 1, 'tàu': 1, 'hỏa': 1, 'đàm': 1, 'output': 1, 'shop+nhờ': 1, 'mấ': 1, 'đítcòn': 1, 'hàngno': 1, 'tahet': 1, 'hôn': 1, 'bươm': 1, 'đỏ+': 1, '+mong': 1, 'nành': 1, 'ủ': 1, 'sip': 1, 'đùi': 1, 'thận+bật': 1, 'mỏng+sẽ': 1, 'thận++tiki': 1, 'nhanh++điểm': 1, 'tikitranding': 1, 'thật++dẫn': 1, 'chep': 1, 'ùng': 1, 'gh': 1, 'nướng': 1, 'thịt': 1, 'ga': 1, '😏': 1, 'nhúng': 1, 'thaybao': 1, 'okchính': 1, 'đượcchỉ': 1, 'karofi': 1, 'thấyvs': 1, 'kức': 1, 'hng': 1, 'ahh': 1, 'quớ': 1, 'motion': 1, 'timlapse': 1, 'gimble': 1, 'xen': 1, 'lànphair': 1, 'roaming': 1, 'ghế': 1, 'kp': 1, 'caia': 1, 'epresso': 1, 'saomong': 1, 'rãi': 1, 'móa': 1, 'quỳ': 1, 'bủng': 1, 'đẹ': 1, 'ag': 1, 'manual': 1, 'nhiu': 1, 'rìviu': 1, 'minhf': 1, 'tháng+còn': 1, 'lúng': 1, 'túng': 1, 'điển': 1, 'bookcare': 1, 'gin': 1, 'gmd': 1, 'cmd': 1, 'roong': 1, 'sau+mình': 1, 'ráp': 1, 'phát': 1, 'nứt': 1, 'vết': 1, 'ủng': 1, 'hộ': 1, 'dùngcuon': 1, 'nàohang': 1, 'gìchỉ': 1, 'hồi+mua': 1, 'lấy+chế': 1, 'luôn+': 1, '+hi': 1, 'viêm': 1, 'quất': 1, 'đan': 1, 'teka': 1, 'lòng+': 1, 'khác+': 1, 'gì+ưu': 1, 'pần': 1, 'sô': 1, 'pai': 1, 'nhựa+như': 1, '+hàng': 1, 'completed': 1, 'tành': 1, 'rịa': 1, 'kỹnhư': 1, 'bgìk': 1, 'ngàyneeus': 1, 'đợi+nhưng': 1, 'hàng+loa': 1, 'gìo': 1, '😰': 1, 'hành+mong': 1, 'nhé++dạo': 1, 'mĩ+khi': 1, 'tress': 1, 'đui': 1, 'corona': 1, 'rồinhưng': 1, 'hơncòn': 1, 'gr': 1, 'ray': 1, 'đựơc': 1, 'sệch': 1, 'zhiyun': 1, 'samớiung': 1, 'akquay': 1, 'nhanhtối': 1, 'gianian': 1, 'nhạc++nhưng': 1, 'bới': 1, 'phillips': 1, 'xới': 1, 'vá++nhươc': 1, 'đường++mình': 1, 'ngàygắn': 1, 'mbskhông': 1, 'saomình': 1, 'lăm+chỉ': 1, 'khoàng': 1, 'hix': 1, 'rồi+': 1, 'hành+theo': 1, 'mua+cảm': 1, 'thìa': 1, 'này+tuy': 1, 'vọng+phần': 1, 'tốt+phần': 1, 'ổn+vì': 1, 'loklok': 1, 'ống+máy': 1, 'tốt+mấy': 1, 'rồi+mình': 1, 'mục': 1, 'đích': 1, 'nhở': 1, 'áo': 1, 'phù': 1, 'rưới': 1, 'xanhkhông': 1, 'liểng': 1, 'xiểng': 1, 'bluestones': 1, 'rọivịtgà': 1, 'chóngdể': 1, 'trách': 1, 'nhiệm': 1, 'dổi': 1, 'thửkhi': 1, 'nóngchỉnh': 1, 'huhuuanh': 1, 'vớicám': 1, 'hạnh': 1, 'phúc': 1, 'locknlock': 1, 'mìnhuwng': 1, 'mlkk': 1, 'mủi': 1, 'gìoybuy': 1, 'imou': 1, '😥😥😥': 1, 'ook': 1, 'vịt': 1, 'nhún': 1, 'nayvà': 1, 'phảinên': 1, 'rõ+chưa': 1, 'mời': 1, 'nay+kiểm': 1, 'mua+mình': 1, 'giống+tiki': 1, 'nhá+xin': 1, 'xắn+trên': 1, 'sôi+se': 1, 'ttheo': 1, 'waiting': 1, 'giay': 1, 'oki+không': 1, 'khó+ưng': 1, 'xay+tiki': 1, 'tửvà': 1, 'thángdùng': 1, 'ồnkhông': 1, 'bã': 1, 'khế': 1, 'ạh': 1, 'xoong': 1, 'đáp++về': 1, 'quáchứ': 1, 'kémlỡ': 1, 'rdùng': 1, 'quálần': 1, 'gopro': 1, 'đầukhi': 1, 'nhánh': 1, 'cuồng': 1, 'nhé+mình': 1, 'nodng': 1, 'bằg': 1, 'nốp': 1, 'hết+còn': 1, 'luôn+tiki': 1, 'zino': 1, 'nám': 1, 'nhưa': 1, 'kẽ': 1, 'vbằng': 1, 'baking': 1, 'soda': 1, 'carot': 1, 'không+cảm': 1, 'độđộ': 1, 'ẩmcông': 1, 'haze': 1, 'khoanh': 1, 'qtv': 1, 'philipines': 1, 'month': 1, 'giúp+dù': 1, 'sasung': 1, 'sm': 1, 'đó+về': 1, 'maayanhgìp': 1, '“device': 1, 'offline”': 1, 'ofline': 1, 'tecs': 1, 'giao+lần': 1, 'vậytính': 1, 'tát': 1, 'lắmtiki': 1, 'mútcái': 1, 'mỏ': 1, 'thoại+có': 1, 'youtubepxrbxlihy': 1, 'hiaz': 1, 'rô': 1, 'bốt': 1, 'hũ': 1, 'lơauto': 1, '+phiếu': 1, '+tiki': 1, 'trợ+trân': 1, 'mua+tuy': 1, 'tâm++mình': 1, 'đúng++mình': 1, 'chút+tiki': 1, 'sau+chất': 1, 'mình+về': 1, 'tạmvà': 1, 'racòn': 1, 'nuồc': 1, 'ngàn+mới': 1, 'instax': 1, 'mini+máy': 1, 'đẹp+tuy': 1, 'ít+giá': 1, 'nhiều+nên': 1, 'này+': 1, 'phiềnrất': 1, 'vữa': 1, 'tép': 1, 'phơi': 1, 'chon': 1, 'mgì': 1, 'lsra': 1, 'chốc': 1, 'lòng+mình': 1, 'trạm': 1, 'gìnút': 1, 'nhưng+': 1, 'nhiều+': 1, 'microless': 1, 'gì+nhờ': 1, 'mịnh': 1, 'á+mình': 1, 'không+mình': 1, 'khác+gói': 1, 'basa': 1, 'phut': 1, 'éo': 1, 'mỳ': 1, 'sandwich': 1, 'èo+còn': 1, 'ming': 1, 'nàocho': 1, 'bia': 1, 'rượu': 1, 'coffee': 1, 'mìng': 1, 'minc': 1, 'khôngtặng': 1, 'mđiện': 1, 'yếumình': 1, 'hotdog': 1, 'sịn': 1, 'ion': 1, 'nhàn': 1, 'moitgì': 1, 'h++phần': 1, 'ứnggiơ': 1, 'đeo+có': 1, 'được+nói': 1, 'yếu+nếu': 1, 'nuong': 1, 'mưc': 1, 'mỏng+hấp': 1, 'dụng+nhưng': 1, 'cứng+máy': 1, 'gd': 1, 'duột': 1, 'iduoiws': 1, 'ơi+xem': 1, 'ạvì': 1, 'vãi': 1, 'nhàu+hàng': 1, 'khô+tiki': 1, 'mơia': 1, 'khỉ': 1, 'mắm': 1, 'tôm': 1, 'khựamua': 1, 'muôn': 1, 'resume': 1, 'nùi': 1, 'vaì': 1, 'ntd': 1, 'đường+thích': 1, 'tốt+nếu': 1, 'quá+nói': 1, 'kgì': 1, 'hìnhchữ': 1, 'máu': 1, '“tiếp': 1, 'nhận”': 1, 'giục': 1, 'bạncó': 1, 'khoingvì': 1, 'choẹt': 1, 'kiệt': 1, 'vathời': 1, 'giania': 1, 'vinmax': 1, 'hắt': 1, '+cảm': 1, 'đướcgì': 1, 'beans': 1, 'gợi': 1, 'đượcchạy': 1, 'oing': 1, 'thươc': 1, 'nấu': 1, 'sữa': 1, 'đậu': 1, 'whipping': 1, 'cream': 1, 'dụngnó': 1, 'độngphần': 1, 'hột': 1, 'thước': 1, 'hút': 1, 'vật': 1, 'quét': 1, 'lầu': 1, 'chổi': 1, 'trợt': 1, 'khonản': 1, 'midea': 1, 'kiệtmới': 1, 'saotạm': 1, 'phới': 1, 'trịa': 1, 'thử++bọc': 1, 'mạng++về': 1, 'sleep': 1, 'con++tuy': 1, 'nc': 1, 'váng': 1, 'nở': 1, 'cybershot': 1, 'dsc': 1, 'mbhình': 1, 'flim': 1, 'dẻohơi': 1, 'đềucho': 1, 'dụng+tuy': 1, 'dsax': 1, 'nóngrất': 1, 'quárất': 1, 'đẹpxài': 1, 'đượchạt': 1, 'ngày++sản': 1, 'èo': 1, 'uột': 1, 'rong': 1, 'lại+xin': 1, 'ngoàiđóng': 1, 'okaysách': 1, 'hơn+cám': 1, 'nàolần': 1, 'sun': 1, 'house': 1, 'white': 1, 'rice': 1, 'nửa': 1, 'sơri': 1, 'nhựakhông': 1, 'loc': 1, 'mui': 1, 'nhua': 1, 'lọc': 1, 'mùi': 1, 'đậm': 1, 'uống': 1, 'quà': 1, 'tặng': 1, 'tốttuy': 1, 'slim': 1, 'lênh': 1, 'quần++nói': 1, 'remot': 1, 'eoi': 1, 'xâu': 1, 'lênmìn': 1, 'ýnhưng': 1, 'chỉnhâm': 1, 'mìnhkhông': 1, 'lắmanh': 1, 'elmich': 1, 'el': 1, 'ur': 1, 'hủ': 1, 'khênh': 1, 'ổn+chỉ': 1, 'khovận': 1, 'hâmnóng': 1, 'bạnthay': 1, 'hallogen': 1, '+rất': 1, 'lò': 1, 'bé': 1, 'xíu': 1, 'cứ': 1, 'market': 1, 'nàynhận': 1, 'rạch++lần': 1, 'yongnuo': 1, 'hood': 1, 'được++hây': 1, 'cuống': 1, 'hơn+hàng': 1, 'môtơ+tuy': 1, 'đượcquay': 1, 'teeteetee': 1, 'ml': 1, 'hotrả': 1, 'lờiine': 1, 'yes': 1, 'kn': 1, 'xơ': 1, 'vậykhông': 1, 'yaout': 1, 'quásao': 1, 'nhỉai': 1, 'vớinồi': 1, 'nhưngcháu': 1, 'hỏm': 1, 'camar': 1, 'đâunhờ': 1, 'đặtở': 1, 'cómong': 1, 'kếu': 1, 'tiki+mình': 1, 'tinh+chất': 1, 'cắmsạc': 1, 'nét': 1, 'màu+nhận': 1, 'cạo': 1, 'tả+thẻ': 1, '+chân': 1, 'đựngchắc': 1, 'dac': 1, 'tiểp': 1, 'nhầy': 1, 'cộng+ép': 1, 'carrot': 1, 'giưa': 1, 'haizzzzzz': 1, 'thườnghường': 1, 'chữ+mình': 1, 'hoài': 1, 'nhỉcứ': 1, 'sùng': 1, 'nêm': 1, 'nhỉ+tôi': 1, 'design': 1, 'produce': 1, 'tiêu+hy': 1, 'ạ+mong': 1, 'toác': 1, 'quả+nấu': 1, '+hơi': 1, 'tốtâm': 1, 'micronếu': 1, 'ổngió': 1, 'ổnsử': 1, 'lâunói': 1, 'lợi': 1, 'thỉnh': 1, 'thoảng': 1, 'trục': 1, 'trặc': 1, 'truyền+chưa': 1, 'tần': 1, 'ghz+thỉnh': 1, 'cảnh': 1, 'adaptor': 1, 'hihi+thank': 1, 'nẫu': 1, 'chậmnghe': 1, 'nggìe': 1, 'kềm': 1, 'nhất…': 1, 'ủiđộ': 1, 'biết+lấy': 1, 'thẳng+nên': 1, 'luu': 1, 'gìack': 1, 'tya': 1, 'motor': 1, 'thau': 1, 'stop': 1, 'nuog': 1, 'toán': 1, 'trật': 1, 'khôngkhông': 1, 'rõban': 1, 'nóng+vui': 1, 'huớng': 1, 'bửa': 1, 'hòi': 1, 'rồimình': 1, 'pik': 1, 'lạihazzz': 1, 'nước+ps': 1, 'trol': 1, 'tke': 1, 'khí': 1, 'tuyệt': 1, 'vời': 1, 'baker': 1, 'choice': 1, 'mauri': 1, 'dínhsau': 1, 'tikicòn': 1, 'bật': 1, 'cháy+máy': 1, 'mước': 1, 'nốihoạt': 1, 'phả': 1, 'thểm': 1, 'cloud': 1, 'hihiem': 1, 'hiệp': 1, 'trênnhờ': 1, 'hiển': 1, 'thị': 1, 'khiển': 1, 'hiao': 1, 'suoi': 1, 'đoán': 1, 'tiêp': 1, 'tưởng+nói': 1, 'tiki+tôi': 1, 'gọn+thông': 1, 'ràng++cám': 1, 'tiki++hút': 1, 'chap': 1, 'lu': 1, 'chắn+nhưng': 1, 'bánnhưng': 1, 'tiềnxài': 1, 'hơn+về': 1, 'nong': 1, 'fải': 1, 'deerma': 1, 'ngượcquạt': 1, '̣': 1, 'gioi': 1, 'cũ+chưa': 1, 'chỉn': 1, 'kết++sản': 1, 'muốt': 1, 'nhanhhài': 1, 'lòngbật': 1, 'mẩugiá': 1, 'lý+phù': 1, 'xông': 1, 'thường+đúng': 1, 'xì+tiki': 1, 'phiá': 1, 'zay': 1, 'gymbal': 1, 'kỹtiền': 1, 'đấynhưg': 1, 'kô': 1, 'wifitắt': 1, 'review++mình': 1, 'ấm++do': 1, 'tốt+mua': 1, 'bù': 1, 'bọc': 1, 'thùng': 1, 'xốp': 1, 'phẩmlayportkhông': 1, 'sơm': 1, 'lâu+giá': 1, 'honda': 1, 'fugìifilm': 1, 'đn': 1, 'rách': 1, 'nghiệm': 1, 'thiện+tiếc': 1, 'mỡbên': 1, 'chịumình': 1, 'thoii': 1, 'rồivà': 1, 'nướngqua': 1, 'trongkhi': 1, 'ục': 1, 'lâuchất': 1, 'biếtmẫu': 1, 'thung': 1, 'nhanhchat': 1, 'hình+nhưng': 1, 'tot+': 1, 'thảcamera': 1, 'ốcgiờ': 1, 'rađộ': 1, 'gừng': 1, 'vde': 1, 'nữamùi': 1, 'nặc': 1, 'ktháng': 1, 'đươ': 1, 'lắm++mình': 1, 'kỷ+khoảng': 1, 'thấp+phù': 1, 'hơn+còn': 1, 'nến': 1, 'núch': 1, 'kaki': 1, '👍🏻': 1, 'tốt+nhưng': 1, 'rồi+coi': 1, 'được+mong': 1, 'ngọn': 1, 'méo+không': 1, 'bụitócrác': 1, 'ơitrong': 1, 'quá+còn': 1, 'hìnhkhông': 1, '+xài': 1, 'dàng+kết': 1, 'thậnda': 1, 'cũg': 1, 'tíc': 1, 'xá': 1, 'dụng+chưa': 1, 'keu': 1, 'đủ++tiki': 1, 'nhóm': 1, 'wanếu': 1, 'xemmình': 1, 'lắmlần': 1, 'cầm': 1, 'tuần+nhân': 1, 'nhận+sản': 1, 'đóg': 1, 'thiếu+': 1, 'hứng+': 1, 'catalogues': 1, 'hiccc': 1, 'hơnso': 1, 'cscv': 1, 'megapixel': 1, 'nhửa': 1, 'naoco': 1, 'như+bọc': 1, 'tựa': 1, 'sét+ghế': 1, 'at': 1, 'gọng': 1, 'atm': 1, 'nhễu': 1, 'kuvin': 1, 'tống': 1, 'nới': 1, 'đì': 1, 'psu': 1, 'to+em': 1, 'mãn': 1, 'rm': 1, 'nhgìu': 1, 'vậyhíc': 1, 'electrolux': 1, 'chirnh': 1, 'moto': 1, 'alpha': 1, 'dùngaau': 1, 'được🤔': 1, 'mái+nồi': 1, 'chô': 1, 'roăng': 1, 'xăm': 1, 'cúng': 1, 'rut': 1, 'đit': 1, 'esản': 1, 'đôn': 1, 'quá+tiki': 1, 'chíncác': 1, 'ấp': 1, 'ngô': 1, 'tả+': 1, 'rồi+không': 1, 'hỗn': 1, 'barcode': 1, 'inbox': 1, 'thường+lồng': 1, 'loại+sản': 1, 'thậnnhư': 1, 'tungthật': 1, 'okvận': 1, 'chóng+độ': 1, 'ccn': 1, 'giúo': 1, 'dùnglần': 1, 'bị+tiki': 1, 'móp+tuy': 1, 'nhẹn': 1, 'cmt': 1, 'mua+nhưng': 1, 'dứoi': 1, 'tcộng': 1, 'đượchỉ': 1, 'kémốc': 1, 'rĩ': 1, 'quáâm': 1, 'tốtthời': 1, 'thêmtiki': 1, 'hỏngrất': 1, 'cồn': 1, 'chì': 1, 'khiết': 1, 'đại+điểm': 1, 'âu': 1, 'ràng++điểm': 1, 'cộng+cối': 1, 'chùi+vì': 1, 'nhắc+điểm': 1, 'trừ+máy': 1, 'ngơi+máy': 1, 'ươts': 1, 'thận++vì': 1, 'cộng': 1, 'sấy': 1, 'quần': 1, 'tiki+nhưng': 1, 'đề+nấu': 1, 'súp': 1, 'xách': 1, 'nhường': 1, 'luônsạc': 1, 'dụngmong': 1, 'chín': 1, 'xemxong': 1, 'dear': 1, 'tiki+xin': 1, 'đươhc': 1, 'tiki+bộ': 1, 'xự': 1, 'tiếp+nước': 1, 'clokhó': 1, 'chịu+trân': 1, 'trọng+cám': 1, 'nắn': 1, 'sh': 1, 'khớp+nôi': 1, 'noise': 1, 'boya': 1, 'httpbitlylqabf+lưu': 1, 'nhũn': 1, 'inch': 1, 'cụnút': 1, 'chuyển+khâu': 1, 'songchannelvncom': 1, 'eken': 1, 'sc': 1, 'ttbh': 1, 'phẩmđôi': 1, 'lạiđã': 1, 'lạigói': 1, 'métkhá': 1, 'chịuđề': 1, 'đăt': 1, 'yooshi': 1, 'nhản': 1, 'ghì': 1, 'hàngmáy': 1, 'gọnnhẹ': 1, 'giảndễ': 1, 'dụngbã': 1, 'lắmnói': 1, 'gợn+chưa': 1, 'láp': 1, 'rây': 1, 'thùngxốp': 1, 'loạiđúng': 1, 'nồi+lòng': 1, 'bụivì': 1, 'vậycảm': 1, 'lừacác': 1, 'toánnhờ': 1, 'vạn': 1, 'phớt': 1, 'tiệc': 1, 'tróc+bản': 1, 'rồi+hướng': 1, 'lộn+trên': 1, 'dấp': 1, 'namtrung': 1, 'miễnphíđặt': 1, 'nhiều+máy': 1, 'nhạy+lúc': 1, 'cả+nhìn': 1, 'bitis': 1, 'bưởi': 1, 'tue': 1, 'minhgiao': 1, 'hạnđóng': 1, 'đáy+tiki': 1, 'mặt+loại': 1, 'cunhgx': 1, 'ttong': 1, 'đượclưỡi': 1, 'laza': 1, 'cùm': 1, 'củg': 1, 'quạtshop': 1, 'nghiền': 1, 'ngày+': 1, 'xanh+': 1, 'giảm+': 1, 'chuột+bàn': 1, 'first': 1, 'nhau+bạn': 1, 'tikimuốn': 1, 'ặn': 1, 'roan': 1, 'like': 1, 'đề+tôi': 1, 'gê': 1, 'biết+mua': 1, 'lượng+giao': 1, 'nhoằn': 1, 'nhèo': 1, 'mản': 1, 'bii': 1, 'ắ': 1, 'han': 1, 'vào+nhưng': 1, 'nhau+không': 1, 'insyall': 1, 'sinhsao': 1, 'mởnày': 1, 'wr': 1, 'lĩnh': 1, 'tímình': 1, 'phímmình': 1, 'vàochuột': 1, 'khôngmình': 1, 'nàoai': 1, 'thank': 1, 'shot': 1, 'hêta': 1, 'vớie': 1, 'naynhưng': 1, 'chồ': 1, 'máymà': 1, 'máykhông': 1, 'quáe': 1, 'hẹnnên': 1, 'ngonchỉ': 1, 'indo': 1, 'kbview': 1, '\\U0001f92dhướng': 1, 'comet': 1, 'gảy': 1, 'đâu++sạc': 1, 'lại+tặng': 1, 'đối+shop': 1, 'xỏ': 1, 'xéo': 1, 'hèn': 1, 'thả+mở': 1, 'nắp+hộp': 1, 'luôn+không': 1, 'thùi': 1, 'cw': 1, 'cwn': 1, 'hồm': 1, 'ezaviz': 1, 'kémtiếp': 1, 'sài+em': 1, 'sốc+mong': 1, 'biệt+không': 1, 'xài+không': 1, 'giờ+khuyên': 1, 'giờ+ps': 1, 'shap': 1, 'fhd': 1, 'nàng': 1, 'thườngdùng': 1, 'giành': 1, 'standard': 1, 'quality': 1, 'microphone': 1, 'foamới': 1, 'thank’s': 1, 'phím+có': 1, 'camra': 1, 'mọng': 1, 'chao': 1, 'môter': 1, 'chào': 1, 'shopm': 1, 'gừ': 1, 'phe': 1, 'đoán+hi': 1, 'inverter': 1, 'yếul': 1, 'mấu': 1, 'ơi+đèn': 1, 'động++mình': 1, 'dẫn++nhấn': 1, 'timer': 1, 'động++vậy': 1, 'cả++tiki': 1, 'thìhaizzz': 1, 'gát': 1, 'tuốt': 1, 'aukey': 1, 'hàng+nhận': 1, 'đượccứ': 1, 'miêtcho': 1, 'crash': 1, 'trợ+hơn': 1, 'cntt': 1, 'còi': 1, 'monitoring': 1, 'tốtcục': 1, 'xoạt': 1, 'lêngiao': 1, 'sì': 1, 'qihoo': 1, 'bgio': 1, 'trày': 1, 'monh': 1, 'roang': 1, 'ủ': 1, 'rỉ': 1, 'nhécám': 1, 'quốc+không': 1, 'ghi+hàng': 1, 'giao+chưa': 1, 'slop': 1, 'diên': 1, 'tahuong': 1, 'mỡi': 1, 'lặt': 1, 'sáng+hơi': 1, 'kip': 1, 'quầng': 1, 'sdụng': 1, 'thấy+may': 1, 'mồi': 1, 'salav': 1, 'nào+nhìn': 1, 'khói': 1, 'zắc': 1, 'thếcó': 1, 'khôngmới': 1, 'vangocyahoocom': 1, 'bếp': 1, 'cứngcông': 1, 'lượt': 1, 'chạm': 1, 'hẹn': 1, 'giờ+riêng': 1, 'cải': 1, 'lùi': 1, 'đời': 1, 'mỗi': 1, 'bấm': 1, 'mỏi': 1, 'hầm': 1, 'áp': 1, 'dụng+': 1, 'tốt+': 1, 'thường+tiki': 1, 'shopthây': 1, 'cháy++khi': 1, 'hơn++shop': 1, 'nuống': 1, 'được+bếp': 1, 'lửagiao': 1, 'chì+tôi': 1, 'nữa+tuy': 1, 'chẵn': 1, 'tốtnấu': 1, 'ồnkêu': 1, 'tonồi': 1, 'kiếng': 1, 'bấp': 1, 'giá+tuy': 1, 'ý+nhân': 1, 'tè': 1, 'hảo+chất': 1, 'rú': 1, 'yaour': 1, 'tượngbass': 1, 'thag': 1, 'minhbmua': 1, 'môtơ': 1, 'mỹ+trường': 1, 'dùng+hãng': 1, 'mứac': 1, 'xừng': 1, 'dít': 1, 'dit': 1, 'hộc': 1, 'áoquần': 1, 'ắm': 1, 'bulon': 1, 'đế': 1, 'liện': 1, '“đang': 1, 'sạc”': 1, 'tăc': 1, 'ấm': 1, 'mood': 1, 'sâubass': 1, 'lắmbị': 1, 'ngoàimiệng': 1, 'rộngnếu': 1, 'há': 1, 'sốc+tuy': 1, 'ạai': 1, 'hic+e': 1, 'đượcnhà': 1, 'tẩm': 1, 'mịt': 1, 'thống+giao': 1, 'ahinhf': 1, 'chậmdelay': 1, 'đượckhi': 1, 'aap': 1, 'n+nhưng': 1, 'lượng+': 1, 'lượng+ấm': 1, 'phỏng+tiki': 1, 'vàng': 1, 'ghè': 1, 'nature': 1, 'lại+': 1, 'động+': 1, 'được+kết': 1, 'đủ+': 1, 'chỉnh+': 1, 'nồicơm': 1, 'tiền+': 1, 'người+': 1, 'gì+': 1, 'chuyển+': 1, 'thường+': 1, 'ok+': 1, 'quan+tiki': 1, 'thận+': 1, 'mỉ': 1, 'hơn+': 1, 'móp+': 1, 'già+': 1, 'trừ+': 1, 'vấu': 1, 'lưới+': 1, 'digital': 1, 'ezaz': 1, 'àh': 1, 'phút+': 1, 'nhiệt+': 1, 'loãng': 1, 'changkangkung+': 1, 'vôi': 1, 'bép': 1, 'hấp+': 1, '+hài': 1, 'khác+nhưng': 1, 'luốc': 1, 'thận+chất': 1, 'dụng+thái': 1, 'chiên+': 1, 'chảo+': 1, 'chà+': 1, 'ảnh+': 1, 'nhạc+': 1, 'xệ': 1, 'xén': 1, 'cạnh+': 1, 'bàn+': 1, 'hiểu+': 1, 'cd+': 1, 'chậm+': 1, 'mooti': 1, 'rõ+': 1, 'nữa+': 1, 'kiến+': 1, 'trợ+': 1, 'thế+': 1, 'hàng+': 1, 'ok+kết': 1, 'nịch': 1, 'bậy': 1, 'bạ+': 1, 'ơ': 1, 'kềnh+': 1, 'gốc+': 1, 'sài+': 1, 'mắttheo': 1, 'vínmart': 1, 'giátuy': 1, 'tốtkhi': 1, 'lườm': 1, 'phátkhông': 1, 'lờicảm': 1, 'trải': 1, 'khuyết': 1, 'lâunói': 1, 'snap': 1, 'joi': 1, 'tươinhân': 1, 'lònggiao': 1, 'giácho': 1, 'pinghê': 1, 'đonmgs': 1, 'tốtnhanh': 1, 'vos': 1, 'chém': 1, 'grand': 1, 'huynh': 1, 'vmessage': 1, 'mặtđến': 1, 'shopliệu': 1, 'shopcần': 1, 'xongmáy': 1, 'nhanhđộ': 1, 'tiếpchán': 1, 'hìnhgiá': 1, 'cằn': 1, 'okdap': 1, 'bananh': 1, 'chj': 1, 'amoled': 1, 'đep': 1, 'dũ': 1, 'totok': 1, 'xàiđể': 1, 'rộn': 1, 'giaogiao': 1, 'lýchỉ': 1, 'nhỏnên': 1, 'chậmcả': 1, 'haha': 1, 'om': 1, 'realme': 1, 'dânmọi': 1, 'bỏloa': 1, 'ổnduy': 1, 'săc': 1, 'âmcài': 1, 'thoang': 1, 'giat': 1, 'nịnh': 1, 'biệtmới': 1, 'chiec': 1, 'lucnhung': 1, 'dụngung': 1, 'thậnhàng': 1, 'hộpcòn': 1, 'mớithời': 1, 'dàicũng': 1, 'hah': 1, 'cx': 1, 'nỏte': 1, 'androir': 1, 'hsbc': 1, 'temđóng': 1, 'thậnkhông': 1, 'gloft': 1, 'hđộng': 1, 'quênmobile': 1, 'phẩmlay': 1, 'nowh': 1, 'niem': 1, 'tiem': 1, 'đếu': 1, 'nóngdùng': 1, 'ime': 1, 'nylon': 1, 'sirri': 1, 'bót': 1, 'realthay': 1, 'thuongkhông': 1, 'rồigiá': 1, 'đượcsau': 1, 'mắcthái': 1, 'thiệncáu': 1, 'gắtlàm': 1, 'ytâm': 1, 'fps': 1, 'phẩmen': 1, 'knox': 1, 'fbs': 1, 'thicha': 1, 'tậu': 1, 'hg': 1, 'gọnhàng': 1, 'tảchất': 1, 'bảocho': 1, 'oknhung': 1, 'phon': 1, 'apble': 1, 'happy': 1, 'trừng': 1, 'fone': 1, 'rồimáy': 1, 'pgair': 1, 'sán': 1, 'pencil': 1, 'hongkhôngng': 1, 'jchơi': 1, 'hãnh': 1, 'hoạtnguyên': 1, 'gianthấy': 1, 'nghèo': 1, 'nhậu': 1, 'vọc': 1, 'mội': 1, 'dính': 1, 'vỡ': 1, 'tống': 1, 'naytiki': 1, 'nhanhh': 1, 'hàngthì': 1, 'hàngđóng': 1, 'chắncho': 1, 'ạe': 1, 'móclần': 1, 'muamà': 1, 'chứnên': 1, 'xíuhihihi': 1, 'tikinghe': 1, 'chánh': 1, 'canada': 1, 'coment': 1, 'khoing': 1, 'mãy': 1, 'zp': 1, 'chĩnh': 1, 'chắt': 1, 'cuc': 1, 'gol': 1, 'sauang': 1, 'ebook': 1, 'ngàykhá': 1, 'qcao': 1, 'oasis': 1, 'akishop': 1, 'ibooks': 1, 'upgrade': 1, 'gút': 1, 'electronic': 1, 'express': 1, 'rám': 1, 'ck': 1, 'xl': 1, 'thômg': 1, 'tikihàng': 1, 'hãngđược': 1, 'vàochụp': 1, 'tìnhmới': 1, 'hòe': 1, 'kìa': 1, 'onscreen': 1, 'lýchất': 1, 'thichchỉ': 1, 'kèmthẻ': 1, 'airpay': 1, 'thegioididong': 1, 'lýgiao': 1, 'đêmnên': 1, 'tốttiếp': 1, 'nhậngiao': 1, 'lặm': 1, 'thoy': 1, 'căng': 1, 'sendtokindle': 1, 'hiiii': 1, 'tiét': 1, 'fontsizesản': 1, 'phẩmacing': 1, 'convert': 1, 'azw': 1, 'sre': 1, 'sealnhận': 1, 'padshop': 1, 'ngóc': 1, 'ngách': 1, 'paper': 1, 'ampe': 1, 'giói': 1, 'đoạt': 1, 'nonfiction': 1, 'textbook': 1, 'audible': 1, 'saver': 1, 'eink': 1, 'old': 1, 'yearold': 1, 'night': 1, 'disable': 1, 'touch': 1, 'rấy': 1, 'nắt': 1, 'làsao': 1, 'tiêc': 1, 'chăc': 1, 'lua': 1, 'thong': 1, 'mượtgame': 1, 'nuột': 1, 'focus': 1, 'ord': 1, 'quamọi': 1, 'okđể': 1, 'thím': 1, 'tốtnhìn': 1, 'điệnnếu': 1, 'amazoncojp': 1, 'amazoncom': 1, 'ulimited': 1, 'sạctai': 1, 'phảipin': 1, 'trâunên': 1, 'sác': 1, 'hoắc+về': 1, 'trước+nhược': 1, 'java': 1, 'điiện': 1, 'toan': 1, 'quoc': 1, 'bềnlâu': 1, 'tốtcảm': 1, 'đẹpnguyên': 1, 'sealbấm': 1, 'êmmàn': 1, 'torõicon': 1, 'thíchmua': 1, 'kiệnhài': 1, 'tốtgiá': 1, 'lýcòn': 1, 'taycó': 1, 'reo': 1, 'giởreo': 1, 'cũnhưng': 1, 'hph': 1, 'cỏ': 1, 'chóngoke': 1, 'cọc': 1, 'đợt': 1, 'khuyến': 1, 'cửa': 1, 'vức': 1, 'clearview': 1, 'omg': 1, 'ẻm': 1, 'châmình': 1, 'khácg': 1, 'vọnh': 1, 'emei': 1, 'máychext': 1, 'kcòn': 1, 'củhơi': 1, 'hếtchụp': 1, 'wikhông': 1, 'đẹpnói': 1, 'nhỏm': 1, 'cóđóng': 1, 'kick': 1, 'xíuloa': 1, 'rỏco': 1, 'tốtthank': 1, 'dóng': 1, 'buil': 1, 'dap': 1, 'yeu': 1, 'thiếc': 1, 'cs': 1, 'coca': 1, 'khôngg': 1, 'nất': 1, 'gí': 1, '₫óng': 1, 'thanhks': 1, 'backhônground': 1, 'sủa': 1, 'tốtchọn': 1, 'luôb': 1, 'antam': 1, 'múa': 1, 'deu': 1, 'tếchắc': 1, 'độn': 1, 'mài': 1, 'bth': 1, 'đượcrất': 1, 'papelike': 1, 'cứu': 1, 'chplay': 1, 'màm': 1, 'emails': 1, 'antivirus': 1, 'police': 1, 'lagg': 1, 'chuôn': 1, 'lotte': 1, 'cinema': 1, 'highland': 1, 'vl': 1, 'itel': 1, 'sku': 1, 'pug': 1, 'identivy': 1, 'wattpad': 1, 'mesenger': 1, 'seolđúng': 1, 'phẩmmình': 1, 'tẹocòn': 1, 'nhạ': 1, 'optiemus': 1, 'keyone': 1, 'truờng': 1, 'berry': 1, 'onle': 1, 'cuờng': 1, 'sealed': 1, 'lòngcòn': 1, 'far': 1, 'viênpin': 1, 'năngcó': 1, 'voe': 1, 'inches': 1, 'ngợi': 1, 'đẹpđộng': 1, 'khongcai': 1, 'kémloa': 1, 'gét': 1, 'nghề': 1, 'mọt': 1, 'okcám': 1, 'calibrate': 1, 'bâm': 1, 'thiếtpin': 1, 'thiệtthít': 1, 'pocket': 1, 'việtanh': 1, 'epub': 1, 'hànghộp': 1, 'com': 1, 'tracking': 1, 'track': 1, 'papa': 1, 'rới': 1, 'critical': 1, 'odder': 1, 'chek': 1, 'hehe': 1, 'êiiii': 1, 'bsau': 1, 'rin': 1, 'cancelling': 1, 'anyway': 1, 'dôi': 1, 'mặn': 1, 'dropdelay': 1, 'perfectionist': 1, 'gặm': 1, 'phang': 1, 'kr': 1, 'chắn+': 1, 'nhạy+': 1, 'khẽ': 1, 'laser': 1, 'khác+có': 1, 'đềm': 1, 'trãi': 1, 'thoài': 1, 'coding': 1, 'lữu': 1, 'gửo': 1, 'đằm': 1, 'mái+': 1, 'silicone': 1, 'bìđồng': 1, 'logictech': 1, 'dip': 1, 'kham': 1, 'pv': 1, 'cằm': 1, 'rechargeable': 1, 'vửa': 1, 'sealxài': 1, 'mái': 1, 'kiếm': 1, 'micrsoft': 1, 'cquan': 1, 'mè': 1, 'chuwa': 1, 'unify': 1, 'forwardback': 1, 'lòngchuột': 1, 'êmmượt': 1, 'tốtcòn': 1, 'kêutiki': 1, 'ồn+': 1, 'gọn+': 1, 'phìm': 1, 'sángđang': 1, 'btn': 1, 'lòng+điều': 1, 'mệnh': 1, 'cmn': 1, 'ổncách': 1, 'chac': 1, 'gshock': 1, 'cux': 1, 'rap': 1, 'ratiện': 1, 'pairing': 1, 'dày': 1, 'trầm': 1, 'khuếch': 1, 'phẩmortify': 1, 'phượt': 1, 'lối': 1, 'kpit': 1, 'tuẩn': 1, 'taibhđiện': 1, 'thoạisonycomvn': 1, 'srs': 1, 'tícám': 1, 'viêt': 1, 'bluezone': 1, 'khiếm': 1, 'chsi': 1, 'truóc': 1, 'inpod': 1, 'đượcthay': 1, 'nhấtvs': 1, 'inpodvv': 1, 'dừngchạy': 1, 'cutoe': 1, 'disconnected': 1, '👍👍👍': 1, 'ngoc': 1, 'duong': 1, 'tainhưng': 1, 'vứu': 1, 'truổn': 1, 'lining': 1, 'priv': 1, 'toại': 1, 'bàicòn': 1, 'đượctạm': 1, 'xẹc': 1, 'dậy': 1, 'lưong': 1, 'sạp': 1, 'chậmcác': 1, 'gỏi': 1, 'vắn': 1, 'inout': 1, 'tội': 1, 'hìa': 1, 'phẩmlus': 1, 'sáoau': 1, 'nặngsạc': 1, 'lâumới': 1, 'thúi': 1, 'iphon': 1, 'biê': 1, 'đẹpmọi': 1, 'đưuuf': 1, 'dk': 1, 'ngọc': 1, 'soát': 1, 'thống': 1, 'diệt': 1, 'chặncách': 1, 'tránh': 1, 'datenhưng': 1, 'thìmọi': 1, 'profressional': 1, 'goood': 1, 'extrabass': 1, 'ngac': 1, 'camo': 1, '“bội': 1, '“hụt”': 1, 'burn': 1, '\\ufefftai': 1, 'ấmmạnhcó': 1, 'tiếngkhó': 1, 'sĩ': 1, 'onear': 1, 'mêm': 1, 'đưng': 1, 'dance': 1, 'khác+tuy': 1, 'tai+hơi': 1, 'máytốt': 1, 'mốt': 1, 'wep': 1, 'deliver': 1, 'nghẹ': 1, 'indie': 1, 'chillpop': 1, 'tốttiki': 1, 'nhỏcách': 1, 'overear': 1, 'lànhhy': 1, 'dải': 1, 'vkl': 1, 'ẩmkhi': 1, 'luồn': 1, 'lolcf': 1, 'sạn': 1, 'ưifi': 1, 'moden': 1, 'wofi': 1, 'rệ': 1, 'firware': 1, 'network': 1, 'sao+còn': 1, 'vực': 1, 'tí+ví': 1, 'dụ': 1, 'kv': 1, 'rộng': 1, 'vạch': 1, 'được+cách': 1, 'ok+do': 1, 'còn+chỉ': 1, 'reset+': 1, 'cã': 1, 'trênh': 1, 'điêù': 1, 'laị': 1, 'phimmoi': 1, 'muot': 1, 'rống': 1, 'rỉcó': 1, 'giá+nói': 1, 'rèn': 1, 'gù': 1, 'vướng': 1, 'víu': 1, 'gập': 1, 'bởi': 1, 'xoắn': 1, 'đoạn': 1, 'nàythấy': 1, 'ổngiao': 1, 'nhanhmình': 1, 'thangs': 1, 'dàng+': 1, 'mạnh+': 1, 'online+': 1, 'thìtầng': 1, 'oai': 1, 'oái': 1, 'íu': 1, 'xàivui': 1, 'shooooppeee': 1, 'sinhsinh': 1, 'viên+khâu': 1, 'yêm': 1, 'tâm+tóm': 1, 'wordexcel': 1, 'trỏ': 1, 'tạo': 1, 'oh': 1, 'laptop+tuy': 1, 'chắn+vãn': 1, 'nhanhtôi': 1, 'hàngchuột': 1, 'tocon': 1, 'lắmphải': 1, 'này+thứ': 1, 'nối+thứ': 1, 'lượng+thứ': 1, 'thôikhông': 1, 'biệtkick': 1, 'êmbấm': 1, 'ut': 1, 'moba': 1, 'nhắc': 1, 'dãn': 1, 'vã': 1, 'okeđóng': 1, 'chónhchất': 1, 'hien': 1, 'logiteck': 1, 'cf': 1, 'bỉ': 1, 'nhại': 1, 'nr': 1, 'nhx': 1, 'giac': 1, 'vuong': 1, 'leudng': 1, 'oem': 1, 'tốtcó': 1, 'trog': 1, 'nữavới': 1, 'ổnkhông': 1, 'ổnnên': 1, 'chuot': 1, 'hoaatj': 1, 'năgn': 1, 'for': 1, 'mouse': 1, 'nhaỵ': 1, 'okchất': 1, 'địnhnếu': 1, 'địnhnói': 1, 'nhạy+xài': 1, 'thận+đún': 1, 'tang': 1, 'vach': 1, 'tốtđộ': 1, 'nhanhđónggói': 1, 'lẹ': 1, 'tốthy': 1, 'rắng': 1, 'd+': 1, 'hơn++được': 1, 'vướn': 1, 'dụng+logitech': 1, 'ngừng+kích': 1, 'xa+chuột': 1, 'chuột+được': 1, 'vista™': 1, 'taytốc': 1, 'chụi': 1, 'khiến': 1, 'quailizerr': 1, 'tiệnnói': 1, 'đưỡ': 1, 'đẹpsang': 1, 'chảnhsản': 1, 'nhưngnđựng': 1, 'cuzng': 1, 'ngờgiao': 1, 'tílần': 1, 'lz': 1, 'saochúc': 1, 'shopbuôn': 1, 'nhanhkết': 1, 'dàngsóng': 1, 'khỏesẽ': 1, 'leaked': 1, 'dẹp': 1, 'gãy': 1, 'tròn': 1, 'mỏng': 1, 'okchưa': 1, 'zè': 1, 'totnhug': 1, 'àk': 1, 'mica': 1, 'decal': 1, 'tốttới': 1, 'chắnnhắn': 1, 'vien': 1, 'poster': 1, 'phongvu': 1, 'nhanhgọn': 1, 'mavel': 1, 'ironmen': 1, 'tầngbán': 1, 'plug': 1, 'bậttắt': 1, 'đep+tốc': 1, 'ràng+một': 1, 'cấp+': 1, 'thành+': 1, 'đặt+': 1, 'gian+': 1, 'phầm': 1, 'tầng': 1, '“hey': 1, 'seri”': 1, 'chở': 1, 'qt': 1, 'ngoi': 1, 'btw': 1, 'rv': 1, 'firm': 1, 'trụi': 1, 'beats': 1, 'idevices': 1, '“ủ”': 1, 'voiw': 1, 'ngưởi': 1, 'tainhung': 1, 'thôibin': 1, 'lâuchua': 1, 'cảcảm': 1, 'thôichứ': 1, 'ngườiminh': 1, 'description': 1, 'same': 1, 'mởi': 1, 'chong': 1, 'wifii': 1, 'thoòng': 1, 'truewireless': 1, 'jảm': 1, 'fát': 1, 'applecom': 1, 'luongbat': 1, 'truyen': 1, 'dinh': 1, 'sin': 1, 'bở': 1, 'quácó': 1, 'true': 1, 'mvn': 1, 'mến': 1, 'điêu': 1, 'rồi+dùng': 1, 'luôn+ông': 1, 'cậy': 1, 'giákhuyến': 1, 'kchiếc': 1, 'phẩmc': 1, 'japan': 1, 'price': 1, 'perform': 1, 'sealđể': 1, 'máycổng': 1, 'kbslâu': 1, 'lephungvn': 1, 'na': 1, 'ná': 1, 'copymove': 1, 'stick': 1, '++về': 1, 'mắt++cắm': 1, 'nhị': 1, 'ổn++nhìn': 1, 'ổn+có': 1, 'nhanhcả': 1, 'nhặnchất': 1, 'mạn': 1, 'đền': 1, 'thằng': 1, 'tiệm': 1, 'nữa+dung': 1, 'loại+nói': 1, 'bóc': 1, 'viền': 1, 'nhanh+nói': 1, 'tikisản': 1, 'liệu+tuy': 1, 'thàng': 1, 'bị+sản': 1, 'mgs': 1, '+dẫu': 1, 'qua+điểm': 1, 'mình+điểm': 1, 'khhi': 1, 'thơ+': 1, 'ngợ': 1, 'được+dự': 1, 'sao+đây': 1, 'tvs': 1, 'thức+usb': 1, 'xongsản': 1, 'đáocòn': 1, 'tốtvới': 1, 'cùimà': 1, 'mbsmỗi': 1, 'hànhmà': 1, 'usbchỉ': 1, 'đẹptiki': 1, '+đánh': 1, 'vậy+về': 1, 'ổntruyền': 1, 'ksao': 1, 'ổndung': 1, 'hehe+các': 1, 'mihf': 1, 'bạc+thay': 1, 'ncl': 1, 'vàđã': 1, 'nhanhlịch': 1, 'sựsản': 1, 'temmình': 1, 'nguyenkim': 1, 'nhanhhàng': 1, 'hoạtđang': 1, 'tesr': 1, 'hàngup': 1, 'vàotốc': 1, 'kbcơ': 1, 'giágiao': 1, 'dõi': 1, 'nhanhmới': 1, 'kcái': 1, 'naod': 1, 'mắttiện': 1, 'all': 1, 'tảđộ': 1, 'lệu': 1, 'soa': 1, 'ẫu': 1, 'oktốt': 1, 'nhanhnhân': 1, 'vẻhàng': 1, 'nóngnhưng': 1, 'hơntạm': 1, 'nhạy+nhìn': 1, 'bừa': 1, 'đất': 1, 'lười': 1, 'tìm': 1, 'chii': 1, 'nhathiết': 1, 'lợicầm': 1, 'taygiá': 1, 'chắnđóng': 1, 'fói': 1, 'kỹnhưng': 1, 'tođêm': 1, 'ghênói': 1, 'tượng': 1, 'việc+chuột': 1, 'trọng': 1, 'newmen': 1, 'thận+về': 1, 'nhê+khuyết': 1, 'điểm+': 1, 'xinh+': 1, 'bền+': 1, 'dễ+': 1, 'thận+nhược': 1, 'trường+nói': 1, 'drag': 1, 'đãng': 1, 'onlie': 1, 'ỏn': 1, 'thoài': 1, 'uyển': 1, 'só': 1, 'thậnsản': 1, 'tốtmẫu': 1, 'ẻ': 1, 'tốtsử': 1, 'chắncẩn': 1, 'nhạn': 1, 'dụngtốt': 1, 'vàovà': 1, 'legitech': 1, 'pin+nhưng': 1, 'httptikivnchuotkhongdaylogitechmphtmlrefcccsrcviewrelated': 1, 'ên': 1, 'samung': 1, 'nhot': 1, 'energizer': 1, 'tayđẹp': 1, 'qcnhưng': 1, 'vônhưng': 1, 'rồicảm': 1, 'nhậttiki': 1, '⭐⭐⭐⭐⭐': 1, 'numpad': 1, 'xốc': 1, 'nhro': 1, 'thêmm': 1, 'thãi': 1, 'crtl': 1, 'cãng': 1, 'nhiềutiki': 1, 'ngủn': 1, 'iphoneplus': 1, 'latin': 1, 'bp': 1, 'mạnhmàu': 1, 'macros': 1, 'thói': 1, 'scale': 1, 'english': 1, 'uk': 1, 'take': 1, 'nhanhmẫu': 1, 'hãngcty': 1, 'tiếngnhưng': 1, 'he': 1, 'ổngiá': 1, 'đợ': 1, 'phẩml': 1, 'nhượt': 1, 'saocho': 1, 'trướcmã': 1, 'ổntiếng': 1, 'fifa': 1, 'cê': 1, 'chuan': 1, 'phòngcó': 1, 'tốtdung': 1, 'ẩulàm': 1, 'temđồng': 1, 'saonhưng': 1, 'kheadapter': 1, 'tời': 1, 'testchất': 1, 'hakeem': 1, 'sòng': 1, 'vò': 1, 'dụnghc': 1, 'uhs': 1, 'kington': 1, 'benchmark': 1, 'rồihàng': 1, 'đùngrạch': 1, 'tikitrade': 1, 'sớm': 1, 'sẵnsản': 1, 'nhẹgiống': 1, 'thiện': 1, 'evo': 1, 'dụngdgb': 1, 'laptoplàm': 1, 'hđh': 1, 'hôp': 1, 'hđ': 1, 'măc': 1, 'sennheiser': 1, 'triều': 1, 'cởi': 1, 'êi': 1, 'mậuhà': 1, 'tc': 1, 'vnđ': 1, 'dậm': 1, 'tấu': 1, 'ém': 1, 'nhanhdong': 1, 'basnghe': 1, 'bore': 1, 'lỗiđã': 1, 'resetxạc': 1, 'tắtrồi': 1, 'lạirất': 1, 'okchạy': 1, 'nhanhkiểm': 1, 'dằn': 1, 'pođượcast': 1, 'oktự': 1, 'nố': 1, 'nhạyâm': 1, 'tốtmình': 1, 'nốimình': 1, 'gội': 1, 'đậy': 1, 'bụi': 1, 'bặm': 1, 'ẩm': 1, 'ổnbass': 1, 'okevới': 1, 'lývẩn': 1, 'tắtchuyển': 1, 'báohi': 1, 'phapluanorg': 1, 'ting': 1, 'nàochỉ': 1, 'vma': 1, 'lợiphù': 1, 'ahi': 1, 'tiển': 1, 'right': 1, 'đượcdo': 1, 'hjhj': 1, 'nch': 1, 'trđ': 1, 'migration': 1, 'acronis': 1, 'make': 1, 'chinna': 1, 'maylay': 1, 'hẳncó': 1, 'tỏng': 1, 'hị': 1, 'đưpj': 1, 'intel': 1, 'xảy': 1, 'tuổi': 1, 'thọ': 1, 'luwongj': 1, 'okdung': 1, 'crucial': 1, 'feel': 1, 'cb': 1, 'truyệt': 1, 'đút': 1, 'nhứt': 1, 'rai': 1, 'mdrexap': 1, 'vóc': 1, 'very': 1, 'dag': 1, 'char': 1, 'ngượng': 1, 'khích': 1, 'nhắncuộc': 1, 'hangout': 1, 'tuổimắt': 1, 'ptien': 1, 'love': 1, 'theme': 1, 'nhện': 1, 'khứa': 1, 'chill': 1, 'đm': 1, 'chầu': 1, 'kcalkm': 1, 'calo': 1, 'xít': 1, 'alipay': 1, 'workhôngut': 1, 'freestyle': 1, 'notifications': 1, 'notify': 1, 'fitness': 1, 'đia': 1, 'sensitiveb': 1, 'trừu': 1, 'sync': 1, 'bluetoothwifi': 1, 'lá': 1, 'thoạih': 1, 'đgian': 1, 'ưvv': 1, 'ong': 1, 'côn': 1, 'sángkhá': 1, 'alarm': 1, 'fs': 1, 'nice': 1, 'đê': 1, 'tốtnhưng': 1, 'đẽo': 1, 'yếm': 1, 'forget': 1, 'tinm': 1, 'tốtngoại': 1, 'tốtsản': 1, 'giátiki': 1, 'mần': 1, 'shdsử': 1, 'bytess': 1, 'trunb': 1, 'okmỗi': 1, 'hoại': 1, 'hé': 1, 'okbộ': 1, 'úb': 1, 'tồt': 1, 'nhùng': 1, 'nướ': 1, 'cự': 1, 'viu': 1, 'kq': 1, 'ghost': 1, 'tảhơi': 1, 'tốthàng': 1, 'cói': 1, 'gót': 1, 'khôn': 1, 'hazzzz': 1, 'kung': 1, 'chắnxài': 1, 'caap': 1, 'chawts': 1, 'lài': 1, 'zề': 1, 'bubble': 1, 'wrap': 1, 'đềcó': 1, 'xongthẻ': 1, 'ổnmượt': 1, 'màgiá': 1, 'nhiềutuy': 1, 'đáogiao': 1, 'nhanhđặt': 1, 'luôntuy': 1, 'hộpcái': 1, 'ýmình': 1, 'philippines': 1, 'tết': 1, 'nhanhđúng': 1, 'giản': 1, 'tran': 1, 'bqt': 1, 'ôkchưa': 1, 'tuợng': 1, 'sụng': 1, 'lossless': 1, 'đượcchưa': 1, 'xéthàng': 1, 'okcam': 1, 'lk': 1, 'vlcòn': 1, 'jetdrive': 1, 'camrea': 1, 'chích': 1, 'nhanh+tương': 1, 'thoại+giá': 1, 'lý+đóng': 1, 'thận+hàng': 1, 'trược': 1, 'khất': 1, 'đẹpcó': 1, 'filecó': 1, 'ssdcòn': 1, 'kỹgiao': 1, 'bền++nếu': 1, 'rầt': 1, 'cổng': 1, 'yosee': 1, 'giámới': 1, 'lộm': 1, 'llưu': 1, 'tốttôi': 1, 'board': 1, 'ròn': 1, 'trọi': 1, 'truot': 1, 'khôngar': 1, 'đâp': 1, 'cáicám': 1, 'shjp': 1, 'dụng+vỏ': 1, 'thủ': 1, 'hum': 1, 'điem': 1, 'mía': 1, 'dhcpserver': 1, 'mumimo': 1, 'acellus': 1, 'khảng': 1, 'chễ': 1, 'rãy': 1, 'ơt': 1, 'okthỉnh': 1, 'lắmchỉ': 1, 'yen': 1, 'đỉa': 1, 'trậm': 1, 'treep': 1, 'truoc': 1, 'traiâm': 1, 'đượcmong': 1, 'tada': 1, 'vậu': 1, 'đẹpnhỏ': 1, 'downup': 1, 'mbpsmbps': 1, 'onboard': 1, 'đây+': 1, 'lơi': 1, 'ngoằng': 1, 'batw': 1, 'wnn': 1, 'dật': 1, 'diêud': 1, '👌': 1, 'rồitần': 1, 'ghiền': 1, 'lền': 1, 'hmmmm': 1, 'lead': 1, 'tạt': 1, 'té': 1, '+dải': 1, 'sỹ': 1, '+âm': 1, 'quyện': 1, 'dính+đánh': 1, 'hơn+một': 1, 'dâygaanf': 1, 'thường+chấm': 1, 'đ+tuy': 1, 'okee': 1, 'sà': 1, 'minhg': 1, 'hình+': 1, 'được+tai': 1, 'giắt': 1, 'nútmicro': 1, 'thuở': 1, 'preview': 1, 'phẩmbass': 1, 'nhỏnhưng': 1, 'rồikhông': 1, 'voí': 1, 'nà': 1, 'phở': 1, 'nghecó': 1, 'nhỏcòn': 1, 'rẻtai': 1, 'nàykhông': 1, 'liều': 1, 'giự': 1, 'sớm+': 1, 'tù': 1, 'tay+bao': 1, 'được++nói': 1, 'phd': 1, 'lợi+tiki': 1, 'nhanh+quà': 1, 'backup+giá': 1, 'phẩm+thiết': 1, 'lẫm': 1, 'chắn+kiểm': 1, 'vn+tốc': 1, 'hữu+mọi': 1, 'lòng+mong': 1, 'tắtbật': 1, 'tbcủa': 1, 'touro': 1, 'lớn+khi': 1, 'ok+tiki': 1, 'thận+nói': 1, 'cở': 1, 'mãi+mình': 1, 'nữa+chắc': 1, 'talk': 1, 'ngơ': 1, 'nhanhtốc': 1, 'đẹpgiá': 1, 'kiếntai': 1, 'nữasẽ': 1, 'ũng': 1, 'gbs': 1, 'passản': 1, 'phẩmort': 1, 'là+': 1, 'chăngcòn': 1, 'tay+': 1, 'lí': 1, 'đượcdây': 1, 'photochắc': 1, 'lạt': 1, 'hàh': 1, 'quaá': 1, 'ready': 1, 'thên': 1, 'độngchỉ': 1, 'nẵng': 1, 'lượngok': 1, 'clean': 1, 'moies': 1, 'mòi': 1, 'nhanhgiá': 1, 'dw': 1, 'nhanhhộp': 1, 'caanr': 1, 'đrm': 1, 'read': 1, 'trade': 1, 'hddsử': 1, 'dụngd': 1, 'treen': 1, 'phẩmo': 1, 'xacx': 1, 'milanese': 1, 'loop': 1, 'hanoi': 1, 'vâyh': 1, 'aw': 1, 'lat': 1, 'sr': 1, 'muave': 1, 'rungnếu': 1, 'ởdưới': 1, 'lol': 1, 'dánh': 1, 'xiết': 1, 'ofn': 1, 'blutooch': 1, 'bực': 1, 'tuôcvít': 1, 'nhộng': 1, 'xao': 1, 'đạng': 1, 'chắnđủ': 1, 'dụg': 1, 'măt': 1, 'bltooth': 1, 'vặn': 1, 'oktuy': 1, 'chậmhy': 1, 'hơbthank': 1, 'cdrom': 1, 'thah': 1, 'nữasảm': 1, 'compatible': 1, 'cáotiền': 1, 'láy': 1, 'vietel': 1, 'tháp': 1, 'mấp': 1, 'mé': 1, 'ngẫm': 1, 'đượng': 1, 'khuynh': 1, 'nintendo': 1, 'match': 1, 'giác': 1, 'ký': 1, 'vietnammobile': 1, 'hour': 1, 'nhiện': 1, 'gogo': 1, 'phức+cái': 1, 'tị': 1, 'bồ': 1, 'quãng++nhược': 1, 'nhanh+người': 1, 'thử+về': 1, 'giá+': 1, 'download+': 1, 'bản+bản': 1, 'adapter+bản': 1, 'adapter+khi': 1, 'thích+nhận': 1, 'coi+tuy': 1, 'tpmifi': 1, 'hồ+bắt': 1, 'nào++về': 1, 'nhau++về': 1, 'hssd': 1, 'thôi++vì': 1, 'wah': 1, 'vnmobile': 1, 'kĩ+sản': 1, 'choáng': 1, 'vocal': 1, 'ngoài+việc': 1, 'luôn+hiện': 1, 'lòngthiết': 1, 'booster': 1, 'rỉa': 1, 'ohm': 1, 'lộp': 1, 'earpod': 1, 'senheiser': 1, 'leng': 1, 'keng': 1, 'biếc': 1, 'độngedm': 1, 'chắctách': 1, 'bassnhưng': 1, 'đượcok': 1, 'nghay': 1, 'sầu': 1, 'luyến': 1, 'sáo': 1, 'thướt': 1, 'thẫn': 1, 'ngút': 1, 'mênh': 1, 'rb': 1, 'mdrxbap': 1, 'tửedmnhạc': 1, 'lin': 1, 'hawei': 1, 'advance': 1, 'trói': 1, 'bleed': 1, 'hản': 1, 'pref': 1, 'sông': 1, 'vớt': 1, 'tiếg': 1, 'rưỡiiii': 1, 'thỏi': 1, 'lepetit': 1, 'nhanh+sản': 1, 'mới+nhân': 1, 'nữakhá': 1, 'only': 1, 'edmpopdance': 1, 'balô': 1, 'thấp': 1, 'cạn': 1, 'cẫn': 1, 'dj': 1, 'ván': 1, 'giámua': 1, 'tat': 1, 'ổn+máy': 1, 'phủ': 1, 'vet': 1, 'nhiet': 1, 'ỗn': 1, 'center': 1, 'memoryzone': 1, 'files': 1, 'bitrate': 1, 'drone': 1, 'dụngbench': 1, 'kình': 1, 'thôimới': 1, 'đượcnhưng': 1, 'pbh': 1, 'dis': 1, 'bảng': 1, '—': 1, 'nàythẻ': 1, 'lkqs': 1, 'sexy': 1, 'profile': 1, 'resản': 1, 'phẩmonse': 1, 'nàonếu': 1, 'vưới': 1, 'vổng': 1, 'giában': 1, 'ổnchất': 1, '⭐️': 1, 'sángtem': 1, 'nguyêncó': 1, 'gcòn': 1, 'biếtphù': 1, 'okmới': 1, 'slow': 1, 'đẹphy': 1, 'kknr': 1, 'mơn': 1, 'chúi': 1, 'cận': 1, 'sắm': 1, 'ngâng': 1, 'xàm': 1, 'nhê': 1, 'nhanhchất': 1, 'biếttốt': 1, 'lượg': 1, 'giátạm': 1, 'pros': 1, 'sculpt': 1, 'comfort': 1, 'cons': 1, 'cv': 1, 'party': 1, 'doodle': 1, 'đèm': 1, 'leb': 1, 'ngày+nhận': 1, 'optical': 1, 'darkfield': 1, 'vỗ': 1, 'ưu+thiết': 1, 'dụng+nhẹ': 1, 'chuyển+nút': 1, 'to+bền': 1, 'thường+nhược+nắp': 1, 'chắn+đôi': 1, 'tay+nói': 1, 'ngợm': 1, 'điêm': 1, 'silience': 1, 'msft': 1, 'chuộtbcó': 1, 'tinhcầm': 1, 'chuôthj': 1, 'wheel': 1, 'sient': 1, 'tịki': 1, 'cẩm': 1, 'ság': 1, 'tí': 1, 'logietch': 1, 'ngiêng': 1, 'linkpin': 1, 'npfh': 1, 'feet': 1, 'frw': 1, 'gọn+nhược': 1, 'pát': 1, 'oksóng': 1, 'vpn': 1, 'pptp': 1, 'fimeware': 1, 'lẹcó': 1, 'sẩm': 1, 'vittel': 1, 'dớt': 1, 'biếtgiao': 1, 'ctrình': 1, 'thườnh': 1, '+có': 1, 'repater': 1, 'nrev': 1, 'khỏedịch': 1, 'nhanhcảm': 1, 'êmnhạy': 1, 'đượcthời': 1, 'hơnchùm': 1, 'lightroom': 1, 'well': 1, 'done': 1, 'đb': 1, 'part': 1, 'mqdhna': 1, 'tổi': 1, 'nhưạ': 1, 'lãi': 1, 'nhải': 1, 'máinhư': 1, 'xích': 1, 'xíusắp': 1, 'khoe': 1, '🤣': 1, 'ghềnh': 1, 'hdelivery': 1, 'envy': 1, 'chùm': 1, 'lâugiao': 1, 'hàngdùng': 1, 'okcảm': 1, 'cert': 1, 'batqs': 1, 'thườg': 1, 'ăngten': 1, 'buột': 1, 'ănten': 1, 'chiu': 1, 'bị+về': 1, 'định+hộp': 1, 'thường+giá': 1, 'tiền+điểm': 1, 'repair': 1, 'mps': 1, 'gain': 1, 'màvtreex': 1, 'rõchất': 1, 'nhanhnói': 1, 'diem': 1, 'sieu': 1, 'bạm': 1, 'hẳn': 1, 'trí': 1, 'chủ': 1, 'phổ': 1, 'thông+khả': 1, 'lithium': 1, 'bằnh': 1, 'đật': 1, 'pointer': 1, 'trỉnh': 1, 'tốtchính': 1, 'highly': 1, 'chực': 1, 'việtmày': 1, 'us': 1, 'tốtmong': 1, 'siuu': 1, 'đẹpđeo': 1, 'ngáo': 1, 'thoạizalo': 1, 'cao+sản': 1, 'bõ': 1, 'tiger': 1, 'phái': 1, 'nữtay': 1, 'xd': 1, 'kiêu': 1, 'nhắng': 1, 'xệt': 1, 'saol': 1, 'thoeuf': 1, 'vặng': 1, 'phonepadmac': 1, 'gesture': 1, 'trackpad': 1, 'hấn': 1, 'mhau': 1, '\\U0001f92a': 1, 'tồicung': 1, 'stream': 1, 'pauseplay': 1, 'previous': 1, 'beeeeeeeeep': 1, 'rớp': 1, 'antena': 1, 'teda': 1, 'actruong': 1, 'onminh': 1, 'tikidong': 1, 'goican': 1, 'thanok': 1, 'hànhnếu': 1, 'adapters': 1, 'broađượcom': 1, 'collaboration': 1, 'value': 1, 'đùa': 1, 'tavasa': 1, 'hơnhở': 1, 'soft': 1, 'khoái': 1, 'invisible': 1, 'optic': 1, 'backfoward': 1, 'noisy': 1, 'rắp': 1, 'góc': 1, 'giầy': 1, 'usbtypec': 1, 'recieve': 1, 'buethooth': 1, 'rơn': 1, 'đượckhá': 1, 'miến': 1, 'reciver': 1, 'nhanhtest': 1, 'thinkpad': 1, 'blutut': 1, 'steermouse': 1, 'backward': 1, 'customize': 1, 'ultrabook': 1, 'ồnnút': 1, 'ngả': 1, 'lowtech': 1, 'workstation': 1, 'lappv': 1, 'information': 1, 'mojave': 1, 'bấn': 1, 'tràu': 1, 'xục': 1, 'xịch': 1, 'users': 1, 'custom': 1, 'cuột': 1, 'silence': 1, 'ôk': 1, 'mẽ': 1, 'nhay': 1, 'khưng': 1, 'ahci': 1, 'nghiện': 1, 'ngập': 1, 'lf': 1, 'signal': 1, 'resumed': 1, '🤣🤣': 1, 'vớu': 1, 'thoiwf': 1, 'chuaanr': 1, 'lược': 1, 'tips': 1, 'ria': 1, 'tip': 1, 'housing': 1, 'rứt': 1, 'phẩmotify': 1, 'pre': 1, 'eq': 1, 'nhiềucó': 1, 'dừngphátnext': 1, 'tắtmở': 1, 'cưng': 1, '“gần”': 1, 'chunh': 1, 'chet': 1, 'horizon': 1, 'reflect': 1, 'synchro': 1, 'tạovật': 1, 'ig': 1, 'sealchỉ': 1, 'nowmất': 1, 'chútnếu': 1, 'tikinowcho': 1, 'phẩmđơn': 1, 'lênthanksvà': 1, 'tikithì': 1, 'tácđể': 1, 'lạck': 1, 'baxic': 1, 'chan': 1, 'thườngnhưng': 1, 'sắcchưa': 1, 'thỏa': 1, 'lắmnhưng': 1, 'yếuchất': 1, 'trongcảm': 1, 'goid': 1, 'anyf': 1, 'snr': 1, 'geniusgiao': 1, 'hẹnchất': 1, 'tuot': 1, 'trebb': 1, 'tảđóng': 1, 'hìnghe': 1, 'anti': 1, 'ravào': 1, 'gbcoppy': 1, 'nóngnhững': 1, 'đềtạm': 1, 'trac': 1, 'tôc': 1, 'hẽn': 1, 'adorit': 1, 'phác': 1, 'vẽviết': 1, 'viếtvẽ': 1, 'ipod': 1, 'ibis': 1, 'paint': 1, 'procreate': 1, 'digi': 1, 'mvẫn': 1, 'đổng': 1, 'muatest': 1, 'kíchchỉ': 1, 'chínhxài': 1, 'nóngđộ': 1, 'tốtổn': 1, 'uki': 1, 'bút': 1, 'mạnhmn': 1, 'chướng': 1, 'okhút': 1, 'đượctiền': 1, 'nanh': 1, 'adonit': 1, 'androil': 1, 'guản': 1, 'đệm': 1, 'uber': 1, 'vậy+': 1, 'fontopia': 1, 'mdr': 1, 'elp': 1, 'lứa': 1, 'tốtêmthích': 1, 'mìnhgiá': 1, 'đượctương': 1, 'máytiki': 1, 'thuận': 1, 'ielts': 1, 'secure': 1, 'mình++cái': 1, 'sũng': 1, 'lắm+cổng': 1, 'khuyển': 1, 'sandisk+usb': 1, 'gbhi': 1, 'lợi+giao': 1, 'cáo+dung': 1, 'mhd': 1, 'lossless++tiki': 1, 'mỏng+': 1, 'mại': 1, 'vợt': 1, 'gấu': 1, 'ẻm': 1, 'nghệ': 1, 'chép': 1, 'tốt+nói': 1, 'cún': 1, 'g+nhược': 1, 'dám': 1, 'lầy': 1, 'khuyễn': 1, 'nhanh+lại': 1, 'điẹn': 1, 'ổn+về': 1, 'gàng+về': 1, 'khóađiểm': 1, 'vọng+tốc': 1, 'điệnmột': 1, 'tiện+một': 1, 'này+nhưng': 1, 'ráy': 1, 'k+': 1, 'ví+': 1, 'đậpvà': 1, 'hàng+tiki': 1, 'mình+cảm': 1, 'này+usb': 1, 'đẹp+nên': 1, 'thử+tiki': 1, 'lợi+nhu': 1, 'điểm+thiết': 1, 'tâm+chuẩn': 1, 'usb+nhược': 1, 'điểm+nhỏ': 1, '+nó': 1, 'khoá+tốc': 1, 'nôn': 1, 'được+chống': 1, 'thứ+thiếu': 1, '+quá': 1, 'nhỏgọn': 1, 'dùng+usb': 1, 'lọa': 1, 'tiện+dịch': 1, 'tậngb': 1, 'lựngtuyệt': 1, 'lâu+tiki': 1, 'to+usb': 1, 'nam++tốc': 1, 'vuicám': 1, 'lídung': 1, 'thắm': 1, 'lẳm': 1, 'gam': 1, 'lâu+nhân': 1, 'thận+với': 1, 'dạn': 1, 'tốtnên': 1, 'nhãn': 1, 'lắng': 1, 'nằm': 1, 'ắp': 1, 'ie': 1, 'hàngđúng': 1, 'tảsao': 1, 'báncùng': 1, 'phẩmgiá': 1, 'sít': 1, 'síu': 1, 'phảo': 1, 'amc': 1, 'khôngrea': 1, 'cmình': 1, 'dps': 1, 'nào+': 1, 'golden': 1, 'power+': 1, 'thuphát': 1, 'blueeye': 1, 'clich': 1, 'quâ': 1, 'đẹpchuột': 1, 'resolution': 1, 'bassbooted': 1, 'rnb': 1, 'instrumental': 1, 'playerpro': 1, 'overears': 1, 'enhanced': 1, 'edmdance': 1, 'enhenced': 1, 'zac': 1, 'enchance': 1, 'classic': 1, 'ame': 1, 'đâumình': 1, 'sạccó': 1, 'ơnmình': 1, 'tốtbề': 1, 'cungkhiến': 1, 'hiphop': 1, 'trap': 1, 'bụpkhông': 1, 'tìnhgói': 1, 'tìnhnghe': 1, 'tốtpin': 1, 'lâuchỉ': 1, 'gật': 1, 'tranning': 1, 'haycông': 1, 'đượcđã': 1, 'giâyvà': 1, 'resettiki': 1, 'psytrance': 1, 'căngnhững': 1, 'nghenói': 1, 'ke': 1, 'nhon': 1, 'bứt': 1, 'bịn': 1, 'ji': 1, 'ýcám': 1, 'okvấn': 1, 'hàngrất': 1, 'commet': 1, 'buối': 1, 'luongkhông': 1, 'cang': 1, 'đượcom': 1, 'nạc': 1, 'thậnsau': 1, 'đuoejc': 1, 'tót': 1, 'mao': 1, 'repeter': 1, 'itenet': 1, 'repeator': 1, 'phẩmeeđiện': 1, 'cabling': 1, 'tnaophải': 1, 'ngiệm': 1, 'ướt': 1, 'chú': 1, 'trị': 1, 'lẻoít': 1, 'nghecụ': 1, 'ngộp': 1, 'máithoáng': 1, 'resets': 1, 'auido': 1, 'vlog': 1, 'ảnhâm': 1, 'nữacòn': 1, 'soundpeatz': 1, 'truecapsule': 1, 'pamu': 1, 'slide': 1, 'capsule': 1, 'total': 1, 'wireleas': 1, 'nhỏchất': 1, 'tainói': 1, 'giápin': 1, 'loaii': 1, 'rờm': 1, 'print': 1, 'restar': 1, 'tính+tiki': 1, 'ddang': 1, 'xành': 1, 'xạch': 1, 'sierra': 1, 'ưeb': 1, 'mihouse': 1, 'tốttốc': 1, 'soul': 1, '👌👌👌': 1, 'nghiêp': 1, 'headband': 1, 'ân': 1, 'lagihitech': 1, 'pcl': 1, 'okgắn': 1, 'giaodù': 1, 'msata': 1, 'cpuz': 1, 'seris': 1, 'creating': 1, 'glossy': 1, 'gọp': 1, 'coreldraw': 1, 'nétin': 1, 'hight': 1, 'năm+do': 1, 'mực+máy': 1, 'nónk': 1, 'phao': 1, 'hànhcủa': 1, 'thường+còn': 1, 'tướngkhông': 1, 'hàng+nói': 1, 'malaysia++tuy': 1, 'rồi++nếu': 1, 'sao++': 1, 'ok+hộp': 1, 'được+lần': 1, 'dungjsanr': 1, 'bộc': 1, '“bá': 1, 'cháy”': 1, '“quần”': 1, 'mỏngmàu': 1, 'tốttuy': 1, 'ốp': 1, 'đậpkhi': 1, 'cảđồ': 1, 'xàidạo': 1, 'chiêm': 1, 'dbport': 1, 'tikitraning': 1, 'digiwwor': 1, 'nặn': 1, 'picnic': 1, 'pastel': 1, 'feeback': 1, 'trừm': 1, 'bản+dễ': 1, 'wps+kiểm': 1, 'tính+chức': 1, 'brigde': 1, 'cí': 1, 'chuyển+về': 1, 'gì+router': 1, 'đẹp+tôi': 1, 'dùng+mặc': 1, 'phốibán': 1, 'đượcnói': 1, 'châtd': 1, 'nhanhcũng': 1, 'sing': 1, 'gi+hy': 1, 'finhay': 1, 'tốtnguyên': 1, 'vậychán': 1, 'noti': 1, 'câc': 1, 'oặc': 1, 'ankercom': 1, 'ft': 1, 'lỏm': 1, 'ktv': 1, 'mpbs': 1, 'parent': 1, 'sever': 1, 'nấm': 1, 'over': 1, 'lão': 1, 'vlan': 1, 'tottrưa': 1, 'enrergizer': 1, 'gạo+maximum': 1, 'gì+về': 1, 'rinh': 1, 'già+nói': 1, 'nbh': 1, 'gông': 1, 'thêmdài': 1, 'tool': 1, 'omo': 1, 'clone': 1, 'seikiro': 1, 'nhanhtuy': 1, 'zone': 1, 'mâu': 1, 'lòngcực': 1, 'green': 1, 'nhĩ': 1, 'tánh': 1, 'kháhài': 1, 'kêukhông': 1, 'xuýt': 1, 'cosair': 1, 'timings': 1, 'êmchưa': 1, 'lằm': 1, 'buss': 1, 'lè': 1, 'chaasl': 1, 'cown': 1, 'núi': 1, 'nhạcstop': 1, 'mtốc': 1, 'phẩmhàng': 1, 'oksử': 1, 'đừ': 1, 'rục': 1, 'rịt': 1, 'nhập': 1, 'pắm': 1, 'gọn+tuy': 1, 'hỏngthất': 1, 'cdh': 1, 'rctc': 1, 'ctvvdggxc': 1, 'gđượcvh': 1, 'gưccafwf': 1, 'gưgwba': 1, 'ưgvafq': 1, 'ngung': 1, 'phẩmtuy': 1, 'méođầu': 1, 'tảvề': 1, 'tảthiết': 1, 'gọntrọng': 1, 'msạc': 1, 'nhanhbền': 1, 'stars': 1, 'tảthương': 1, 'ngoaid': 1, 'nhiễu': 1, 'mắt': 1, 'cyan': 1, 'cômg': 1, 'sanh': 1, 'khôngshop': 1, 'okkhông': 1, 'cz': 1, 'mbss': 1, 'activity': 1, 'porfolio': 1, 'xuay': 1, 'worldexcel': 1, 'anhanh': 1, 'onedrive': 1, 'googledrive': 1, 'mtb': 1, 'hànhm': 1, 'ipadmobiletablet': 1, 'nhắnvăn': 1, 'iosmacos': 1, 'smarttv': 1, 'trg': 1, 'bamboo': 1, 'microusb': 1, 'panscroll': 1, 'pen': 1, 'pressure': 1, 'httpsbloggaomonnetfaqsolutionspdnotwork': 1, 'gaomoncn': 1, 'tòan': 1, 'ink': 1, 'httpwwwgaomoncnuploadssoftprzzip': 1, 'medibang': 1, 'đưojc': 1, 'hjz': 1, 'khácnhưng': 1, 'chắnsạc': 1, 'sòok': 1, 'dươí': 1, 'nữacài': 1, 'mem': 1, 'acronic': 1, 'image': 1, 'phẩmecs': 1, 'node': 1, 'analog': 1, 'gigabit': 1, 'nodes': 1, 'ất': 1, 'vềchaats': 1, 'banbuongiare': 1, 'hnagf': 1, 'deco': 1, 'âo': 1, 'chậmnhưng': 1, 'vncanon': 1, 'business': 1, 'airprint': 1, 'printer’s': 1, 'sđiện': 1, 'nhiềudịch': 1, 'rồng': 1, 'cừu': 1, 'dìm': 1, 'deep': 1, 'wwifi': 1, 'clack': 1, 'thọt': 1, 'prev': 1, 'dắn': 1, 'ntnao': 1, 'quánên': 1, 'càn': 1, 'ther': 1, 'huế': 1, 'reconnect': 1, 'tấng': 1, 'trắngphải': 1, 'instagram': 1, 'tốtphát': 1, 'mạnhrất': 1, 'dàu': 1, 'sỡ': 1, 'thươngđóng': 1, 'hô': 1, 'aoc': 1, 'nhanhmỗi': 1, 'album': 1, 'gallery': 1, 'camerra': 1, 'mavic': 1, 'miroless': 1, 'udapter': 1, 'bạnnói': 1, 'lya': 1, 'sẫm': 1, 'hỏngsốc': 1, 'nhanhtrong': 1, 'luowgnj': 1, 'dungd': 1, 'đềuu': 1, 'nguoisan': 1, 'nguoipham': 1, 'xuyen': 1, 'vni': 1, 'imac': 1, 'esc': 1, 'kiểng': 1, 'ngừi': 1, 'hbs': 1, 'tiéng': 1, 'đoa': 1, 'kháccũng': 1, 'totgiao': 1, 'oinr': 1, 'itune': 1, 'toa': 1, 'nhỉchia': 1, 'lightining': 1, 'đâng': 1, 'xm': 1, 'zoon': 1, 'thám': 1, 'thậtđiểm': 1, 'tf': 1, 'đờivới': 1, 'kpop': 1, 'romot': 1, 'quá+mình': 1, 'gúa': 1, 'tikitiki': 1, 'trăng': 1, 'moon': 1, 'giời': 1, 'nhé+còn': 1, 'bug+': 1, 'bị+': 1, 'ntp': 1, 'asiapoolntporg': 1, 'asiapoolntporg++của': 1, 'conhân': 1, 'viênerter': 1, 'pppoe': 1, 'evf+về': 1, 'bàngần': 1, 'đặy': 1, 'đĩnh': 1, 'nhỏngười': 1, 'okngày': 1, 'đẹpzoom': 1, 'êm+có': 1, 'vintage': 1, 'nikatei': 1, 'slang': 1, 'phrasal': 1, 'verb': 1, 'oxford': 1, 'nhuengx': 1, 'gáy': 1, 'riêng+còn': 1, 'learners': 1, 'dictionary': 1, 'toefl': 1, 'toeic': 1, 'vựng': 1, 'bưng': 1, 'vẻsẽ': 1, 'địnhbiến': 1, 'brideg': 1, 'ngoàiđúng': 1, 'đẹpchờ': 1, 'sảng': 1, 'xíp': 1, 'zy': 1, 'reload': 1, 'đượcđóng': 1, 'nhanhchỉ': 1, 'apdater': 1, 'nhanhđóng': 1, 'thậnloa': 1, 'uninitialized': 1, 'initialized': 1, 'thận+máy': 1, 'region': 1, 'mainland': 1, 'nhièu': 1, 'dụng+chất': 1, 'tốt+mic': 1, 'rõ+bluetooth': 1, 'đẹp+nội': 1, 'hào': 1, 'modun': 1, 'suấttuy': 1, 'subwoofer': 1, 'quaytóm': 1, 'thiêu': 1, 'chọi': 1, 'trebe': 1, 'gbcó': 1, 'uhsi': 1, 'nhẹcạch': 1, 'ghz+ăng': 1, 'nào+nhược': 1, 'lại+wifi': 1, 'khới': 1, 'giácùng': 1, 'bệtnhưng': 1, 'thiệnchỉ': 1, 'telesale': 1, 'powercore': 1, 'dđược': 1, 'chộp': 1, 'thậncần': 1, 'lẹm': 1, 'mỗt': 1, 'tản': 1, 'ngắn': 1, 'giáchuột': 1, 'phài': 1, 'hỏng+giao': 1, 'giao+tóm': 1, 'tốtbềnđẹpsạc': 1, 'gàn': 1, 'tikt': 1, 'sã': 1, 'bluetooth+giao': 1, 'hẹn+làm': 1, 'thận+cho': 1, 'optionói': 1, 'hhh': 1, 'sot': 1, 'giámáy': 1, 'giá+giao': 1, 'hổ': 1, 'ơi+shop': 1, 'sạc+hình': 1, 'được+túm': 1, 'iphone+cổng': 1, 'dàng': 1, 'bấmgiao': 1, 'downloadupload': 1, 'server': 1, 'tuyên': 1, 'rượi': 1, 'tôi+nghe': 1, 'nhuợc': 1, 'địên': 1, 'ồnh': 1, 'hàng+mình': 1, 'nhiễubị': 1, 'fitbit': 1, 'lắmvậy': 1, 'tưởngmong': 1, 'hayminh': 1, 'cool': 1, 'tầu': 1, 'bện': 1, 'hikvison': 1, 'hoặ': 1, 'tiềntốt': 1, 'bổ': 1, 'alens': 1, 'pindây': 1, 'kiện+giá': 1, 'tắc': 1, 'âm+chất': 1, 'vậy+mà': 1, 'tốt+giao': 1, 'xâm': 1, 'đặt+phần': 1, 'thậnđầy': 1, 'ngàymình': 1, 'lầnmục': 1, 'địnhtiki': 1, 'qcáo+mong': 1, 'pin+va': 1, 'được+do': 1, 'bán+giá': 1, 'sao+độ': 1, 'sao+hài': 1, 'sao+lẫn': 1, 'sao+sử': 1, 'sao+khó': 1, 'sao+pin': 1, 'dàng+router': 1, 'nhận+cắm': 1, 'đượchài': 1, 'bảnngoài': 1, 'tiết': 1, 'mba': 1, 'a+giá': 1, 'smarthome': 1, 'family': 1, 'nhúm': 1, 'isản': 1, 'phẩmeaker': 1, 'iwriter': 1, 'néthài': 1, 'tốtđôi': 1, 'boi': 1, 'rõvai': 1, 'smarttivi': 1, 'lòngsáng': 1, 'mỹ+tuy': 1, 'xaomi': 1, 'óp': 1, 'sâu+giấy': 1, 'mỏng+tóm': 1, 'nhớbao': 1, 'nhứng': 1, 'họa+nhược': 1, 'nhận+luôn': 1, 'được+xin': 1, 'luồng': 1, 'dúm': 1, 'dó': 1, 'nhanhloa': 1, 'ổntai': 1, 'đượcgiao': 1, 'lòng+tuy': 1, 'hăng': 1, 'cooler': 1, 'chãi': 1, 'sao+đáng': 1, 'lệnhnhìn': 1, 'okok': 1, 'nhành': 1, 'ok+sản': 1, 'nhang': 1, 'rồi+con': 1, 'took': 1, 'hích': 1, 'phẩmham': 1, 'location': 1, 'còi': 1, 'mghe': 1, 'kiễm': 1, 'đáo+': 1, 'numlock': 1, 'caplock+': 1, 'lắm+nhìn': 1, 'nhẳng': 1, 'khẩn': 1, '+sản': 1, 'phẩm+luôn': 1, 'xuấtt': 1, 'gthời': 1, 'giant': 1, 'chịch': 1, 'parental': 1, 'controls': 1, 'khôngtuy': 1, 'nhiênhiện': 1, 'lắmhy': 1, 'chuẩngiá': 1, 'tranhtạo': 1, 'thửnhình': 1, 'lượngđóng': 1, 'chóngcòn': 1, 'được+thẻ': 1, 'tốtnghe': 1, 'quakiểm': 1, 'okechỉ': 1, 'kái': 1, 'cổg': 1, 'usbnói': 1, 'ổnđể': 1, 'đáh': 1, 'phẩmgiao': 1, 'xiao': 1, 'tấy': 1, 'bĩ': 1, 'bokeh': 1, 'môt': 1, 'hự': 1, 'thôinếu': 1, 'hơntiki': 1, 'chiêc': 1, 'trippod': 1, 'đìnhnhóm': 1, 'tốtlinh': 1, 'giờ+chỉ': 1, 'nàygiờ': 1, 'gía': 1, 'phẩmmáy': 1, 'thíchmáy': 1, 'nhanhđây': 1, 'kỳ': 1, 'kể': 1, 'chừ': 1, 'đình+nói': 1, 'nhiếp': 1, 'kèm+mấy': 1, 'pts': 1, 'minihihi': 1, 'khám': 1, 'oald': 1, 'premium': 1, 'gbpnăm': 1, 'inóitax': 1, 'thôihihi': 1, 'nghiệp+tuy': 1, 'lượng+và': 1, '+mua': 1, 'nàyđã': 1, 'lamd': 1, 'hardback': 1, 'tum': 1, 'bàntốt': 1, 'mọp': 1, 'lán': 1, 'húng': 1, 'tiền+chỉ': 1, 'vùng+tầm': 1, 'al': 1, 'lầm+nhân': 1, 'lượng+giờ': 1, 'đáo+máy': 1, 'thêm+cảm': 1, 'thận++hàng': 1, 'lắm++có': 1, 'phẩm++mình': 1, 'bố++dù': 1, 'điềm': 1, 'nikhôngn': 1, 'lầnthẻ': 1, 'microsử': 1, 'clips': 1, 'này++nói': 1, 'lầu++tiki': 1, 'ngày+phim': 1, 'sigma': 1, 'art': 1, 'zoăng': 1, 'hẹn👌': 1, 'lmọi': 1, 'ngườims': 1, 'nàymình': 1, 'nó+tốc': 1, 'mpx': 1, 'mcro': 1, 'đièu': 1, 'lunvới': 1, 'bymm': 1, 'yi': 1, 'sheld': 1, 'tốt+hạn': 1, 'lỗinhưng': 1, 'ảnhmáy': 1, 'đượcmáy': 1, 'playmobile': 1, 'ilcea': 1, 'phẩm+tuy': 1, 'đẹpâm': 1, 'lớnnghe': 1, 'rènhưng': 1, 'pinnói': 1, 'diệu': 1, 'chóng++chức': 1, 'kể++hạn': 1, 'ràngkết': 1, 'ròe': 1, '+lấy': 1, 'togiá': 1, 'thíchà': 1, 'okâm': 1, 'ấmchỉ': 1, 'xíunhưng': 1, 'kaf': 1, 'đẹpđợt': 1, 'phết': 1, 'nhỉ': 1, 'hhest': 1, 'này+sạc': 1, 'chuyến': 1, 'fixed': 1, 'chắn+một': 1, 'after': 1, 'effect': 1, 'render': 1, 'vocab': 1, 'hẹnkhi': 1, '⭐': 1, 'lỗiqui': 1, 'mớihiện': 1, 'essay': 1, 'lịchtốc': 1, 'gíac': 1, 'thoại+nhưng': 1, 'nỏ': 1, 'phimchụp': 1, 'toilet': 1, 'tám': 1, '“xinh': 1, 'rẻ”': 1, 'studio': 1, 'tiki+điều': 1, 'tâm+về': 1, 'thuật+': 1, 'tiếc+mình': 1, 'tốt+wx': 1, 'lo+máy': 1, 'hơn+máy': 1, 'scn': 1, 's+': 1, 'lên+bạn': 1, 'httpswwwflickrcomphotostranngockhoa': 1, '+vì': 1, 'nha++ngoài': 1, 'quốc+chất': 1, 'biết+giá': 1, 'tiện+tiki': 1, '+với': 1, 'camera+lâu': 1, 'đêmnhưng': 1, 'nhanhok': 1, 'nhắm': 1, 'confuse': 1, 'human': 1, 'detection': 1, '+cài': 1, '+hướng': 1, 'khôngkiti': 1, 'rõnhìn': 1, 'imax': 1, 'tiki+hy': 1, 'pin+nếu': 1, 'cvien': 1, 'chắnhàng': 1, 'càngnhân': 1, 'vên': 1, 'nhật': 1, 'quấ': 1, 'chiết': 1, 'detail': 1, 'mẫuchất': 1, 'ảnh+cực': 1, 'giá+có': 1, 'năng+phù': 1, 'bán+chỉ': 1, 'sất': 1, 'tốtchúc': 1, 'chắcmới': 1, 'chắccoa': 1, 'stm': 1, 'lenkit': 1, 'okhàng': 1, 'blu': 1, 'đẹpnhưng': 1, 'gốc+mình': 1, 'great': 1, 'ngonkhông': 1, 'cả+mình': 1, 'thôi+thời': 1, 'giao+chất': 1, 'biết+tiki': 1, 'kiếncám': 1, 'hình+điểm': 1, 'hơn+luôn': 1, '+gói': 1, 'nét+máy': 1, 'hình+nói': 1, 'nhanh+tuy': 1, 'nhanhbao': 1, 'nhanh+nhận': 1, 'đủsớm': 1, 'ảnhnhưng': 1, 'đựt': 1, 'hình+chất': 1, 'bảo+tốt+tôi': 1, 'phẩm+tôi': 1, 'gì+mẫu': 1, 'nhen': 1, 'đẹpchắc': 1, 'chắnsản': 1, 'nhẹdễ': 1, 'chuyểnremote': 1, 'thận+bạn': 1, 'nhiệm+sản': 1, '❤️': 1, 'theo+điểm': 1, 'sách+giá': 1, 'quá+mà': 1, 'định+phù': 1, 'đẹpchất': 1, 'vpz': 1, 'đẹpdùng': 1, 'tốtchất': 1, 'thàn': 1, 'đủtuy': 1, 'thứcwifi': 1, 'đội': 1, 'bủm': 1, 'tốtthân': 1, 'cứngcác': 1, 'nàonhìn': 1, 'vậyvì': 1, 'hãnggiáo': 1, 'anhten': 1, 'khẩu+lắp': 1, 'dàng+tuy': 1, 'lại+không': 1, 'tý+giao': 1, 'cụt': 1, 'thận++giao': 1, 'hàngcamera': 1, 'giárất': 1, 'lòngchất': 1, 'đợikiểm': 1, 'quầnáo': 1, 'wasabi': 1, 'longde': 1, '+cám': 1, 'lòngđóng': 1, 'tốtẩm': 1, 'tiến': 1, 'tằm': 1, '😒😒': 1, '“em': 1, 'nữa”': 1, 'đâuảnh': 1, 'thêmnhưng': 1, 'feeling': 1, 'tý+nhưng': 1, '👌👌👌+tôn': 1, '😊😊😊😊+×××': 1, '×××+ớ': 1, '😜😜😜+bữa': 1, 'nó+hì': 1, '😊😊😊😊': 1, '+tính': 1, 'nhạy+bắt': 1, 'lònghình': 1, 'tốtdành': 1, 'gọnnhẹtiện': 1, 'tra+mình': 1, 'thậnthẻ': 1, 'xz': 1, 'cáp+những': 1, 'phẩm+đế': 1, 'bình+sản': 1, 'show': 1, 'tặng+body': 1, 'philipines+cảm': 1, 'compact': 1, 'vị+kích': 1, 'phục+sản': 1, 'tốt+nhan': 1, 'tiệp': 1, 'nhanhđồng': 1, 'hình+khay': 1, 'hìnhchất': 1, 'jcb': 1, 'luọng': 1, 'đẹp+hướng': 1, 'mạng+khá': 1, 'xịn+mình': 1, 'kĩmình': 1, 'guide': 1, 'mình+có': 1, 'thận+sản': 1, 'nhanh+hàng': 1, 'ok+chất': 1, 'nhật+đóng': 1, 'đủ+máy': 1, 'nayf': 1, 'túy': 1, 'came': 1, 'tìnhhộp': 1, 'bêm': 1, 'nhanhsử': 1, 'nhanhdường': 1, 'nàocó': 1, 'lâu+chứ': 1, 'lành+giá': 1, 'lâuhàng': 1, 'sihper': 1, 'tiềncám': 1, '🤦\\u200d♀️': 1, 'pek': 1, 'mrl': 1, 'định+công': 1, 'tình+đánh': 1, 'đăngcảm': 1, 'sẻn': 1, 'mòng': 1, 'rằg': 1, 'đụơc': 1, 'nhanhđúng': 1, 'ghế': 1, 'massage': 1, 'đằng': 1, 'gối': 1, 'ghẻ': 1, 'gje': 1, 'toạ': 1, 'nhiềutốc': 1, 'ràngchờ': 1, 'tạm+tủ': 1, 'giáđóng': 1, 'thậnnhân': 1, 'oknhanh': 1, 'oin': 1, 'gìtiếc': 1, 'dụngxc': 1, 'vòng': 1, 'hơn+lúc': 1, 'nhanh+đang': 1, 'được+ngon+nhưng': 1, 'amplifier': 1, 'khôngol': 1, 'ổnhi': 1, 'bán+cáp': 1, 'saohàng': 1, 'timeout': 1, 'bền+tuy': 1, 'phẩm+giá': 1, 'chóng+tin': 1, 'wmbs+k': 1, 'duyệt+ngang': 1, 'thận+hiện': 1, 'hat': 1, 'thoạihoai': 1, 'xoắn': 1, 'firmware+tiki': 1, 'ngắnnên': 1, 'cập++nếu': 1, 'mấtgián': 1, 'nối++dùng': 1, 'dongle': 1, 'mằn': 1, 'ise': 1, 'yootv': 1, '“è': 1, 'è”': 1, 'khổi': 1, 'thận+chưa': 1, 'ginbal': 1, 'úng': 1, 'tôttôi': 1, 'đôí': 1, 'nghiệmpin': 1, 'ổn+tuy': 1, 'thận+mình': 1, 'tikia': 1, 'chata': 1, 'lywowngj': 1, 'đanha': 1, 'eneloop': 1, 'quốc+shop': 1, 'truyển': 1, 'yênnhưng': 1, 'hànghàng': 1, 'tảưng': 1, 'nhanhvẫn': 1, 'thai': 1, 'ok+nhưng': 1, 'nấy': 1, 'phếtpin': 1, 'quéo': 1, 'chc': 1, 'hêm': 1, 'gymban': 1, 'anker+tuy': 1, 'ra+phần': 1, 'hh': 1, 'điện++còn': 1, 'khe+': 1, 'dài+tuy': 1, 'sắn': 1, 'ảnhgiá': 1, 'piết': 1, 'gì+giao': 1, 'dark': 1, 'tốt+không': 1, 'okey': 1, 'tốtnhân': 1, 'nhẹnsản': 1, 'eco': 1, 'đấy+tuy': 1, 'xu+giao': 1, 'phút+có': 1, 'haybass': 1, 'trầmnói': 1, 'nămxài': 1, 'ôkshiper': 1, 'ý+film': 1, 'nhẹ+các': 1, 'đẹpsetup': 1, 'thôi+điểm': 1, '+thời': 1, 'ambient': 1, 'sound': 1, 'mastel': 1, 'chình': 1, 'tres': 1, 'bún': 1, 'ơm': 1, 'lệch+bên': 1, 'indoor': 1, 'w+tiki': 1, 'cắn': 1, 'chừng+có': 1, 'hồn+tuy': 1, 'xạc': 1, 'tốt++ảnh': 1, 'handmade': 1, 'food': 1, 'anhchịem': 1, 'shots': 1, 'saigon': 1, 'màuchạy': 1, 'điện+đã': 1, 'khôngvà': 1, 'định+nhược': 1, 'chế+phù': 1, 'dwg': 1, 'dụng++tuy': 1, 'công+nhiều': 1, 'réc': 1, 'mjsản': 1, 'xuấtjcm': 1, 'yooshee': 1, 'kháng': 1, 'history': 1, 'đình': 1, 'lúp': 1, 'hỏi+mình': 1, 'nét+sản': 1, 'kèm+phải': 1, 'tốtrất': 1, 'néttiếc': 1, 'đna': 1, 'nghiệp+mình': 1, 'tác+chơi': 1, 'tạm+nhưng': 1, 'nhưngx': 1, 'gif': 1, 'hịn': 1, 'anroid': 1, 'giữ+cam': 1, 'căng+dễ': 1, 'khởm': 1, 'khoeps': 1, 'movie': 1, 'ngày++httpswwwflickrcomphotosnindatepostedpublic+đấy': 1, 'chụp+thực': 1, 'phait': 1, 'pmm': 1, 'aqua': 1, 'giấyđánh': 1, 'đêm+nếu': 1, 'dụngxài': 1, 'nặnglần': 1, 'tệ+có': 1, 'được+động': 1, 'bot': 1, 'hòang': 1, 'tầng+bằng': 1, 'gộp': 1, 'bĩnh': 1, 'thừa++chê': 1, 'lý👍': 1, 'xiaoxiaomi': 1, 'kểnh': 1, 'trasnmit': 1, 'buffalo': 1, 'qualcomm': 1, 'atheros': 1, 'asushp': 1, 'meidatek': 1, 'mmf': 1, 'đượclớn': 1, 'ùk': 1, 'rõpass': 1, 'ăm': 1, 'hàngsản': 1, 'giancảm': 1, 'hợptiki': 1, 'thếu': 1, 'khôngyên': 1, 'chuộttiki': 1, 'hdsd': 1, 'mogìave': 1, 'gb+': 1, 'hack': 1, 'nănggiá': 1, 'soho': 1, 'mbs+': 1, 'nắp+cảm': 1, 'tiki+lâm': 1, 'validate': 1, 'cới': 1, 'silk': 1, 'khôngđáng': 1, 'fbthì': 1, 'tốt+hàng': 1, 'thận+thời': 1, 'ngứa': 1, 'batteries': 1, 'feb': 1, '“chuột': 1, 'laze': 1, 'trọng+': 1, 'roll': 1, 'nhénói': 1, 'checkcoverage': 1, 'rt': 1, 'packets': 1, 'ingìection': 1, 'sudo': 1, 'apt': 1, 'firmquáre': 1, 'ralink': 1, 'kernel': 1, 'wlan': 1, 'interface': 1, 'lsusb': 1, 'wfh': 1, 'sefie': 1, 'makes': 1, 'clicking': 1, 'handle': 1, 'colour': 1, 'worth': 1, 'save': 1, 'khôngthấy': 1, 'nghiệp+': 1, 'nhât': 1, 'khôngđucợ': 1, 'sui': 1, 'nama': 1, 'world': 1, 'miro': 1, 'khôngphải': 1, 'khôngđược': 1, 'hànggiao': 1, 'steam': 1, 'lmao': 1, 'ôke': 1, 'vạy': 1, 'khôngthất': 1, 'vượng': 1, 'đimình': 1, 'ápkhi': 1, 'lòngkhông': 1, 'remix': 1, 'accoutics': 1, 'àcòn': 1, 'quáđang': 1, 'nèrất': 1, 'khôngphí': 1, 'khôngchống': 1, 'powerbeats': 1, 'seriel': 1, 'buê': 1, 'đuê': 1, 'vòm': 1, 'phimgamethích': 1, 'nhẹphù': 1, 'assistant': 1, 'khôngdàn': 1, 'nfhe': 1, 'khôngnghe': 1, 'khôngquá': 1, 'enchanced': 1, 'gìvgì': 1, 'khôngthể': 1, 'ko': 1, 'ấmkhông': 1, 'electric': 1, 'sỹthì': 1, 'khôngbk': 1, 'khôngnhưg': 1, 'mod': 1, 'khônglắc': 1, 'khônghề': 1, 'rớtsử': 1, 'khôngbị': 1, 'dgì': 1, 'hơnmình': 1, 'gìbl': 1, 'gìblt': 1, 'splus': 1, 'tuyêt': 1, 'cóthiết': 1, 'đẹpnhiều': 1, 'gnhất': 1, 'mahnhỏ': 1, 'gọnxài': 1, 'lagtự': 1, 'nốibảo': 1, 'hộpnói': 1, 'muahội': 1, 'tôchất': 1, 'lượnggiá': 1, 'rẻgiao': 1, 'nhanhdịch': 1, 'loét': 1, 'bế': 1, 'combat': 1, 'quátch': 1, 'described': 1, 'picture': 1, 'aww': 1, 'bgiữ': 1, 'bbấm': 1, 'bkết': 1, 'bakv': 1, 'oklần': 1, 'khôngsợ': 1, 'khônggây': 1, 'tiênga': 1, 'kinston': 1, 'ngầu': 1, 'khiếp': 1, 'đắn': 1, 'khẩu': 1, 'ánh': 1, 'cường': 1, 'khôngcheck': 1, 'lự': 1, 'ud': 1, 'energy': 1, 'vvv': 1, 'lòng+kiểu': 1, 'medium': 1, 'lắm+vậy': 1, 'dụng+hàng': 1, 'hết+cảm': 1, 'okủng': 1, 'transfer': 1, 'đimạng': 1, 'nhím': 1, 'sướngbảo': 1, 'thángk': 1, 'khôngđánh': 1, 'ị': 1, 'tiking': 1, 'trandinh': 1, 'bằngsữa': 1, 'chiclet': 1, 'đệp': 1, 'khôngnhư': 1, 'khôngcần': 1, 'địnhgiao': 1, 'nàytuyệt': 1, 'êmrất': 1, 'tốtmỗi': 1, 'lưỡng': 1, 'màng': 1, 'bóng': 1, 'đựng': 1, 'rẽ': 1, 'duyệt': 1, 'otp': 1, 'mìnhnên': 1, 'refer': 1, 'okphím': 1, 'nhẹđộ': 1, 'qúa': 1, 'gọt': 1, 'phím+phần': 1, 'lắm+phím': 1, 'quyến': 1, 'rũ+nhãn': 1, 'ràngbàn': 1, 'thết': 1, 'nhẹphím': 1, 'dụngrất': 1, 'ipchủ': 1, 'hàngcó': 1, '“bạn”': 1, 'khôngrõ': 1, 'cùn': 1, 'pu': 1, 'bùng': 1, 'ballchủ': 1, 'hàngcũng': 1, 'hâu': 1, 'bùm': 1, 'khôngấm': 1, 'electro': 1, 'bigroom': 1, 'khôngthở': 1, 'khôngđứt': 1, 'đãnghe': 1, 'deepbass': 1, 'kakaka': 1, 'tồ': 1, 'đượcquá': 1, 'địnhchỗ': 1, 'thuớc': 1, 'bạc': 1, 'hồng': 1, 'khôngmịn': 1, 'xải': 1, 'khôngto': 1, 'khôngchưa': 1, 'xanhnhờ': 1, 'thichgiao': 1, 'tâmđiện': 1, 'khôngbik': 1, 'bềnchất': 1, 'nhai': 1, 'bmiu': 1, 'kmb': 1, 'kgb+tiết': 1, 'tháng+sử': 1, 'nam+chia': 1, 'độngipad': 1, 'khôngshopphần': 1, 'cốp': 1, 'sóng+nhìn': 1, 'làng': 1, 'khôngxác': 1, 'tốt+mình': 1, 'khônggiảm': 1, 'routor': 1, 'vietnammoblie': 1, 'animal': 1, 'bẩy': 1, 'giát': 1, 'luônnét': 1, 'đềukhông': 1, 'hànghay': 1, 'hàngthấy': 1, 'viét': 1, 'bih': 1, 'hàngmini': 1, 'zoomnotes': 1, 'onenote': 1, 'đóngmở': 1, 'khôngcắm': 1, 'rset': 1, 'sâng': 1, 'dùngahihi': 1, 'khôngvậy': 1, 'khônglo': 1, 'dolby': 1, 'phuts': 1, 'vq': 1, 'hàngnày': 1, 'khôngđau': 1, 'ịphone': 1, 'fancy': 1, 'khôngbt': 1, 'dùngthiết': 1, 'ừii': 1, 'thắ': 1, 'khôngthích': 1, 'khônglọc': 1, 'thanhđi': 1, 'oksạc': 1, 'pincốc': 1, 'asustp': 1, 'khôngđể': 1, 'được+thiết': 1, 'được+mỗi': 1, 'ít+nhân': 1, 'tình+đóng': 1, 'sẽ+sản': 1, 'tayrất': 1, 'lazer': 1, 'khôngkhó': 1, 'multi': 1, 'hàngvà': 1, 'ok+về': 1, 'trình+điều': 1, 'arc': 1, 'rhuwr': 1, 'tênh': 1, 'khôngbiêt': 1, 'smai': 1, 'khôngthik': 1, 'nhèm': 1, 'alphat': 1, 'legends': 1, 'shophàng': 1, 'muacòn': 1, 'lượngtóm': 1, 'trd': 1, 'hàngđiện': 1, 'thậnpin': 1, 'phẩmthẻ': 1, 'sd': 1, 'aripods': 1, 'hãngtôi': 1, 'smphone': 1, 'mih': 1, 'vè': 1, 'privacy': 1, 'assistive': 1, 'rd': 1, 'label': 1, 'clicklike': 1, 'wow': 1, 'rồngg': 1, 'khôngđòi': 1, 'roài': 1, 'khôngbằng': 1, 'gìawcs': 1, 'khôngqtvminh': 1, 'cápchuyển': 1, 'geaviệt': 1, 'assassin': 1, 'professional': 1, 'thòiwgian': 1, 'phé': 1, 'trúng': 1, 'bước': 1, 'ngủ': 1, 'lẽ': 1, 'kỷ': 1, 'pinsử': 1, 'mẽtai': 1, 'ches': 1, 'lofi': 1, 'chillhop': 1, 'gìazz': 1, 'giánhờ': 1, 'okkhôngnên': 1, 'dakhi': 1, 'piston': 1, 'kuong': 1, 'nức': 1, 'american': 1, 'lượn': 1, 'oksẽ': 1, 'mieng': 1, 'lot': 1, 'ổnphát': 1, 'rộngổn': 1, 'địnhhợp': 1, 'giánc': 1, 'lâu+chuột': 1, 'tốt+chuột': 1, 'nữ+dù': 1, 'chuột+đặc': 1, 'tưm': 1, 'mớinhưng': 1, 'tâmgiao': 1, 'trungnghe': 1, 'lagihightech': 1, 'khônggặp': 1, 'logilech': 1, 'developer': 1, 'quadbeat': 1, 'ngonn': 1, 'máii': 1, 'bbảo': 1, 'vỉut': 1, 'khôngbàn': 1, 'ver': 1, 'okieđóng': 1, 'chắnfull': 1, 'khônghay': 1, 'tiềntiki': 1, 'pisen': 1, 'nhanhhình': 1, 'vưa': 1, 'thậnphát': 1, 'okhài': 1, 'truòng': 1, 'huyện': 1, 'gõi': 1, 'shops': 1, 'khiền': 1, 'dot': 1, 'hddssd': 1, 'tuyet': 1, 'khôngnhanh': 1, 'tốtkhôngsợ': 1, 'khôngriêng': 1, 'truowcs': 1, 'khônglỗi': 1, 'lýđóng': 1, 'nè': 1, 'khôngchuyên': 1, 'bời': 1, 'tranng': 1, 'nxet': 1, 'xứng': 1, 'khôngvấn': 1, 'liêu': 1, 'tướng': 1, 'tiiefn': 1, 'khôngcấn': 1, 'tốtcơ': 1, 'tốtkhá': 1, 'bànthêm': 1, 'xảyngon': 1, 'chựa': 1, 'kaios': 1, 'vờiđóng': 1, 'khôngdây': 1, 'lượngg': 1, 'tuyêygì': 1, 'bstrinhgmailcom': 1, 'tôta': 1, 'chêch': 1, 'hq': 1, 'thoại+hoạt': 1, 'boro': 1, 'uon': 1, 'nhuoc': 1, 'nhat': 1, 'netflix': 1, 'nhạg': 1, 'tuyền': 1, 'phẩmatial': 1, 'chiootgì': 1, 'kkkk': 1, 'moii': 1, 'powerpoint': 1, 'xoa': 1, 'lâuem': 1, 'khônglấy': 1, 'khôngạ': 1, 'kis': 1, 'mhieeu': 1, 'rồidag': 1, 'name': 1, 'amoi': 1, 'tecnology': 1, 'xbom': 1, 'minbảo': 1, 'trinh': 1, 'khônglên': 1, 'tikiviệt': 1, 'zồi': 1, 'chơi': 1, 'chắc': 1, 'chắn': 1, 'tốt': 1, 'khôngăn': 1, 'khôngđi': 1, 'tốtnhạy': 1, 'đủkhá': 1, 'choa': 1, 'hàngơi': 1, 'nhỏmàn': 1, 'nhìnmáy': 1, 'tradinggiao': 1, 'nhanhgiâ': 1, 'dd': 1, 'ược': 1, 'trainding': 1, 'thoái': 1, 'đẹpđơn': 1, 'lắmhộp': 1, 'máychất': 1, 'dùngnmayas': 1, 'hiigì': 1, 'depdong': 1, 'thancam': 1, 'thưng': 1, 'chuân': 1, 'auth': 1, 'global': 1, 'hànggiá': 1, 'rẻrất': 1, 'chuần': 1, 'chinhe': 1, 'chuật': 1, 'mái+tiki': 1, 'khôngphát': 1, 'khônglớn': 1, 'khôngxi': 1, 'khôngkêu': 1, 'khôngthay': 1, 'bềnmình': 1, 'dota': 1, 'oy': 1, 'koo': 1, 'khôngsáng': 1, 'khôngmượt': 1, 'hau': 1, 'thanhcon': 1, 'giua': 1, 'abcxyzhasghagshkgìáhklagìsklagìskagìskagìslkagìsd': 1, 'chắnđầm': 1, 'khôngêm': 1, 'mướt': 1, 'customized': 1, 'ắng': 1, 'phom': 1, 'hãnghàng': 1, 'inhân': 1, 'viênisible': 1, 'clik': 1, 'phẩmidey': 1, 'đàn': 1, 'khôngra': 1, 'hihe': 1, 'sót': 1, 'khôngồn': 1, 'tikimomo': 1, 'lướt': 1, 'êmchờ': 1, 'khôngchê': 1, 'khôngclick': 1, 'dùngtôi': 1, 'tịch': 1, 'cùa': 1, 'thon': 1, 'oketuy': 1, 'okeee': 1, 'tiệntuy': 1, 'khôngồn': 1, 'khôngmỏi': 1, 'khâch': 1, 'chiến': 1, 'đág': 1, 'khôngtiếng': 1, 'logotech': 1, 'lách': 1, 'trackpchủ': 1, 'hàngnữa': 1, 'downlochủ': 1, 'lase': 1, 'êmnhạytốt': 1, 'caogiá': 1, 'thính': 1, 'hẹ': 1, 'setpoint': 1, 'cựt': 1, 'polling': 1, 'nnhạy': 1, 'forquárd': 1, 'chồng': 1, 'láu': 1, 'nứ': 1, 'rượt': 1, 'khôngcòn': 1, 'blueetooth': 1, 'receive': 1, 'gubềnnhạyvừa': 1, 'magicmouse': 1, 'khôngnhg': 1, 'cilck': 1, 'phẳngcon': 1, 'ái': 1, 'thởi': 1, 'chàng': 1, 'nhạyđẹpchất': 1, 'nhạykhông': 1, 'khôngphát': 1, 'khôngtự': 1, 'noá': 1, 'khs': 1, 'bthg': 1, 'stress': 1, 'khônglàm': 1, 'khôngảnh': 1, 'scrollmiddle': 1, 'ring': 1, 'ngày+hàng': 1, 'dỏm+': 1, 'ros': 1, 'dònh': 1, 'public': 1, 'revived': 1, 'recived': 1, 'nữarất': 1, 'nhạydây': 1, 'dâygiá': 1, 'hếtmình': 1, 'khôngphiền': 1, 'gìdgìfgìsbfkebdhebduebfgìdbskf': 1, 'silen': 1, 'khôngchạy': 1, 'backquárd': 1, 'probook': 1, 'chôm': 1, 'sbshhshshgshsush': 1, 'scrolling': 1, 'luan': 1, 'đêmtrong': 1, 'tốtbấm': 1, 'êmkhông': 1, 'tốtđúng': 1, 'cchủ': 1, 'hàngtuyệt': 1, 'khôngthuận': 1, 'ningìa': 1, 'nằng': 1, 'giá+tiki': 1, 'khôngtốn': 1, 'thìchết': 1, 'cuảtiki': 1, 'sf': 1, 'sdùng': 1, 'gp': 1, 'duracell': 1, 'ngào': 1, 'kĩở': 1, 'temchú': 1, 'tâmchất': 1, 'màcho': 1, 'tĩnh': 1, 'chúng': 1, 'sánh': 1, 'cuộn': 1, 'tạc': 1, 'khôngsao': 1, 'gian+đáng': 1, 'mien': 1, 'bam': 1, 'hẹnhàng': 1, 'thửsau': 1, 'biêts': 1, 'likebook': 1, 'mars': 1, 'tocầm': 1, 'qua++có': 1, 'khôngthua': 1, 'earpud': 1, 'tắp': 1, 'khôngpin': 1, 'receivie': 1, 'khổng': 1, 'lồ': 1, 'toẹt': 1, 'fddđược': 1, 'hsản': 1, 'phẩmagsm': 1, 'khôngcho': 1, 'vái': 1, 'mềnh': 1, 'đômáy': 1, 'gìkhôngshop': 1, 'khônghả': 1, 'buon': 1, 'khôngtương': 1, 'khôngđến': 1, 'khôngnhững': 1, 'xuong': 1, 'vồ': 1, 'bestchoice': 1, 'chụt': 1, 'productivity': 1, 'tddđ': 1, 'khôngnhạy': 1, 'banco': 1, 'hànglieen': 1, 'thẻtrả': 1, 'idevide': 1, 'khôngghi': 1, 'vớimart': 1, 'contract': 1, 'khôngcóp': 1, 'khôngbám': 1, 'nhanh…': 1, 'mtv': 1, 'ipc': 1, 'ðịa': 1, 'tdp': 1, 'lựợng': 1, 'phẩmchỉ': 1, 'treple': 1, 'thâyd': 1, 'nàyloa': 1, 'blootus': 1, 'xèng': 1, 'hànglà': 1, 'gọntiện': 1, 'lịchkhôngchiếm': 1, 'điệnsạc': 1, '，mà': 1, 'notebook': 1, 'nhiếc': 1, 'tẩu': 1, 'hê': 1, 'lẹtrong': 1, 'lùng': 1, 'khônghỗ': 1, 'cưt': 1, 'apply': 1, 'taiquán': 1, 'lượng++thích': 1, 'sharing': 1, 'lag++hài': 1, 'lượnh': 1, 'shopđã': 1, 'pulse': 1, 'phuọt': 1, 'khôngtiện': 1, 'khônghợp': 1, 'trekking': 1, 'bộn': 1, 'khôngthực': 1, 'qwq': 1, 'lóng': 1, 'ngóng': 1, 'khôngnhận': 1, 'bạncảm': 1, 'bốmua': 1, 'storegìet': 1, 'hộppnhựa': 1, 'đẫ': 1, 'thửtốc': 1, 'đợiđộ': 1, 'màncho': 1, 'xế': 1, 'vớiản': 1, 'mlaysia': 1, 'nhausử': 1, 'quáaa': 1, 'lươngk': 1, 'nguyenhân': 1, 'viênustore': 1, 'đủ+muốn': 1, 'phí+': 1, 'lochủ': 1, 'hàngfile': 1, 'chắnkhi': 1, 'khaonrg': 1, 'gìgọi': 1, 'blah': 1, 'cống': 1, 'mớinhấn': 1, 'vởi': 1, 'hànhtốc': 1, 'ngol': 1, 'sạchnhân': 1, 'bkavgiao': 1, 'lòngnhưng': 1, 'xô': 1, 'telecome': 1, 'đtháng': 1, 'gìgiao': 1, 'nhiề': 1, 'pavillion': 1, 'nàybấm': 1, 'muasản': 1, 'giốg': 1, 'hìhgiao': 1, 'vou': 1, 'khôngco': 1, 'thấy+': 1, 'chuột+': 1, 'nhanhmáy': 1, 'egìect': 1, 'khônggiống': 1, 'okmua': 1, 'bgìo': 1, 'chếch': 1, 'nhéok': 1, 'nhanhcài': 1, 'pggì': 1, 'ýsẽ': 1, 'benghihi': 1, 'khônghết': 1, 'icheck': 1, 'đẹpcòn': 1, 'hàngoke': 1, 'rồichỉ': 1, 'tikivới': 1, 'rồigiờ': 1, 'hẹnđóng': 1, 'airplane': 1, 'tôtthank': 1, 'nịn': 1, 'đươcn': 1, 'gọnkiểm': 1, 'much': 1, 'oknhờ': 1, 'khôngmua': 1, 'thêm+': 1, 'thanhhifi': 1, 'nhanhsẽ': 1, 'thiệnphải': 1, 'dàihàng': 1, 'đủtem': 1, 'luôncảm': 1, 'tikichưa': 1, 'hàngnguyên': 1, 'khôngtrâu': 1, 'khôngđẹp': 1, 'chiềuđóng': 1, 'đượctrong': 1, 'đợisẽ': 1, 'miệu': 1, 'lòngsẽ': 1, 'vọnghộp': 1, 'tainghe': 1, 'lựcmình': 1, 'tuầnmọi': 1, 'trunghe': 1, 'khôngnữa': 1, 'cacton': 1, 'soundpeat': 1, 'dùnggì': 1, 'pana': 1, 'samssung': 1, 'logtech': 1, 'logittech': 1, 'ctr': 1, 'vcl': 1, 'đóm': 1, 'việcchơi': 1, 'quẩy': 1, 'khôngbít': 1, 'khôngmuốn': 1, 'khôngsẽ': 1, 'tweet': 1, 'mxh': 1, 'hàngos': 1, 'century': 1, 'sead': 1, 'cápnghe': 1, 'muộnnhưng': 1, 'lắmthẻ': 1, 'meida': 1, 'sgm': 1, 'dlsr': 1, 'lúcnhân': 1, 'khôngthì': 1, 'notehot': 1, 'lượgn': 1, 'chưua': 1, 'khồng': 1, 'múthộp': 1, 'khôngchắc': 1, 'hàngvì': 1, 'chóngvui': 1, 'đẹpxài': 1, 'tốttừ': 1, 'tiếtnên': 1, 'nhứ': 1, 'ýcảm': 1, 'òi': 1, 'gioa': 1, 'hàngthấy': 1, 'ổncheck': 1, 'mẽo': 1, 'phỉa': 1, 'hàngquá': 1, 'êmin': 1, 'pasản': 1, 'boom': 1, 'đặg': 1, 'ryren': 1, 'ipadshop': 1, 'twilight': 1, 'imeil': 1, 'miwsi': 1, 'ké': 1, 'base': 1, 'khôngtốt': 1, 'nhécảm': 1, 'eartips': 1, 'edit': 1, 'htrc': 1, 'hsau': 1, 'viênien': 1, 'freesync': 1, 'xắt': 1, 'xtrabass': 1, 'shippper': 1, 'heng': 1, 'hpwn': 1, 'khôngbọc': 1, 'rapid': 1, 'tốtcheck': 1, 'hãngsài': 1, 'thẫm': 1, 'httpsyoutubegìxdorfsgkm': 1, 'hơpk': 1, 'sterio': 1, 'mono': 1, 'cứngmà': 1, 'soundpeats': 1, 'gìoy': 1, 'datatravel': 1, 'cluong': 1, 'techmoreviệt': 1, 'dơn': 1, 'xếpcho': 1, 'tốtreads': 1, 'inter': 1, 'thừ': 1, 'đưta': 1, 'qtqd': 1, 'hàiofng': 1, 'xót': 1, 'bể': 1, 'đặtsóng': 1, 'địnhnhưng': 1, 'khôngbảo': 1, 'anyquáy': 1, 'khôngnguyên': 1, 'dụng+giao': 1, 'chóng+': 1, 'httpssupportwđượccomknowledgebaseanswerasản': 1, 'phẩmxhpid': 1, 'hầng': 1, 'hànghơi': 1, 'delivered': 1, 'included': 1, 'screws': 1, 'screwdriver': 1, 'cargo': 1, 'phẩmecifications': 1, 'posted': 1, 'đển': 1, 'hhii': 1, 'nganh': 1, 'khôngtỳ': 1, 'khôngkhớp': 1, 'sưu': 1, 'banther': 1, 'sealbox': 1, 'khôngtìm': 1, 'khôngsứt': 1, 'đẹpđóng': 1, 'oksản': 1, 'lượngđuoc': 1, 'hàngk': 1, 'young': 1, 'đẹpcầm': 1, 'eb': 1, 'xíunút': 1, 'đẹpnhìu': 1, 'tiệncòn': 1, 'bítmới': 1, 'gò': 1, 'khôngchơi': 1, 'hrs': 1, 'disco': 1, 'truất': 1, 'khôngvừa': 1, 'âmbass': 1, 'khôngchói': 1, 'loá': 1, 'hàngtrên': 1, 'kx': 1, 'tgf': 1, 'chấtngon': 1, 'rẻgiá': 1, 'thấpsinh': 1, 'triêu': 1, 'ntin': 1, 'khôngsạc': 1, 'khỏecamera': 1, 'thòthụt': 1, 'haygọi': 1, 'lắmlướt': 1, 'nhanhtiki': 1, 'đógiá': 1, 'rnhu': 1, 'khoảnh': 1, 'nhạyrất': 1, 'lbans': 1, 'thk': 1, 'forme': 1, 'seap': 1, 'khôngkèm': 1, 'khôngthêm': 1, 'thìtôi': 1, 'phen': 1, 'muachup': 1, 'mươt': 1, 'iring': 1, 'hàngmắc': 1, 'tiec': 1, 'nhetac': 1, 'thoinoi': 1, 'duoccam': 1, 'vilber': 1, 'đợicòn': 1, 'mợi': 1, 'totam': 1, 'rodo': 1, 'duocnoi': 1, 'tiencho': 1, 'wikhôngview': 1, 'crack': 1, 'hehebố': 1, 'hợi': 1, 'vcltai': 1, 'chuẩnnghĩ': 1, 'hayai': 1, 'phia': 1, 'rựa': 1, 'lập': 1, 'chợ': 1, 'tật': 1, 'ức': 1, 'đặtsử': 1, 'desk': 1, 'sdp': 1, 'nhanhnhận': 1, 'khônggian': 1, 'gượng': 1, 'atmos': 1, 'hàngnên': 1, 'wikipedia': 1, 'vocabulary': 1, 'builder': 1, 'internet+đánh': 1, 'hiazmình': 1, 'chúthộp': 1, 'khôngquen': 1, 'đơk': 1, 'khôngổn': 1, 'rănghighly': 1, 'recomemmend': 1, 'nhachất': 1, 'chăngnên': 1, 'donethẻ': 1, 'extrass': 1, 'featured': 1, 'chuyeen': 1, 'tuoiir': 1, 'rồixịn': 1, 'hii': 1, 'linghning': 1, 'ốn': 1, 'bluan': 1, 'lượngcám': 1, 'trepp': 1, 'sealkiểm': 1, 'hihicon': 1, 'cưcgì': 1, 'nguyênmang': 1, 'khônghở': 1, 'thândúng': 1, 'thậngiao': 1, 'nhanhtốt': 1, 'thậntốt': 1, 'khấu': 1, 'winpro': 1, 'thậndây': 1, 'hìnhnhân': 1, 'thậnnhiệt': 1, 'chắncó': 1, 'sealtrước': 1, 'chắngiao': 1, 'hằn': 1, 'chuẩntai': 1, 'logitich': 1, 'chĩ': 1, 'lưởng': 1, 'lượngquá': 1, 'luônng': 1, 'tlhàngf': 1, 'đẹpgiao': 1, 'biếtmua': 1, 'hotro': 1, 'codec': 1, 'pầm': 1, 'khôngxài': 1, 'kĩđiện': 1, 'likeeeeeeeeeeeeeeeeeeee': 1, 'khôngdán': 1, 'etc': 1, 'quạu': 1, 'ks': 1, 'kỷhàng': 1, 'khôngđã': 1, 'chuộ': 1, 'gàngtai': 1, 'vờirất': 1, 'gìmỗi': 1, 'sdhc': 1, 'thnks': 1, 'adg': 1, 'đày': 1, 'kichs': 1, 'tốtđóng': 1, 'nhẽo': 1, 'cáng': 1, 'ngòai': 1, 'siêng': 1, 'iquátch': 1, 'gìv': 1, 'funboox': 1, 'oln': 1, 'khôngthấm': 1, 'khôngmini': 1, 'bộthông': 1, 'hàngvideo': 1, 'hechủ': 1, 'hàngnè': 1, 'ctốc': 1, 'đúg': 1, 'phàng': 1, 'sachvui': 1, 'viênertioco': 1, 'đuện': 1, 'aaaaaaaaaaaaaaaaaaaaaaa': 1, 'vđ': 1, 'nhiêumà': 1, 'kang': 1, 'soo': 1, 'giết': 1, 'xíu+tiki': 1, 'rơt': 1, 'ổntiki': 1, 'ngongiá': 1, 'địnhnhỏ': 1, 'gọnđẹprẻ': 1, 'oktiếng': 1, 'khôngtruyền': 1, 'rechủ': 1, 'hàngmbs': 1, 'đượctuy': 1, 'zen': 1, 'raphải': 1, 'hàngsamsung': 1, 'yateleyan': 1, 'shopđóng': 1, 'bển': 1, 'hàngứng': 1, 'hànhok': 1, 'thưở': 1, 'hay+': 1, 'tai+': 1, 'fias': 1, 'lost': 1, 'rìu': 1, 'lắmchuột': 1, 'tưởi': 1, 'ngáy': 1, 'organ': 1, 'fxsound': 1, 'enhancer': 1, 'lòngmáy': 1, 'ới': 1, 'dủng': 1, 'gìan': 1, 'winhotechviệt': 1, 'kêi': 1, 'tyd': 1, 'shit': 1, 'mount': 1, 'gameming': 1, 'khôngtệ': 1, 'đặtok': 1, 'mieu': 1, 'tảđánh': 1, 'xpm': 1, 'sống': 1, 'rối': 1, 'techolory': 1, 'khôngcon': 1, 'luôn+bạn': 1, 'hxfc': 1, 'nhma': 1, 'nhakhi': 1, 'okgiá': 1, 'okk': 1, 'cảo': 1, 'sóngwifi': 1, 'nòi': 1, 'tiefn': 1, 'hàngnhận': 1, 'hiêụ': 1, 'thuạn': 1, 'mạngnói': 1, 'vậychúc': 1, 'phẩmđang': 1, 'khôngdùng': 1, 'lànhgói': 1, 'cuz': 1, 'khônglag': 1, 'coccoc': 1, 'wdsgga': 1, 'lình': 1, 'nhỏok': 1, 'hep': 1, 'độk': 1, 'aptx': 1, 'nhột': 1, 'răm': 1, 'gram': 1, 'quálkman': 1, 'slogan': 1, 'bâme': 1, 'chấy': 1, 'gcam': 1, 'xk': 1, 'khôngsướng': 1, 'regards': 1, 'au': 1, 'vàngnhưng': 1, 'saogiao': 1, 'nhanhvuốt': 1, 'nđiện': 1, 'thoạil': 1, 'ankerviệt': 1, 'namcom': 1, 'cosản': 1, 'dug': 1, 'qcma': 1, 'ank': 1, 'koai': 1, 'chgì': 1, 'hàngcho': 1, 'nhể': 1, 'half': 1, 'xhd': 1, 'hãngcó': 1, 'biếtấn': 1, 'tốtem': 1, 'pm': 1, 'thiéu': 1, 'xom': 1, 'cưc': 1, 'okthiết': 1, 'everything': 1, 'what': 1, 'supposed': 1, 'interesting': 1, 'module': 1, 'khôngkịp': 1, 'đún': 1, 'insản': 1, 'phẩmiron': 1, 'try': 1, 'hard': 1, 'rhythms': 1, 'nịt': 1, 'mỏngrất': 1, 'lọai': 1, 'tạ': 1, 'lýsóng': 1, 'mạnhgiá': 1, 'mạnhviệc': 1, 'nétmọi': 1, 'lợilike': 1, 'vònng': 1, 'tiễn': 1, 'hổp': 1, 'td': 1, 'unifi': 1, 'flip': 1, 'recomend': 1, 'gồm': 1, 'thuế': 1, 'tịm': 1, 'khôngnên': 1, 'kêng': 1, 'nta': 1, 'xứ': 1, 'dừg': 1, 'trương': 1, 'khôngmong': 1, 'kaka': 1, 'lunchất': 1, 'đẹpkhông': 1, 'apfs': 1, 'khônglưu': 1, 'khôngnổi': 1, 'thườngpin': 1, 'xhir': 1, 'redùng': 1, 'rẻchất': 1, 'tiềnủng': 1, 'khôngkì': 1, 'rẻchất': 1, 'phải++mình': 1, 'giản++tiki': 1, 'khôngkén': 1, 'lành': 1, 'cành': 1, 'đào': 1, 'thick': 1, 'hàngapp': 1, 'filter': 1, 'thọi': 1, 'deactive': 1, 'extenal': 1, 'internal': 1, 'automate': 1, 'bl': 1, 'twrp': 1, 'xda': 1, 'fireos': 1, 'ota': 1, 'enable': 1, 'dev': 1, 'thậntks': 1, 'hạnngười': 1, 'tìnhmáy': 1, 'phẩmtai': 1, 'hagf': 1, 'ràngnhân': 1, 'vẻmua': 1, 'thậntại': 1, 'mònh': 1, 'haig': 1, 'nhanhnguyên': 1, 'silmã': 1, 'namarất': 1, 'tuền': 1, 'emxuống': 1, 'chaxunmicom': 1, 'imed': 1, 'thậnchưa': 1, 'kiếnmới': 1, 'luônchất': 1, 'biếtnhanh': 1, 'nhận+bảo': 1, 'òm': 1, 'đặtsáng': 1, 'hànhrất': 1, 'chếthở': 1, 'gọnlại': 1, 'nónghàng': 1, 'tâm+đợt': 1, 'đồngmới': 1, 'êmlâu': 1, 'okchả': 1, 'ổnnói': 1, 'khôngai': 1, 'shopp': 1, 'trìa': 1, 'khôngxoay': 1, 'cáo++rất': 1, 'tịn': 1, 'rãng': 1, 'tạng': 1, 'dẻ': 1, 'vinmart': 1, 'khôngbình': 1, 'kiech': 1, 'amazonkindle': 1, 'khéo': 1, 'léo': 1, 'trấu': 1, 'navi': 1, 'điêkn': 1, 'detico': 1, 'hbao': 1, 'lượngtiki': 1, 'kiếp': 1, 'cúm': 1, 'giổ': 1, 'hùng': 1, 'lani': 1, 'thíchmong': 1, '₫ủ': 1, 'cnhat': 1, 'gất': 1, 'khôngcoa': 1, 'cừa': 1, 'khôngnóng': 1, 'tìnhvote': 1, 'cóhàng': 1, 'máyloa': 1, 'haykhôngthua': 1, 'tayhàng': 1, 'tohàng': 1, 'tikgì': 1, 'square': 1, 'bảnnói': 1, 'khôngmở': 1, 'phẩ': 1, 'chóngđúng': 1, 'chóng+chuột': 1, 'động+nói': 1, '̣v': 1, 'chẩt': 1, 'hànghoặc': 1, 'thuocgì': 1, 'đómg': 1, 'sconf': 1, 'trã': 1, 'lyo': 1, 'đubg': 1, 'acitve': 1, 'khôngnói': 1, 'giờhàng': 1, 'temchưa': 1, 'hoạtkích': 1, 'tốthài': 1, 'khônga': 1, 'anhe': 1, 'gọn+đóng': 1, 'tốt+chất': 1, 'tý+chuột': 1, 'lợi+một': 1, 'timo': 1, 'process': 1, 'vm': 1, 'đongs': 1, 'kiếnkhá': 1, 'chấtnên': 1, 'phẩmnhưng': 1, 'tikit': 1, 'tbáo': 1, 'shippin': 1, 'khôngđủ': 1, 'âmnghe': 1, 'tamgì': 1, 'haif': 1, 'longf': 1, 'phò': 1, 'hưng': 1, 'skin': 1, 'đặt+hàng': 1, 'vờisản': 1, 'hộpđúng': 1, 'mượtrất': 1, 'phẩmcảm': 1, 'địnhrõ': 1, 'rangd': 1, 'maybán': 1, 'elink': 1, 'lẹnhân': 1, 'nhanh+chuột': 1, 'tốt+hoàn': 1, 'thoạihtai': 1, 'thz': 1, 'ủn': 1, 'khôngkhác': 1, 'cdmogìlugìs': 1, 'vớislmart': 1, 'vid': 1, 'xoại': 1, 'khôngxịn': 1, 'khôngtưởng': 1, 'khôngý': 1, 'disc': 1, 'dạt': 1, 'thậnnguyên': 1, 'rats': 1, 'thậnđúng': 1, 'acher': 1, 'ê': 1, 'đôc': 1, 'fon': 1, 'kakakaka': 1, 'sax': 1, 'maf': 1, 'hinhf': 1, 'nhuw': 1, 'khôngnhỉ': 1, 'khôngtrầy': 1, 'họat': 1, 'tả+cám': 1, 'remi': 1, 'fptshop': 1, 'lượm': 1, 'kíp': 1, 'seat': 1, 'nê': 1, 'pải': 1, 'tảtôi': 1, 'đơng': 1, 'nóng+hài': 1, 'gọnnếu': 1, 'được+đóng': 1, 'hộp+sản': 1, 'năng+kiểu': 1, 'notification': 1, 'decom': 1, 'nhanhđiện': 1, 'êmhàng': 1, 'thậncam': 1, 'tikise': 1, 'hãngcầm': 1, 'nhanhmua': 1, 'nhanhnhỏ': 1, 'gọnbắt': 1, 'đựngổ': 1, 'liềnlà': 1, 'nhanhphat': 1, 'nhanhsan': 1, 'hìnhchưa': 1, 'biếtnhìn': 1, 'biếtnhưng': 1, 'nhanhsớm': 1, 'nhanhthân': 1, 'nhanhva': 1, 'nguyênsản': 1, 'gíanhưng': 1, 'hếtmong': 1, 'nhanhwifi': 1, 'địnhhay': 1, 'trướcngày': 1, 'thậnmới': 1, 'trịch': 1, 'saprn': 1, 'khôngvị': 1, 'đónga': 1, 'hàngf': 1, 'liked': 1, 'dze': 1, 'searial': 1, 'giõi': 1, 'airpad': 1, 'nhanhđã': 1, 'ngonnói': 1, 'sắcchỉ': 1, 'nhanhdễ': 1, 'đặtnhân': 1, 'nhanhhàng': 1, 'nhanhhi': 1, 'tikisẽ': 1, 'nhanhtốt': 1, 'nhanhxài': 1, 'hehegìee': 1, 'cr': 1, 'nhâp': 1, 'bàocần': 1, 'bát': 1, 'hì': 1, 'ttbảo': 1, '😊😊': 1, 'gud': 1, 'hàngwin': 1, 'ngàynhưng': 1, 'khôngrành': 1, 'khôngchập': 1, 'vẹncó': 1, 'hoàngnhân': 1, 'tìnhủng': 1, 'vờiđộ': 1, 'lc': 1, 'wi': 1, 'fi': 1, 'hdh': 1, 'ankey': 1, 'rasản': 1, 'phẩmberry': 1, 'cócập': 1, 'giaohàngnhanh': 1, 'sôc': 1, 'okiela': 1, 'đợimáy': 1, 'ửng': 1, 'quânmb': 1, 'sheild': 1, 'phước': 1, 'ordersản': 1, 'kiếnchất': 1, 'hìnhnói': 1, 'zui': 1, 'hàngn': 1, 'tỉeps': 1, 'chuọt': 1, 'hộpđẹp': 1, 'tínchất': 1, 'trâtf': 1, 'đki': 1, 'pubgm': 1, 'trễn': 1, 'eml': 1, 'già': 1, 'shàng': 1, 'wife': 1, 'lẩy': 1, 'ài': 1, 'ggb': 1, 'uplochủ': 1, 'easy': 1, 'điẹp': 1, 'okela': 1, 'nokiasẽ': 1, 'khoẻcho': 1, 'sớmhàng': 1, 'cựcnhưng': 1, 'giaonhanh': 1, 'gío': 1, 'gank': 1, 'loàd': 1, 'khôngmờ': 1, 'hìnhnghe': 1, 'cứngchưa': 1, 'retendacn': 1, 'gôd': 1, 'gìhghbb': 1, 'hhghc': 1, 'hhcffvigdykk': 1, 'gôdđ': 1, 'thíchsẽ': 1, 'gàngnhẹ': 1, 'lợidùng': 1, 'khônglochủ': 1, 'hànglại': 1, 'giáđộ': 1, 'hafg': 1, 'lomhg': 1, 'ạmới': 1, 'nhạyhàng': 1, 'dơtiki': 1, 'nhũng': 1, 'ymau': 1, 'khien': 1, 'viêc': 1, 'namaphù': 1, 'tieu': 1, 'vêv': 1, 'muaokkkkkkkkkkkkk': 1, 'phẩmdùng': 1, 'phẩmlúc': 1, 'phamxung': 1, 'tientiki': 1, 'nhanhcam': 1, 'mườn': 1, 'lòngđiện': 1, 'khôngphù': 1, 'acb': 1, 'lònggiá': 1, 'giáchất': 1, 'lòngrat': 1, 'tốtnhung': 1, 'lòngggggggggggggggggggg': 1, 'lòngggggggggggggggggggggggggggggggggggggggggggggggggggggggggggggggggggggggggggggggg': 1, 'mgìh': 1, 'haiza': 1, 'nỳ': 1, 'choang': 1, 'thát': 1, 'lighitng': 1, 'vờituyệt': 1, 'tốt☺️': 1, 'hànhxài': 1, 'your': 1, 'chaarn': 1, 'shopnhớ': 1, 'đainguyên': 1, 'bảo+mình': 1, 'tốttuyệt': 1, 'qyãng': 1, 'mink': 1, 'windóws': 1, 'lượngmọi': 1, 'trâuthương': 1, 'sechủ': 1, 'qn': 1, 'trườngcảm': 1, 'điẻm': 1, '⭐️⭐️⭐️⭐️⭐️': 1, 'bluetoothchuột': 1, 'tốtd': 1, 'phẩmg': 1, 'sil': 1, 'muận': 1, 'realfake': 1, 'toiigì': 1, 'tảin': 1, 'phôia': 1, 'oksẽ': 1, 'hẹnsẽ': 1, 'xboom': 1, 'thoạicó': 1, 'ug': 1, 'xàu': 1, 'nhàm': 1, 'qos': 1, 'hàngchỉ': 1, 'mbytess': 1, 'dmz': 1, 'hàngđược': 1, 'sear': 1, 'rẻlần': 1, 'oknên': 1, 'xuânmua': 1, 'microsd': 1, 'cameras': 1, 'hero': 1, 'edition': 1, 'samsunggiao': 1, 'tw': 1, 'shozy': 1, 'pl': 1, 'xuat': 1, 'storage': 1, 'nâm': 1, 'sapphire': 1, 'biếtshop': 1, 'earphone': 1, 'rẵng': 1, 'hahha': 1, 'phẩmi': 1, 'rấ': 1, 'nón': 1, 'ningìan': 1, 'snapdragon': 1, 'trep': 1, 'activeeeeeeeeeeeeeeeeeeeeee': 1, 'hói': 1, 'ghóp': 1, 'canceling': 1, 'hãngchất': 1, 'họ': 1, 'chọc': 1, 'hàngchỉ': 1, 'ksm': 1, 'khônglãi': 1, 'nguyêb': 1, 'đữ': 1, 'giãm': 1, 'vib': 1, 'hongkong': 1, 'entry': 1, 'liệunên': 1, 'should': 1, 'buy': 1, 'hãnggiao': 1, 'chinha': 1, 'nhanb': 1, 'khôngmóp': 1, 'hãngloa': 1, 'tophông': 1, 'tonói': 1, 'hợ': 1, 'des': 1, 'cart': 1, 'logotec': 1, 'quệt': 1, 'mềmcực': 1, 'never': 1, 'chuẩnnguyên': 1, 'sealmáy': 1, 'sealmua': 1, 'lớntiki': 1, 'okthoi': 1, 'chuẩnnghe': 1, 'haycảm': 1, 'chuẩnrất': 1, 'tốtcực': 1, 'tốtđánh': 1, 'giátính': 1, 'refurb': 1, 'nẫy': 1, 'aorus': 1, 'oc': 1, 'cas': 1, 'mall': 1, 'cáosẽ': 1, 'khôngsd': 1, 'vưen': 1, 'khôngưng': 1, 'ukie': 1, 'đeẹp': 1, 'okokokokhàng': 1, 'okokokok': 1, 'khônggiao': 1, 'càg': 1, 'nhanhtuyệt': 1, 'khôngtì': 1, 'nhanhhỗ': 1, 'hàngạ': 1, 'nách': 1, 'giảii': 1, 'autocchủ': 1, 'nhanhem': 1, 'xấum': 1, 'recommended': 1, 'nnhanh': 1, 'đẹpnghe': 1, 'êmcám': 1, 'shoptiki': 1, 'cthan': 1, 'đẹptốt': 1, 'đẹpy': 1, 'hìnhgiao': 1, 'tâmmình': 1, 'nhanhcòn': 1, 'đươc+tuy': 1, 'tốtsẽ': 1, 'thậnshiper': 1, 'tìnhcảm': 1, 'tốthỗ': 1, 'tínd': 1, 'temnguyên': 1, 'sichất': 1, 'tháobao': 1, 'chẩn': 1, 'lượngrẻgiao': 1, 'chónghàng': 1, 'sảng': 1, 'đongns': 1, 'seals': 1, 'chiểu': 1, 'tảrepeater': 1, 'hànhđiện': 1, 'okemua': 1, 'xónói': 1, 'gìnên': 1, 'lượngs': 1, 'tỗ': 1, 'nhếch': 1, 'carb': 1, 'thậncảm': 1, 'hàngcũ': 1, 'khôngcao': 1, 'thận++chất': 1, 'offer': 1, 'đượcgì': 1, 'thùngcài': 1, 'dàngvề': 1, 'mựcđặt': 1, 'mớibọc': 1, 'siel': 1, 'kiếnsản': 1, 'đợiquá': 1, 'shoop': 1, 'địnhhy': 1, 'reviewer': 1, 'thậnrất': 1, 'vẻtốt': 1, 'ủnng': 1, 'đâc': 1, 'hìnhđóng': 1, 'khôngxuất': 1, 'namn': 1, 'kong': 1, 'hàngchắc': 1, 'kapersky': 1, 'fing': 1, 'đãgửi': 1, 'hàngluôn': 1, 'gsan': 1, 'vế': 1, 'tróng': 1, 'gìapan': 1, 'gìa': 1, 'khôngchỉ': 1, 'khônghài': 1, 'trụok': 1, 'okekhông': 1, 'thậnđang': 1, 'netcam': 1, 'gữi': 1, 'ônđánh': 1, 'chóngluôn': 1, 'hna': 1, 'serrial': 1, 'kỷloa': 1, 'ấmcó': 1, 'chạnh': 1, 'cungd': 1, 'đượcđầy': 1, 'thiệuvòng': 1, 'biếtnói': 1, 'vẹn': 1, 'mượtcòn': 1, 'khôngchờ': 1, 'chaast': 1, 'mớilo': 1, 'khônghếtgiao': 1, 'màunhưng': 1, 'đêu': 1, 'nàn…mua': 1, 'vlozzz': 1, 'giábass': 1, 'đượcgiá': 1, 'khôngchuẩn': 1, 'scsi': 1, 'nịchrất': 1, 'hacker': 1, 'ngonhơi': 1, 'nặngvừa': 1, 'đượccho': 1, 'khôngphải': 1, 'ngonđủ': 1, 'phònggiao': 1, 'hẹnnhanh': 1, 'ôp': 1, 'ier': 1, 'lànhxài': 1, 'khưi': 1, 'hộpchính': 1, 'hãngtem': 1, 'ghigiao': 1, 'nhanhtrên': 1, 'ổnchống': 1, 'kiệng': 1, 'gở': 1, 'thsbc': 1, 'mãibớt': 1, 'khôngbong': 1, 'antutu': 1, 'ufs': 1, 'digiwold': 1, 'oled': 1, 'hàngcách': 1, 'sealâm': 1, 'rồicực': 1, 'sealgiao': 1, 'sớmđợi': 1, 'mute': 1, 'pausestop': 1, 'chonga': 1, 'verry': 1, 'sealđúng': 1, 'sẵng': 1, 'khônglà': 1, 'giật': 1, 'many': 1, 'earphones': 1, 'aihihi': 1, 'tiéc': 1, 'hãngvote': 1, 'kỉu': 1, 'ltra': 1, 'okdễ': 1, 'vớiaaap': 1, 'bỏi': 1, 'okđúng': 1, 'valentine': 1, 'hàngs': 1, 'tiêpz': 1, 'naocó': 1, 'rõnhưng': 1, 'rồisao': 1, 'akcustomer': 1, 'cáituy': 1, 'hànhgiá': 1, 'totnha': 1, 'tinse': 1, 'tốtkhônghỏng': 1, 'hócmức': 1, 'zem': 1, 'khôngcan': 1, 'cũa': 1, 'lôn': 1, 'olokokok': 1, 'ddùngs': 1, 'kingtons': 1, 'đợilan': 1, 'ạh': 1, 'qct': 1, 'đủgiao': 1, 'đử': 1, 'ddoggì': 1, 'đẹphàng': 1, 'voeis': 1, 'khôngrối': 1, 'suat': 1, 'bx': 1, 'softquáre': 1, 'resident': 1, 'evil': 1, 'remake': 1, 'timi': 1, 'gluck': 1, 'vip': 1, 'trầu': 1, 'tốtbắt': 1, 'mạnhdùng': 1, 'thíchcảm': 1, 'tốtđẹpy': 1, 'giaolàm': 1, 'gàngmẫu': 1, 'mạnhvừa': 1, 'tốthợp': 1, 'tiềncho': 1, 'hỏimình': 1, 'tốtxài': 1, 'ổnâm': 1, 'tốtnếu': 1, 'hơnbass': 1, 'okloa': 1, 'haypin': 1, 'tốtxịnkhông': 1, 'cape': 1, 'hàngmới': 1, 'tốtbọc': 1, 'việtbuồn': 1, 'lợiđong': 1, 'tốtchuẩn': 1, 'hãngsẽ': 1, 'khôngkém': 1, 'mipchủ': 1, '🇺🇸': 1, 'ative': 1, 'luông': 1, 'rợ': 1, 'đuỵt': 1, 'mịe': 1, 'gìdây': 1, 'rốiđồ': 1, 'nhanhtks': 1, 'buổi': 1, 'vin': 1, 'hgìhgì': 1, 'tviệt': 1, 'khôngthấy': 1, 'ngat': 1, 'okchức': 1, 'tiềnphát': 1, 'okechuẩnâm': 1, 'trongđỉnh': 1, 'giávượt': 1, 'tốtok': 1, 'sảnh': 1, 'phanh': 1, 'nhàchất': 1, 'độn': 1, 'hàngnó': 1, 'hiẹn': 1, 'tốtvề': 1, 'lòngxài': 1, 'lượngvẫn': 1, 'kínhcảm': 1, 'khôngxảy': 1, 'chútnói': 1, 'lắmtốt': 1, 'hàngair': 1, 'khôngcare': 1, 'tưởng+giá': 1, 'tốtvẫn': 1, 'lến': 1, 'tiki…': 1, 'khôngđảm': 1, 'rấtok': 1, 'lấn': 1, 'thioi': 1, 'hàngvậy': 1, 'luônhàng': 1, 'lượngchơi': 1, 'settingnói': 1, 'tớt': 1, 'khôngđệm': 1, 'hàngnhanh': 1, 'dò': 1, 'settings': 1, 'effects': 1, 'default': 1, 'miễn': 1, 'vót': 1, 'bồn': 1}\n"
          ],
          "name": "stdout"
        }
      ]
    },
    {
      "cell_type": "code",
      "metadata": {
        "id": "aq22J7WKV3RM",
        "colab": {
          "base_uri": "https://localhost:8080/"
        },
        "outputId": "6dc440f1-9f08-43d8-f8c5-4b9e2fb92e9f"
      },
      "source": [
        "my_dict_array = [sentence for sentence in my_dict]\r\n",
        "my_dict_array"
      ],
      "execution_count": null,
      "outputs": [
        {
          "output_type": "execute_result",
          "data": {
            "text/plain": [
              "['vỏ',\n",
              " 'ốp',\n",
              " 'tai',\n",
              " 'nghe',\n",
              " 'không',\n",
              " 'có',\n",
              " 'đèn',\n",
              " 'báo',\n",
              " 'hiệu',\n",
              " 'chất',\n",
              " 'lượng',\n",
              " 'âm',\n",
              " 'thanh',\n",
              " 'kém',\n",
              " 'tín',\n",
              " 'chập',\n",
              " 'chờn',\n",
              " 'bị',\n",
              " 'treo',\n",
              " 'khi',\n",
              " 'khởi',\n",
              " 'động',\n",
              " 'lại',\n",
              " 'bằng',\n",
              " 'app',\n",
              " 'tether',\n",
              " 'phải',\n",
              " 'thủ',\n",
              " 'công',\n",
              " 'tay',\n",
              " 'tắt',\n",
              " 'và',\n",
              " 'mở',\n",
              " 'nguồn',\n",
              " 'hơn',\n",
              " 'phút',\n",
              " 'khá',\n",
              " 'là',\n",
              " 'lâu',\n",
              " 'so',\n",
              " 'với',\n",
              " 'các',\n",
              " 'thiết',\n",
              " 'router',\n",
              " 'tầm',\n",
              " 'trung',\n",
              " 'khác',\n",
              " 'kiểm',\n",
              " 'tra',\n",
              " 'cùng',\n",
              " 'hãng',\n",
              " 'technicolor',\n",
              " 'tplink',\n",
              " 'wrn',\n",
              " 'mặc',\n",
              " 'dù',\n",
              " 'quảng',\n",
              " 'cáo',\n",
              " 'chuẩn',\n",
              " 'n',\n",
              " 'max',\n",
              " 'mb',\n",
              " 'nhưng',\n",
              " 'chậm',\n",
              " 'còn',\n",
              " 'thua',\n",
              " 'đường',\n",
              " 'truyền',\n",
              " 'chắc',\n",
              " 'đạt',\n",
              " 'rồi',\n",
              " 'băng',\n",
              " 'tần',\n",
              " 'g',\n",
              " 'thì',\n",
              " 'phát',\n",
              " 'quá',\n",
              " 'yếu',\n",
              " 'cách',\n",
              " 'm',\n",
              " 'qua',\n",
              " 'lớp',\n",
              " 'cửa',\n",
              " 'gỗ',\n",
              " 'thôi',\n",
              " 'đã',\n",
              " 'mất',\n",
              " 'cột',\n",
              " 'sóng',\n",
              " 'đo',\n",
              " 'điện',\n",
              " 'thoại',\n",
              " 'samsung',\n",
              " 'nên',\n",
              " 'trong',\n",
              " 'giá',\n",
              " 'k',\n",
              " 'chọn',\n",
              " 'ac',\n",
              " 'kép',\n",
              " 'tận',\n",
              " 'dụng',\n",
              " 'được',\n",
              " 'ổn',\n",
              " 'hoặc',\n",
              " 'hợp',\n",
              " 'lý',\n",
              " 'chuột',\n",
              " 'dùng',\n",
              " 'rất',\n",
              " 'gần',\n",
              " 'tháng',\n",
              " 'đầu',\n",
              " 'sau',\n",
              " 'đó',\n",
              " 'đột',\n",
              " 'ngột',\n",
              " 'sử',\n",
              " 'nữa',\n",
              " 'đêm',\n",
              " 'hôm',\n",
              " 'trước',\n",
              " 'bt',\n",
              " 'sáng',\n",
              " 'bật',\n",
              " 'lên',\n",
              " 'di',\n",
              " 'chuyển',\n",
              " 'mình',\n",
              " 'mua',\n",
              " 'con',\n",
              " 'ở',\n",
              " 'tiki',\n",
              " 'shopee',\n",
              " 'nhau',\n",
              " 'tuần',\n",
              " 'hỏng',\n",
              " 'đúng',\n",
              " 'thể',\n",
              " 'vấn',\n",
              " 'đề',\n",
              " 'dòng',\n",
              " 'sản',\n",
              " 'phẩm',\n",
              " 'này',\n",
              " 'yêu',\n",
              " 'cầu',\n",
              " 'bảo',\n",
              " 'hành',\n",
              " 'từ',\n",
              " 'để',\n",
              " 'chờ',\n",
              " 'như',\n",
              " 'thế',\n",
              " 'nào',\n",
              " 'sẽ',\n",
              " 'update',\n",
              " 'tiếp',\n",
              " 'nếu',\n",
              " 'chấm',\n",
              " 'sao',\n",
              " 'đảm',\n",
              " 'cho',\n",
              " 'shop',\n",
              " 'đặt',\n",
              " 'hàng',\n",
              " 'ngày',\n",
              " 'lịch',\n",
              " 'giao',\n",
              " 'chưa',\n",
              " 'nhận',\n",
              " 'đóng',\n",
              " 'gửi',\n",
              " 'đi',\n",
              " 'xứ',\n",
              " 'đơn',\n",
              " 'mới',\n",
              " 'bắt',\n",
              " 'xử',\n",
              " 'đến',\n",
              " 'hàngkhi',\n",
              " 'trên',\n",
              " 'pc',\n",
              " 'cũ',\n",
              " 'bình',\n",
              " 'thường',\n",
              " 'mùng',\n",
              " 'gói',\n",
              " 'cẩn',\n",
              " 'thận',\n",
              " 'hộp',\n",
              " 'giống',\n",
              " 'mô',\n",
              " 'tả',\n",
              " 'vừa',\n",
              " 'cắm',\n",
              " 'vào',\n",
              " 'nhỏ',\n",
              " 'lúc',\n",
              " 'chỉnhtừ',\n",
              " 'vỏn',\n",
              " 'vẹn',\n",
              " 'màu',\n",
              " 'đen',\n",
              " 'trắng',\n",
              " 'sai',\n",
              " 'lựa',\n",
              " 'hư',\n",
              " 'dùg',\n",
              " 'mà',\n",
              " 'nắp',\n",
              " 'mặt',\n",
              " 'dưới',\n",
              " 'đồng',\n",
              " 'hồ',\n",
              " 'bung',\n",
              " 'pin',\n",
              " 'hỏg',\n",
              " 'phòng',\n",
              " 'xộp',\n",
              " 'móp',\n",
              " 'méo',\n",
              " 'nguyên',\n",
              " 'uy',\n",
              " 'cũng',\n",
              " 'may',\n",
              " 'phản',\n",
              " 'hồi',\n",
              " 'ghi',\n",
              " 'thu',\n",
              " 'hoàn',\n",
              " 'tiền',\n",
              " 'ngay',\n",
              " 'dây',\n",
              " 'ngắn',\n",
              " 'chỉ',\n",
              " 'cổ',\n",
              " 'trực',\n",
              " 'máy',\n",
              " 'dài',\n",
              " 'riêng',\n",
              " 'ổ',\n",
              " 'làm',\n",
              " 'hao',\n",
              " 'tổn',\n",
              " 'của',\n",
              " 'những',\n",
              " 'tản',\n",
              " 'nhiệt',\n",
              " 'nóng',\n",
              " 'dễ',\n",
              " 'chai',\n",
              " 'quạt',\n",
              " 'khó',\n",
              " 'cảm',\n",
              " 'gió',\n",
              " 'thổi',\n",
              " 'cánh',\n",
              " 'cate',\n",
              " 'đúc',\n",
              " 'lỗ',\n",
              " 'ốc',\n",
              " 'thay',\n",
              " 'vì',\n",
              " 'đậy',\n",
              " 'cổng',\n",
              " 'sata',\n",
              " 'serial',\n",
              " 'number',\n",
              " 'trang',\n",
              " 'chủ',\n",
              " 'apacer',\n",
              " 'báp',\n",
              " 'lỗi',\n",
              " 'invalid',\n",
              " 'xem',\n",
              " 'giải',\n",
              " 'quyêt',\n",
              " 'dùm',\n",
              " 'giả',\n",
              " 'một',\n",
              " 'sạc',\n",
              " 'đổi',\n",
              " 'bọc',\n",
              " 'nilon',\n",
              " 'rách',\n",
              " 'hầu',\n",
              " 'hết',\n",
              " 'góc',\n",
              " 'mép',\n",
              " 'tem',\n",
              " 'dán',\n",
              " 'bên',\n",
              " 'ngoài',\n",
              " 'bao',\n",
              " 'hình',\n",
              " 'thức',\n",
              " 'xấu',\n",
              " 'gây',\n",
              " 'tờ',\n",
              " 'hướng',\n",
              " 'dẫn',\n",
              " 'gấp',\n",
              " 'nhăn',\n",
              " 'khuyến',\n",
              " 'mãi',\n",
              " 'galaxy',\n",
              " 'fit',\n",
              " 'liên',\n",
              " 'hệ',\n",
              " 'hỗ',\n",
              " 'trợ',\n",
              " 'thích',\n",
              " 'thỏa',\n",
              " 'đáng',\n",
              " 'seal',\n",
              " 'kiểu',\n",
              " 'dáng',\n",
              " 'thô',\n",
              " 'đăng',\n",
              " 'đeo',\n",
              " 'to',\n",
              " 'phù',\n",
              " 'tốt',\n",
              " 'người',\n",
              " 'nội',\n",
              " 'dung',\n",
              " 'trò',\n",
              " 'chuyện',\n",
              " 'chết',\n",
              " 'trái',\n",
              " 'gọi',\n",
              " 'tới',\n",
              " 'lấy',\n",
              " 'xong',\n",
              " 'hề',\n",
              " 'email',\n",
              " 'tổng',\n",
              " 'đài',\n",
              " 'lần',\n",
              " 'xác',\n",
              " 'hỏi',\n",
              " 'vài',\n",
              " 'trả',\n",
              " 'vẫn',\n",
              " 'thấy',\n",
              " 'đâu',\n",
              " 'nhân',\n",
              " 'viên',\n",
              " 'biết',\n",
              " 'chẳng',\n",
              " 'tí',\n",
              " 'thông',\n",
              " 'tin',\n",
              " 'gì',\n",
              " 'câu',\n",
              " 'lời',\n",
              " 'tương',\n",
              " 'tự',\n",
              " 'nhớ',\n",
              " 'hay',\n",
              " 'vui',\n",
              " 'lòng',\n",
              " 'giờ',\n",
              " 'rõ',\n",
              " 'chán',\n",
              " 'ngâm',\n",
              " 'đồ',\n",
              " 'apple',\n",
              " 'nhanh',\n",
              " 'gọn',\n",
              " 'nay',\n",
              " 'xin',\n",
              " 'cạch',\n",
              " 'nghệ',\n",
              " 'xưa',\n",
              " 'ủng',\n",
              " 'hộ',\n",
              " 'nhiều',\n",
              " 'cái',\n",
              " 'lớn',\n",
              " 'ipad',\n",
              " 'chơi',\n",
              " 'em',\n",
              " 'bé',\n",
              " 'tã',\n",
              " 'tiên',\n",
              " 'viết',\n",
              " 'luận',\n",
              " 'vậy',\n",
              " 'qúa',\n",
              " 'thất',\n",
              " 'vọng',\n",
              " 'sim',\n",
              " 'tết',\n",
              " 'xài',\n",
              " 'mấy',\n",
              " 'bữa',\n",
              " 'nợ',\n",
              " 'sắp',\n",
              " 'hạn',\n",
              " 'bây',\n",
              " 'im',\n",
              " 'ru',\n",
              " 'my',\n",
              " 'mobile',\n",
              " 'thật',\n",
              " 'sự',\n",
              " 'hiểu',\n",
              " 'đây',\n",
              " 'phần',\n",
              " 'đế',\n",
              " 'về',\n",
              " 'kết',\n",
              " 'nối',\n",
              " 'reset',\n",
              " 'unifying',\n",
              " 'receiver',\n",
              " 'số',\n",
              " 'sn',\n",
              " 'khớp',\n",
              " 'tưởng',\n",
              " 'hẳn',\n",
              " 'lazada',\n",
              " 'dịch',\n",
              " 'vụ',\n",
              " 'suy',\n",
              " 'nghĩ',\n",
              " 'khui',\n",
              " 'đựng',\n",
              " 'quan',\n",
              " 'sát',\n",
              " 'kỹ',\n",
              " 'vết',\n",
              " 'xước',\n",
              " 'chỗ',\n",
              " 'xúc',\n",
              " 'bề',\n",
              " 'gắn',\n",
              " 'ngán',\n",
              " 'chạy',\n",
              " 'nămb',\n",
              " 'hảng',\n",
              " 'hi',\n",
              " 'thời',\n",
              " 'gian',\n",
              " 'mong',\n",
              " 'muốn',\n",
              " 'usb',\n",
              " 'trông',\n",
              " 'bạn',\n",
              " 'tình',\n",
              " 'ok',\n",
              " 'chính',\n",
              " 'tuy',\n",
              " 'nhiên',\n",
              " 'hotline',\n",
              " 'trễ',\n",
              " 'nhờ',\n",
              " 'cố',\n",
              " 'gắng',\n",
              " 'sớm',\n",
              " 'do',\n",
              " 'tặng',\n",
              " 'sinh',\n",
              " 'nhật',\n",
              " 'hủy',\n",
              " 'toán',\n",
              " 'thẻ',\n",
              " 'ngại',\n",
              " 'đợi',\n",
              " 'chứ',\n",
              " 'nhà',\n",
              " 'nhập',\n",
              " 'khẩu',\n",
              " 'hoang',\n",
              " 'mang',\n",
              " 'dạo',\n",
              " 'ăn',\n",
              " 'í',\n",
              " 'thứ',\n",
              " 'sáu',\n",
              " '“siêu',\n",
              " 'bền”',\n",
              " 'đáp',\n",
              " 'rè',\n",
              " 'tịt',\n",
              " 'đền',\n",
              " 'ai',\n",
              " 'đuợc',\n",
              " 'cục',\n",
              " 'cứ',\n",
              " 'đỏ',\n",
              " 'xanh',\n",
              " 'trading',\n",
              " 'hài',\n",
              " 'tốc',\n",
              " 'độ',\n",
              " 'nghị',\n",
              " 'chạp',\n",
              " 'khách',\n",
              " 'nhắc',\n",
              " 'từng',\n",
              " 'chút',\n",
              " 'món',\n",
              " 'ship',\n",
              " 'ứng',\n",
              " 'mau',\n",
              " 'cả',\n",
              " 'noka',\n",
              " 'nói',\n",
              " 'ấy',\n",
              " 'tại',\n",
              " 'dê',\n",
              " 'bán',\n",
              " 'thịt',\n",
              " 'chó',\n",
              " 'tính',\n",
              " 'nút',\n",
              " 'bấm',\n",
              " 'lờn',\n",
              " 'hai',\n",
              " 'bản',\n",
              " 'nhạc',\n",
              " 'bluetooth',\n",
              " 'nó',\n",
              " 'xoá',\n",
              " 'thêm',\n",
              " 'màn',\n",
              " 'hiện',\n",
              " 'tượng',\n",
              " 'hiển',\n",
              " 'thị',\n",
              " 'dương',\n",
              " 'vàng',\n",
              " 'cam',\n",
              " 'rỗ',\n",
              " 'sọc',\n",
              " 'phim',\n",
              " 'kế',\n",
              " 'hoạ',\n",
              " 'chịu',\n",
              " 'confirm',\n",
              " 'phục',\n",
              " 'it',\n",
              " 'nhầm',\n",
              " 'thành',\n",
              " 'shipper',\n",
              " 'lạc',\n",
              " 'trọ',\n",
              " 'tìm',\n",
              " 'hơi',\n",
              " 'cực',\n",
              " 'lả',\n",
              " 'luôn',\n",
              " 'vendor',\n",
              " 'buôn',\n",
              " 'online',\n",
              " 'ít',\n",
              " 'ra',\n",
              " 'điểm',\n",
              " 'khỏi',\n",
              " 'việc',\n",
              " 'lẽ',\n",
              " 'nghỉ',\n",
              " 'nơi',\n",
              " 'vuivui',\n",
              " 'phí',\n",
              " 'định',\n",
              " 'kia',\n",
              " 'xét',\n",
              " 'chế',\n",
              " 'kể',\n",
              " 'sách',\n",
              " 'nọ',\n",
              " 'địa',\n",
              " 'bạc',\n",
              " 'active',\n",
              " 'nhắn',\n",
              " 'imei',\n",
              " 'hẹn',\n",
              " 'sống',\n",
              " 'ram',\n",
              " 'gb',\n",
              " 'usage',\n",
              " 'thuật',\n",
              " 'rằng',\n",
              " 'bàn',\n",
              " 'phím',\n",
              " 'lốc',\n",
              " 'nâng',\n",
              " 'niu',\n",
              " 'laptop',\n",
              " 'nhẹ',\n",
              " 'nhàng',\n",
              " 'êm',\n",
              " 'loa',\n",
              " 'chung',\n",
              " 'bỏ',\n",
              " 'tr',\n",
              " 'gặp',\n",
              " 'trạng',\n",
              " 'dồn',\n",
              " 'triệu',\n",
              " 'lap',\n",
              " 'thiếu',\n",
              " 'phía',\n",
              " 'khe',\n",
              " 'dính',\n",
              " 'rạch',\n",
              " 'nhét',\n",
              " 'tôi',\n",
              " 'minh',\n",
              " 'châu',\n",
              " 'drive',\n",
              " 'trường',\n",
              " 'orico',\n",
              " 'bổ',\n",
              " 'sung',\n",
              " 'giảdo',\n",
              " 'mượn',\n",
              " 'tệ',\n",
              " 'xuất',\n",
              " 'hóa',\n",
              " 'toàn',\n",
              " 'trốn',\n",
              " 'thuế',\n",
              " 'nghĩa',\n",
              " 'nước',\n",
              " 'à',\n",
              " 'cáp',\n",
              " 'hdmi',\n",
              " 'vga',\n",
              " 'tài',\n",
              " 'thái',\n",
              " 'đố',\n",
              " 'tử',\n",
              " 'mail',\n",
              " 'in',\n",
              " 'wifi',\n",
              " 'mật',\n",
              " 'đều',\n",
              " 'cap',\n",
              " 'cài',\n",
              " 'phức',\n",
              " 'tạp',\n",
              " 'mã',\n",
              " 'mềm',\n",
              " 'bì',\n",
              " 'keo',\n",
              " 'xé',\n",
              " 'phân',\n",
              " 'nửaphím',\n",
              " 'lệch',\n",
              " 'xảy',\n",
              " 'cần',\n",
              " 'ty',\n",
              " 'hoá',\n",
              " 'giữ',\n",
              " 'chữ',\n",
              " 'bực',\n",
              " 'lắp',\n",
              " 'thử',\n",
              " 'giùm',\n",
              " 'bass',\n",
              " 'ồn',\n",
              " 'ho',\n",
              " 'độc',\n",
              " 'lập',\n",
              " 'mỗi',\n",
              " 'thằng',\n",
              " 'copy',\n",
              " 'dữ',\n",
              " 'liệu',\n",
              " 'tầng',\n",
              " 'vạch',\n",
              " 'coi',\n",
              " 'ad',\n",
              " 'ơi',\n",
              " 'ạ',\n",
              " 'giúp',\n",
              " 'wacom',\n",
              " 'giữa',\n",
              " 'đời',\n",
              " 'adapter',\n",
              " 'advanced',\n",
              " 'v',\n",
              " 'ý',\n",
              " 'chợ',\n",
              " 'cản',\n",
              " 'ảnh',\n",
              " 'model',\n",
              " 'ta',\n",
              " 'nha',\n",
              " 'silicon',\n",
              " 'tiệm',\n",
              " 'e',\n",
              " 'kí',\n",
              " 'kích',\n",
              " 'hoạt',\n",
              " 'bịp',\n",
              " 'ám',\n",
              " 'bộ',\n",
              " 'lề',\n",
              " 'cỡ',\n",
              " 'tiếng',\n",
              " 'mọi',\n",
              " 'nghi',\n",
              " 'ù',\n",
              " 'dở',\n",
              " 'búa',\n",
              " 'đập',\n",
              " 'chục',\n",
              " 'đắt',\n",
              " 'quãng',\n",
              " 'khuyên',\n",
              " 'jack',\n",
              " 'điều',\n",
              " 'chiếc',\n",
              " 'quốc',\n",
              " 'buồn',\n",
              " 'trì',\n",
              " 'hoãn',\n",
              " 'game',\n",
              " 'kín',\n",
              " 'xíu',\n",
              " 'đau',\n",
              " 'trọng',\n",
              " 'rớt',\n",
              " 'vặn',\n",
              " 'mơi',\n",
              " 'nổi',\n",
              " 'ấn',\n",
              " 'nháy',\n",
              " 'đúp',\n",
              " 'đẹp',\n",
              " 'anh',\n",
              " 'mắc',\n",
              " 'ký',\n",
              " 'thẳng',\n",
              " 'tỏ',\n",
              " 'lo',\n",
              " 'trị',\n",
              " 'lạ',\n",
              " 'lung',\n",
              " 'tung',\n",
              " 'nhỡ',\n",
              " 'logitech',\n",
              " 'diện',\n",
              " 'tuổi',\n",
              " 'thọ',\n",
              " 'năm',\n",
              " 'click',\n",
              " 'nhạy',\n",
              " 'quang',\n",
              " 'thực',\n",
              " 'nghiêm',\n",
              " 'túc',\n",
              " 'đấy',\n",
              " 'ban',\n",
              " 'chống',\n",
              " 'setup',\n",
              " 'giảm',\n",
              " 'tạm',\n",
              " 'kèm',\n",
              " 'giác',\n",
              " 'lừa',\n",
              " 'đảo',\n",
              " 'khac',\n",
              " 'trời',\n",
              " 'khổ',\n",
              " 'thân',\n",
              " 'đươc',\n",
              " 'hả',\n",
              " 'đả',\n",
              " 'bi',\n",
              " 'bể',\n",
              " 'làn',\n",
              " 'dám',\n",
              " 'tễ',\n",
              " 'kiều',\n",
              " 'bóc',\n",
              " 'tốn',\n",
              " 'ưng',\n",
              " 'hoài',\n",
              " 'cân',\n",
              " 'single',\n",
              " 'dual',\n",
              " 'nfc',\n",
              " 'voucher',\n",
              " 'p',\n",
              " 'sang',\n",
              " 'on',\n",
              " 'enter',\n",
              " 'văng',\n",
              " 'tường',\n",
              " 'dell',\n",
              " 'liệt',\n",
              " 'and',\n",
              " 'cứng',\n",
              " 'giới',\n",
              " 'thiệu',\n",
              " 'rơi',\n",
              " 'kêu',\n",
              " 'đặc',\n",
              " 'biệt',\n",
              " 'ace',\n",
              " 'đánh',\n",
              " 'gõ',\n",
              " 'rít',\n",
              " 'kẹt',\n",
              " 'mục',\n",
              " 'plus',\n",
              " 'danh',\n",
              " 'tải',\n",
              " 'shift',\n",
              " 'tổ',\n",
              " 'h',\n",
              " 'phồng',\n",
              " 'loại',\n",
              " 'nặng',\n",
              " 'đích',\n",
              " 'đem',\n",
              " 'nhất',\n",
              " 'tạo',\n",
              " 'tập',\n",
              " 'phiền',\n",
              " 'toái',\n",
              " 'quán',\n",
              " 'cafe',\n",
              " 'sở',\n",
              " 'trải',\n",
              " 'mệt',\n",
              " 'sâu',\n",
              " 'hụt',\n",
              " 'lực',\n",
              " 'trở',\n",
              " 'vị',\n",
              " 'đối',\n",
              " 'bét',\n",
              " 'nhấn',\n",
              " 'hưởng',\n",
              " 'khủng',\n",
              " 'khiếp',\n",
              " 'học',\n",
              " 'trí',\n",
              " 'fo',\n",
              " 'hạng',\n",
              " 'u',\n",
              " 'cây',\n",
              " 'band',\n",
              " 'cập',\n",
              " 'thao',\n",
              " 'tác',\n",
              " 'tục',\n",
              " 'mai',\n",
              " 'bẩn',\n",
              " 'ghét',\n",
              " 'tích',\n",
              " 'tụ',\n",
              " 'lau',\n",
              " 'sạch',\n",
              " 'đệm',\n",
              " 'case',\n",
              " 'đâuxuống',\n",
              " 'ngỏm',\n",
              " 'quản',\n",
              " 'báo',\n",
              " 'hàng',\n",
              " 'thành',\n",
              " 'rồi',\n",
              " 'mà',\n",
              " 'chả',\n",
              " 'thấy',\n",
              " 'gọi',\n",
              " 'nhận',\n",
              " 'kiểu',\n",
              " 'á',\n",
              " 'nhé',\n",
              " 'đầy',\n",
              " 'đủ',\n",
              " 'zin',\n",
              " 'đốm',\n",
              " 'bảo',\n",
              " 'hành',\n",
              " 'nào',\n",
              " 'ạ',\n",
              " 'viết',\n",
              " 'xét',\n",
              " 'này',\n",
              " 'là',\n",
              " 'vì',\n",
              " 'vừa',\n",
              " 'lúc',\n",
              " 'nãy',\n",
              " 'đang',\n",
              " 'nhạc',\n",
              " 'rất',\n",
              " 'nó',\n",
              " 'dựt',\n",
              " 'lại',\n",
              " 'tiếng',\n",
              " 'và',\n",
              " 'chói',\n",
              " 'tắt',\n",
              " 'được',\n",
              " 'hủy',\n",
              " 'rồ',\n",
              " 'phút',\n",
              " 'tục',\n",
              " 'tưởng',\n",
              " 'còn',\n",
              " 'nổ',\n",
              " 'cơ',\n",
              " 'cũng',\n",
              " 'thường',\n",
              " 'có',\n",
              " 'vài',\n",
              " 'lỗi',\n",
              " 'vặt',\n",
              " 'nhỉ',\n",
              " 'tào',\n",
              " 'lao',\n",
              " 'vợ',\n",
              " 'cover',\n",
              " 'tránh',\n",
              " 'trầy',\n",
              " 'chùi',\n",
              " 'mèm',\n",
              " 'dơ',\n",
              " 'lấm',\n",
              " 'lem',\n",
              " 'rái',\n",
              " 'web',\n",
              " 'đại',\n",
              " 'cung',\n",
              " 'cấp',\n",
              " 'an',\n",
              " 'tâm',\n",
              " 'bởi',\n",
              " 'đợt',\n",
              " 'á',\n",
              " 'nhìn',\n",
              " 'xát',\n",
              " 'niêm',\n",
              " 'phong',\n",
              " 'dàng',\n",
              " 'rấc',\n",
              " 'tiếc',\n",
              " 'chúng',\n",
              " 'khoản',\n",
              " 'đượclúc',\n",
              " 'internet',\n",
              " 'led',\n",
              " 'lá',\n",
              " 'biển',\n",
              " 'rung',\n",
              " 'nhiễu',\n",
              " 'muỗi',\n",
              " 'mic',\n",
              " 'xuyên',\n",
              " '“điếc”',\n",
              " 'cuộc',\n",
              " 'mạng',\n",
              " 'hạch',\n",
              " 'rút',\n",
              " 'đứt',\n",
              " 'đàng',\n",
              " 'hoàng',\n",
              " 'nhựa',\n",
              " 'cắt',\n",
              " 'ràng',\n",
              " 'bền',\n",
              " 'cao',\n",
              " 'lai',\n",
              " 'vỡ',\n",
              " 'phận',\n",
              " 'thèm',\n",
              " 'lót',\n",
              " 'sốc',\n",
              " 'tên',\n",
              " 'đưa',\n",
              " 'phóng',\n",
              " 'xe',\n",
              " 'càng',\n",
              " 'mắn',\n",
              " 'i',\n",
              " 'li',\n",
              " 'ti',\n",
              " 'chớp',\n",
              " 'giật',\n",
              " 'hở',\n",
              " 'vệt',\n",
              " 'chia',\n",
              " 'sắc',\n",
              " 'nét',\n",
              " 'clip',\n",
              " 'full',\n",
              " 'hd',\n",
              " 'nền',\n",
              " ...]"
            ]
          },
          "metadata": {
            "tags": []
          },
          "execution_count": 15
        }
      ]
    },
    {
      "cell_type": "code",
      "metadata": {
        "id": "ZbvhMV3HV7JA",
        "colab": {
          "base_uri": "https://localhost:8080/"
        },
        "outputId": "ff2a0879-1e3e-423f-8a01-01f7703f769e"
      },
      "source": [
        "len_my_dict = len(my_dict)\r\n",
        "len_my_dict"
      ],
      "execution_count": null,
      "outputs": [
        {
          "output_type": "execute_result",
          "data": {
            "text/plain": [
              "12950"
            ]
          },
          "metadata": {
            "tags": []
          },
          "execution_count": 16
        }
      ]
    },
    {
      "cell_type": "code",
      "metadata": {
        "id": "qtksB7PYV8YL"
      },
      "source": [
        "def tao_nhieu(sentence):\r\n",
        "  so_nhieu = np.random.randint(3,6)\r\n",
        "  for i in range(so_nhieu):\r\n",
        "    left = np.random.randint(0,2)\r\n",
        "    index_words = np.random.randint(0,len_my_dict)\r\n",
        "    if left ==1 :\r\n",
        "      sentence = my_dict_array[index_words] + ' ' + sentence\r\n",
        "    else:\r\n",
        "      sentence = sentence + ' ' + my_dict_array[index_words] \r\n",
        "  return sentence"
      ],
      "execution_count": null,
      "outputs": []
    },
    {
      "cell_type": "code",
      "metadata": {
        "id": "DXfzumWeWF2i"
      },
      "source": [
        "def reverse_sentences(sentence):\r\n",
        "  sentence = sentence.split(' ')\r\n",
        "  sentence.reverse()\r\n",
        "  return ' '.join(x for x in sentence)"
      ],
      "execution_count": null,
      "outputs": []
    },
    {
      "cell_type": "code",
      "metadata": {
        "id": "zTTWegR8TcKT"
      },
      "source": [
        "def lanvung(sentence):\r\n",
        "  sentence_arr = sentence.split(' ')\r\n",
        "  len_sen = len(sentence_arr)\r\n",
        "  if len_sen < 4:\r\n",
        "    return sentence\r\n",
        "  time_lan = np.random.randint(1,5)\r\n",
        "  dict_time = {}\r\n",
        "  for i in range(time_lan):\r\n",
        "    while True:\r\n",
        "      current_index = np.random.randint(0,len_sen)\r\n",
        "      if current_index not in dict_time:\r\n",
        "        dict_time[current_index] =1 \r\n",
        "        sentence_arr[current_index] = (sentence_arr[current_index] + ' ' ) * np.random.randint(2,6)\r\n",
        "        break\r\n",
        "      else :\r\n",
        "        continue\r\n",
        "  return ' '.join(x for x in sentence_arr)"
      ],
      "execution_count": null,
      "outputs": []
    },
    {
      "cell_type": "code",
      "metadata": {
        "id": "IZca9EbRWJDf"
      },
      "source": [
        "data_nhieu =[ tao_nhieu(x) for x in data_label_1]\r\n",
        "data_label_1 = np.concatenate((data_nhieu,data_label_1))\r\n",
        "data_rever =[ reverse_sentences(x) for x in data_label_1]\r\n",
        "data_label_1 = np.concatenate((data_rever,data_label_1))\r\n",
        "data_loan =[ lanvung(x) for x in data_label_1]\r\n",
        "data_label_1 = np.concatenate((data_label_1,data_loan))\r\n"
      ],
      "execution_count": null,
      "outputs": []
    },
    {
      "cell_type": "code",
      "metadata": {
        "id": "e7UOR4piXPa5"
      },
      "source": [
        "data_nhieu =[ tao_nhieu(x) for x in data_label_2]\r\n",
        "data_label_2 = np.concatenate((data_nhieu,data_label_2))\r\n",
        "data_rever =[ reverse_sentences(x) for x in data_label_2]\r\n",
        "data_label_2 = np.concatenate((data_rever,data_label_2))\r\n",
        "data_loan =[ lanvung(x) for x in data_label_2]\r\n",
        "data_label_2 = np.concatenate((data_label_2,data_loan))"
      ],
      "execution_count": null,
      "outputs": []
    },
    {
      "cell_type": "code",
      "metadata": {
        "id": "OZ13kGGNXUoJ"
      },
      "source": [
        "data_nhieu =[ tao_nhieu(x) for x in data_label_3]\r\n",
        "data_label_3 = np.concatenate((data_nhieu,data_label_3))\r\n",
        "data_rever =[ reverse_sentences(x) for x in data_label_3]\r\n",
        "data_label_3 = np.concatenate((data_rever,data_label_3))\r\n",
        "data_loan =[ lanvung(x) for x in data_label_3]\r\n",
        "data_label_3 = np.concatenate((data_label_3,data_loan))"
      ],
      "execution_count": null,
      "outputs": []
    },
    {
      "cell_type": "code",
      "metadata": {
        "id": "ao6xweOgXYBk"
      },
      "source": [
        "data_nhieu =[ tao_nhieu(x) for x in data_label_4]\r\n",
        "data_label_4 = np.concatenate((data_nhieu,data_label_4))\r\n",
        "data_rever =[ reverse_sentences(x) for x in data_label_4]\r\n",
        "data_label_4 = np.concatenate((data_rever,data_label_4))\r\n",
        "data_loan =[ lanvung(x) for x in data_label_4]\r\n",
        "data_label_4 = np.concatenate((data_label_4,data_loan))"
      ],
      "execution_count": null,
      "outputs": []
    },
    {
      "cell_type": "code",
      "metadata": {
        "id": "9oPxO-DtXoH0"
      },
      "source": [
        "label_1 = np.ones(len(data_label_1))*1\r\n",
        "label_2 = np.ones(len(data_label_2))*2\r\n",
        "label_3 = np.ones(len(data_label_3))*3\r\n",
        "label_4 = np.ones(len(data_label_4))*4\r\n"
      ],
      "execution_count": null,
      "outputs": []
    },
    {
      "cell_type": "code",
      "metadata": {
        "id": "UebfQmJKXfKl"
      },
      "source": [
        "data_train = np.concatenate((data_label_1,data_label_2,data_label_3,data_label_4))"
      ],
      "execution_count": null,
      "outputs": []
    },
    {
      "cell_type": "code",
      "metadata": {
        "id": "oZ0mKOX6X3BS"
      },
      "source": [
        "labels =  np.concatenate((label_1,label_2,label_3,label_4))"
      ],
      "execution_count": null,
      "outputs": []
    },
    {
      "cell_type": "code",
      "metadata": {
        "id": "VjH7tjmcau6k"
      },
      "source": [
        "data_ft = np.concatenate((data_label_1[0:10000],data_label_2[0:10000],data_label_3[0:10000],data_label_4[0:10000]))\r\n",
        "data_ft = [x.split() for x in data_ft ]"
      ],
      "execution_count": null,
      "outputs": []
    },
    {
      "cell_type": "markdown",
      "metadata": {
        "id": "cdbXCuvPbgnS"
      },
      "source": [
        "Create dict\n"
      ]
    },
    {
      "cell_type": "code",
      "metadata": {
        "id": "Tf-B6PEJbZMK"
      },
      "source": [
        "def generate_dict(datas):\r\n",
        "  # tạo từ điển\r\n",
        "  word2id = dict()\r\n",
        "  max_words = 0 # maximum number of words in a sentence\r\n",
        "\r\n",
        "  # Construction of word2id dict\r\n",
        "  for sentence in datas:\r\n",
        "      for word in sentence.split(' '):\r\n",
        "          # Add words to word2id dict if not exist\r\n",
        "          if word not in word2id:\r\n",
        "              word2id[word] = len(word2id)\r\n",
        "      # If length of the sentence is greater than max_words, update max_words\r\n",
        "      if len(sentence) > max_words:\r\n",
        "          max_words = len(sentence)\r\n",
        "  return word2id, max_words\r\n",
        "dict_and_maxWord=generate_dict(data_train)"
      ],
      "execution_count": null,
      "outputs": []
    },
    {
      "cell_type": "code",
      "metadata": {
        "id": "wL-KlVBY_oQ_"
      },
      "source": [
        "word2id=dict_and_maxWord[0]\r\n",
        "maxWord=dict_and_maxWord[1]\r\n",
        "lenWord=len(word2id)"
      ],
      "execution_count": null,
      "outputs": []
    },
    {
      "cell_type": "code",
      "metadata": {
        "id": "QJQi4H4kkfGP",
        "colab": {
          "base_uri": "https://localhost:8080/"
        },
        "outputId": "3a11caba-9262-44b9-89b8-586a87f8d218"
      },
      "source": [
        "(maxWord,lenWord)\r\n"
      ],
      "execution_count": null,
      "outputs": [
        {
          "output_type": "execute_result",
          "data": {
            "text/plain": [
              "(2359, 12951)"
            ]
          },
          "metadata": {
            "tags": []
          },
          "execution_count": 30
        }
      ]
    },
    {
      "cell_type": "code",
      "metadata": {
        "id": "EUgvJUX5cUty"
      },
      "source": [
        "# Construction of label2id and id2label dicts\r\n",
        "id2word = {v: k for k, v in word2id.items()}"
      ],
      "execution_count": null,
      "outputs": []
    },
    {
      "cell_type": "code",
      "metadata": {
        "id": "b_JVmthbdruX",
        "colab": {
          "base_uri": "https://localhost:8080/",
          "height": 35
        },
        "outputId": "6d015849-1528-470f-b65d-65a9bfc4976b"
      },
      "source": [
        "id2word.get(maxWord)"
      ],
      "execution_count": null,
      "outputs": [
        {
          "output_type": "execute_result",
          "data": {
            "application/vnd.google.colaboratory.intrinsic+json": {
              "type": "string"
            },
            "text/plain": [
              "'nhượt'"
            ]
          },
          "metadata": {
            "tags": []
          },
          "execution_count": 32
        }
      ]
    },
    {
      "cell_type": "markdown",
      "metadata": {
        "id": "a6ktfM-kb9g3"
      },
      "source": [
        "Fix lenght"
      ]
    },
    {
      "cell_type": "code",
      "metadata": {
        "id": "cIydiJo7b9RP"
      },
      "source": [
        "# fix độ dài cho câu\n",
        "X = [[word2id[word] for word in sentence.split(' ')] for sentence in data_train]\n",
        "X = sequence.pad_sequences(X, maxWord)\n",
        "Y = labels\n",
        "le = LabelEncoder()\n",
        "Y = le.fit_transform(Y)\n",
        "#Y = Y.reshape(-1,1)\n",
        "Y_train = keras.utils.to_categorical(Y, num_classes=4)"
      ],
      "execution_count": null,
      "outputs": []
    },
    {
      "cell_type": "code",
      "metadata": {
        "id": "z4UOQzn_o_DZ",
        "colab": {
          "base_uri": "https://localhost:8080/"
        },
        "outputId": "20606aeb-b85f-4dd8-d473-2402f50ceb6a"
      },
      "source": [
        "(X.shape,Y_train.shape)"
      ],
      "execution_count": null,
      "outputs": [
        {
          "output_type": "execute_result",
          "data": {
            "text/plain": [
              "((294752, 2359), (294752, 4))"
            ]
          },
          "metadata": {
            "tags": []
          },
          "execution_count": 34
        }
      ]
    },
    {
      "cell_type": "markdown",
      "metadata": {
        "id": "LIS5HA6jb4Eh"
      },
      "source": [
        "hôm qua tao ghi lộn :(((\r\n",
        "  soryy phú\r\n",
        "  đụ má nguyên cái embexding maxtrix ra 0 00 0 0 0  0 0 hết"
      ]
    },
    {
      "cell_type": "code",
      "metadata": {
        "colab": {
          "base_uri": "https://localhost:8080/"
        },
        "id": "tnXVjNF3fLle",
        "outputId": "00974373-a83d-4ab0-ecd3-9546a7050b13"
      },
      "source": [
        "model_fasttext = FastText(size=350, window=15, min_count=3, workers=4, sg=1)\r\n",
        "model_fasttext.build_vocab(data_ft)\r\n",
        "model_fasttext.train(data_ft, total_examples = model_fasttext.corpus_count, epochs = model_fasttext.iter)"
      ],
      "execution_count": null,
      "outputs": [
        {
          "output_type": "stream",
          "text": [
            "/usr/local/lib/python3.6/dist-packages/ipykernel_launcher.py:3: DeprecationWarning: Call to deprecated `iter` (Attribute will be removed in 4.0.0, use self.epochs instead).\n",
            "  This is separate from the ipykernel package so we can avoid doing imports until\n"
          ],
          "name": "stderr"
        }
      ]
    },
    {
      "cell_type": "code",
      "metadata": {
        "id": "u0k0OM1zftgD"
      },
      "source": [
        "word2id = dict({'':0})\r\n",
        "max_words = 200\r\n",
        "\r\n",
        "for sentence in data_train:\r\n",
        "  s = sentence.split(' ')\r\n",
        "  for word in s:\r\n",
        "    if word not in word2id:\r\n",
        "      word2id[word] = len(word2id)\r\n",
        "\r\n",
        "id2word = {v: k for k, v in word2id.items()}"
      ],
      "execution_count": null,
      "outputs": []
    },
    {
      "cell_type": "code",
      "metadata": {
        "id": "pV16Kb79fyHr"
      },
      "source": [
        "X = [[word2id[word] for word in sentence.split(' ')] for sentence in data_train]\r\n",
        "X_train = sequence.pad_sequences(X, max_words)"
      ],
      "execution_count": null,
      "outputs": []
    },
    {
      "cell_type": "code",
      "metadata": {
        "id": "glmUoc1mlG0x",
        "colab": {
          "base_uri": "https://localhost:8080/"
        },
        "outputId": "0012bacf-5229-44d5-d884-2b80ab943af4"
      },
      "source": [
        "# embedding matrix\r\n",
        "print('preparing embedding matrix...')\r\n",
        "\r\n",
        "MAX_NB_WORDS = 100000\r\n",
        "words_not_found = []\r\n",
        "embedding_dim = 350 # The dimension of word embeddings\r\n",
        "nb_words = min(MAX_NB_WORDS, len(word2id))\r\n",
        "\r\n",
        "# Với mỗi từ trong câu, lưu lại word vector phụ vụ để huấn luyện mô hình\r\n",
        "embedding_matrix = np.zeros((nb_words, embedding_dim))\r\n",
        "for word, i in word2id.items():\r\n",
        "  try:\r\n",
        "    if i >= nb_words:\r\n",
        "      continue\r\n",
        "    embedding_vector = model_fasttext[word]\r\n",
        "    if (embedding_vector is not None) and len(embedding_vector) > 0:\r\n",
        "      embedding_matrix[i] = embedding_vector\r\n",
        "\r\n",
        "    else:\r\n",
        "      words_not_found.append(word)\r\n",
        "  except:\r\n",
        "    words_not_found.append(word)\r\n",
        "print('number of null word embeddings: %d' % np.sum(np.sum(embedding_matrix, axis=1) == 0))\r\n"
      ],
      "execution_count": null,
      "outputs": [
        {
          "output_type": "stream",
          "text": [
            "preparing embedding matrix...\n",
            "number of null word embeddings: 1\n"
          ],
          "name": "stdout"
        },
        {
          "output_type": "stream",
          "text": [
            "/usr/local/lib/python3.6/dist-packages/ipykernel_launcher.py:15: DeprecationWarning: Call to deprecated `__getitem__` (Method will be removed in 4.0.0, use self.wv.__getitem__() instead).\n",
            "  from ipykernel import kernelapp as app\n"
          ],
          "name": "stderr"
        }
      ]
    },
    {
      "cell_type": "code",
      "metadata": {
        "id": "lU0jveOoUJS9"
      },
      "source": [
        "x_train, x_test, y_train, y_test = train_test_split(X_train,Y_train,test_size=0.18)"
      ],
      "execution_count": null,
      "outputs": []
    },
    {
      "cell_type": "markdown",
      "metadata": {
        "id": "AkwwWgfDmfCo"
      },
      "source": [
        "**build model 1**"
      ]
    },
    {
      "cell_type": "code",
      "metadata": {
        "id": "v0BZEh4DmeEJ"
      },
      "source": [
        "# import tensorflow as tf\r\n",
        "# from keras.initializers import Constant\r\n",
        "# callback = tf.keras.callbacks.ModelCheckpoint(\r\n",
        "#     filepath=\"/content/drive/MyDrive/Colab Notebooks/Report2NLP/input/model_predict/model128.h5\", \r\n",
        "#     verbose=1, \r\n",
        "#     save_weights_only=True,\r\n",
        "#     save_freq=5*32)\r\n",
        "\r\n",
        "# model = Sequential()\r\n",
        "\r\n",
        "# model.add(\r\n",
        "#           Embedding(\r\n",
        "#                       lenWord,\r\n",
        "#                       embedding_dim, \r\n",
        "#                       embeddings_initializer=Constant(embedding_matrix),\r\n",
        "#                       input_length=maxWord\r\n",
        "#                     )\r\n",
        "#         )\r\n",
        "# model.add(Bidirectional(LSTM(128, return_sequences=True)))\r\n",
        "# # # model.add(Dropout(0.5))x1\r\n",
        "# # model.add(Dense(4, activation='softmax'))\r\n",
        "# model.add(Dropout(0.2))\r\n",
        "# model.add(LSTM(64))\r\n",
        "# model.add(Dropout(0.5))\r\n",
        "\r\n",
        "# model.add(Dense(4, activation=\"softmax\"))\r\n",
        "\r\n",
        "# model.compile(loss='categorical_crossentropy',optimizer='adam', metrics=['accuracy'])\r\n",
        "# model.summary()\r\n",
        "# # model1.save('/content/drive/MyDrive/Colab Notebooks/Report2NLP/input/model_predict/model.h5')"
      ],
      "execution_count": null,
      "outputs": []
    },
    {
      "cell_type": "code",
      "metadata": {
        "colab": {
          "base_uri": "https://localhost:8080/"
        },
        "id": "77tMweYfwgHZ",
        "outputId": "5b00a9bd-569d-4f6a-978c-81696db4e499"
      },
      "source": [
        "import tensorflow as tf\r\n",
        "from keras.initializers import Constant\r\n",
        "from keras.callbacks import ModelCheckpoint, EarlyStopping, ReduceLROnPlateau\r\n",
        "\r\n",
        "\r\n",
        "patience = 50\r\n",
        "base_path='/content/drive/MyDrive/Colab Notebooks/Report2NLP/input/model_predict/'\r\n",
        "early_stop = EarlyStopping('val_loss', patience=patience)\r\n",
        "\r\n",
        "reduce_lr = ReduceLROnPlateau('val_loss', factor=0.1,\r\n",
        "                              patience=int(patience/4), verbose=1)\r\n",
        "\r\n",
        "trained_models_path = base_path + 'BI_LSTM_CNN'\r\n",
        "model_names = trained_models_path + '.{epoch:02d}.hdf5'\r\n",
        "\r\n",
        "model_checkpoint = ModelCheckpoint(model_names, 'val_loss', verbose=1,\r\n",
        "                                   save_best_only=True)\r\n",
        "\r\n",
        "callback = [model_checkpoint, early_stop, reduce_lr]\r\n",
        "\r\n",
        "# callback = tf.keras.callbacks.ModelCheckpoint(\r\n",
        "    # filepath=\"/content/drive/MyDrive/Colab Notebooks/Report2NLP/input/model_predict/model12899.hdf5\", \r\n",
        "    # verbose=1, \r\n",
        "    # # save_weights_only=True,\r\n",
        "    # save_freq=\"epoch\")\r\n",
        "\r\n",
        "model=Sequential()\r\n",
        "model.add(Embedding(len(word2id),\r\n",
        "    embedding_dim,\r\n",
        "    embeddings_initializer=Constant(embedding_matrix),\r\n",
        "    input_length=max_words))\r\n",
        "\r\n",
        "model.add(Bidirectional(LSTM(512, return_sequences=True)))\r\n",
        "model.add(Dropout(0.5))\r\n",
        "\r\n",
        "model.add(Conv1D(32,3,activation='relu'))\r\n",
        "model.add(MaxPooling1D())\r\n",
        "\r\n",
        "model.add(Conv1D(64,3,activation='relu'))\r\n",
        "model.add(MaxPooling1D())\r\n",
        "\r\n",
        "model.add(Conv1D(128,3,activation='relu'))\r\n",
        "model.add(MaxPooling1D())\r\n",
        "\r\n",
        "model.add(Flatten())\r\n",
        "model.add(Dense(1024,activation='relu'))\r\n",
        "model.add(Dropout(0.2))\r\n",
        "model.add(Dense(4,activation='softmax'))\r\n",
        "\r\n",
        "model.compile(loss = 'categorical_crossentropy',optimizer = 'adam', metrics = ['accuracy'])\r\n",
        "model.summary()"
      ],
      "execution_count": null,
      "outputs": [
        {
          "output_type": "stream",
          "text": [
            "Model: \"sequential_4\"\n",
            "_________________________________________________________________\n",
            "Layer (type)                 Output Shape              Param #   \n",
            "=================================================================\n",
            "embedding_4 (Embedding)      (None, 200, 350)          4532850   \n",
            "_________________________________________________________________\n",
            "bidirectional_4 (Bidirection (None, 200, 1024)         3534848   \n",
            "_________________________________________________________________\n",
            "dropout_8 (Dropout)          (None, 200, 1024)         0         \n",
            "_________________________________________________________________\n",
            "conv1d_12 (Conv1D)           (None, 198, 32)           98336     \n",
            "_________________________________________________________________\n",
            "max_pooling1d_12 (MaxPooling (None, 99, 32)            0         \n",
            "_________________________________________________________________\n",
            "conv1d_13 (Conv1D)           (None, 97, 64)            6208      \n",
            "_________________________________________________________________\n",
            "max_pooling1d_13 (MaxPooling (None, 48, 64)            0         \n",
            "_________________________________________________________________\n",
            "conv1d_14 (Conv1D)           (None, 46, 128)           24704     \n",
            "_________________________________________________________________\n",
            "max_pooling1d_14 (MaxPooling (None, 23, 128)           0         \n",
            "_________________________________________________________________\n",
            "flatten_4 (Flatten)          (None, 2944)              0         \n",
            "_________________________________________________________________\n",
            "dense_8 (Dense)              (None, 1024)              3015680   \n",
            "_________________________________________________________________\n",
            "dropout_9 (Dropout)          (None, 1024)              0         \n",
            "_________________________________________________________________\n",
            "dense_9 (Dense)              (None, 4)                 4100      \n",
            "=================================================================\n",
            "Total params: 11,216,726\n",
            "Trainable params: 11,216,726\n",
            "Non-trainable params: 0\n",
            "_________________________________________________________________\n"
          ],
          "name": "stdout"
        }
      ]
    },
    {
      "cell_type": "code",
      "metadata": {
        "colab": {
          "base_uri": "https://localhost:8080/"
        },
        "id": "QY5C3uCVTifq",
        "outputId": "0cd4739b-7075-40cd-8ca1-ba30d16166c1"
      },
      "source": [
        "train_history = model.fit(\r\n",
        "    x_train, y_train,\r\n",
        "    batch_size=1024,\r\n",
        "    epochs=1,\r\n",
        "    callbacks=callback,\r\n",
        "    validation_data = (x_test, y_test)\r\n",
        ")"
      ],
      "execution_count": null,
      "outputs": [
        {
          "output_type": "stream",
          "text": [
            "237/237 [==============================] - ETA: 0s - loss: 0.8196 - accuracy: 0.6397\n",
            "Epoch 00001: val_loss improved from inf to 0.70098, saving model to /content/drive/MyDrive/Colab Notebooks/Report2NLP/input/model_predict/BI_LSTM_CNN.01.hdf5\n",
            "237/237 [==============================] - 455s 2s/step - loss: 0.8196 - accuracy: 0.6397 - val_loss: 0.7010 - val_accuracy: 0.7025\n"
          ],
          "name": "stdout"
        }
      ]
    },
    {
      "cell_type": "code",
      "metadata": {
        "id": "ooJkdHWrou4T"
      },
      "source": [
        "plt.plot(train_history.history['accuracy'])\r\n",
        "plt.plot(train_history.history['val_accuracy'])\r\n",
        "plt.title('Train History')\r\n",
        "plt.legend(['train', 'validation'], loc='upper left')\r\n",
        "plt.show()\r\n",
        "plt.plot(train_history.history['loss'])\r\n",
        "plt.plot(train_history.history['val_loss'])\r\n",
        "plt.title('model loss')\r\n",
        "plt.ylabel('loss')\r\n",
        "plt.xlabel('epoch')\r\n",
        "plt.legend(['train', 'val'], loc='upper left')\r\n",
        "plt.show()"
      ],
      "execution_count": null,
      "outputs": []
    }
  ]
}